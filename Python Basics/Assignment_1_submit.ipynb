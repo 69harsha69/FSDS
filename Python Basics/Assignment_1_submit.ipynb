{
 "cells": [
  {
   "cell_type": "markdown",
   "id": "eb8a7422",
   "metadata": {},
   "source": [
    "### 1. In the below elements which of them are values or an expression? eg:- values can be integer or string and expressions will be mathematical operators.\n",
    "* \n",
    "'hello'\n",
    "-87.8\n",
    "- \n",
    "/ \n",
    "+\n",
    "6 \n",
    "\n",
    "ans:\n",
    "* \"hello\" here is a string.anything within '' or \"\" is a string value in python\n",
    "* 87.8 is float value\n",
    "* / is a divide mathematical operator.let a,b be integers then a/b is an expression\n",
    "* 6 is an Integer value \n"
   ]
  },
  {
   "cell_type": "markdown",
   "id": "a45d805b",
   "metadata": {},
   "source": [
    "### 2. What is the difference between string and variable?\n",
    "\n",
    "ans:\n",
    "\n",
    "**string** is a datatype which represents a sequence of combination of characters,numbers and special expressions.  \n",
    "**Variables** are containers which are able to store values of a single datatype.The system allocates a certain memory to the variable based on the datatype the variable is storing.\n",
    "\n",
    "**ex:** a = \"sup\" ==> here a is variable which is stroing \"sup\" string in it.In out program \"sup\" can be represented as a.\n",
    "\n",
    "greetings = [\"hi\" ,\"hello\" ,\"sup\"]  ==> here greetings varaible stores a number of strings in a form of sequential containers \n",
    "\n"
   ]
  },
  {
   "cell_type": "markdown",
   "id": "0a91d3f1",
   "metadata": {},
   "source": [
    "### 3.Describe three different data types.\n",
    "\n",
    "ans:\n",
    "\n",
    "**int** : is an integer data type which represents whole numbers,+ve or -ve,without decimals based on the memory available.(usually represented as bits(n) ranging from -2**n-1 to 2**n-1) \n",
    "\n",
    "ex: 1, -324, 1231,23423 , -198232 etc\n",
    "\n",
    "**list** : stores a collection of same datatypes in a sequential format\n",
    "\n",
    "ex: [1,2,4,5,5,3] is a list of integers\n",
    "    [1.23, 12.3 , 4.999999] is a list of float values\n",
    "    \n",
    "**class** : is a blueprint which defines some properties and behaviors.These are used to classify a set of objects with properties and behaviours of a well defined set.\n",
    "\n",
    "ex: cars is a class with objects like swift-desire,minicooper-adventure,bmw-3series,benz-aclass\n",
    "    trucks is a class with objects like isuzu-dmax,tesla-cybertruck,bharatbenx-1415r"
   ]
  },
  {
   "cell_type": "markdown",
   "id": "a4d15cc9",
   "metadata": {},
   "source": [
    "### 4. What is an expression made up of? What do all expressions do?\n",
    "\n",
    "ans:\n",
    "\n",
    "An expression is usually made up of combination of operands and operators.\n",
    "they are usually made to produce a certain type of result or value.\n",
    "\n",
    "ex: y = 2*x* + 3 in this equation 2*x*+3 is an expression and for a set of values of x we get a set of y values. "
   ]
  },
  {
   "cell_type": "markdown",
   "id": "849383ec",
   "metadata": {},
   "source": [
    "### 5. This assignment statements, like spam = 10. What is the difference between an expression and a statement?\n",
    "\n",
    "ans:\n",
    "\n",
    "This assignment statements pupose is to assign the object on the left to the variable on the right.Meanwhile an expression makes use of such variables to contruct a generic funciton with a set of rules.\n",
    "\n"
   ]
  },
  {
   "cell_type": "markdown",
   "id": "ee9b2059",
   "metadata": {},
   "source": [
    "### 6. After running the following code, what does the variable bacon contain?\n",
    "    bacon = 22\n",
    "    bacon + 1\n",
    "    \n",
    "ans:\n",
    "\n",
    "bacon = 22  ==> 22 is assigned to bacon \n",
    "bacon + 1 ==> if this is printed we get 22+1 = 23\n",
    "\n",
    "But bacon remains 22"
   ]
  },
  {
   "cell_type": "markdown",
   "id": "e2497bda",
   "metadata": {},
   "source": [
    "### 7. What should the values of the following two terms be?\n",
    "    'spam' + 'spamspam'\n",
    "    'spam' * 3\n",
    "    \n",
    "ans: \n",
    "\n",
    "'spam' + 'spamspam'  ==> string concatenation happens so 'spamspamspam'\n",
    "'spam' * 3  ==> string multiplication happens so 'spamspamspam'"
   ]
  },
  {
   "cell_type": "markdown",
   "id": "31c6797a",
   "metadata": {},
   "source": [
    "### 8. Why is eggs a valid variable name while 100 is invalid?\n",
    "\n",
    "ans:\n",
    "\n",
    "100 is an integer object meanwhile eggs is a varaible which is of unknown type and undefined.Thus 100+1 is valid and eggs+1 is invalid if eggs is not defined "
   ]
  },
  {
   "cell_type": "markdown",
   "id": "6d77d9e1",
   "metadata": {},
   "source": [
    "### 9. What three functions can be used to get the integer, floating-point number, or string version of a value?\n",
    "\n",
    "ans: for value = 56.234\n",
    "\n",
    "for integer int(value) = 56\n",
    "\n",
    "for floating-point number float(value) = 56.234\n",
    "\n",
    "for string ersion str(value) = '56.234'\n"
   ]
  },
  {
   "cell_type": "markdown",
   "id": "9de98fe8",
   "metadata": {},
   "source": [
    "### 10. Why does this expression cause an error? How can you fix it?\n",
    "###    ==> 'I have eaten ' + 99 + ' burritos.'\n",
    "\n",
    "ans:\n",
    "\n",
    "This can be concatenated if 99 is of string type ==> 'I have eaten ' + str(99) + ' burritos.'\n",
    "\n"
   ]
  }
 ],
 "metadata": {
  "kernelspec": {
   "display_name": "Python 3 (ipykernel)",
   "language": "python",
   "name": "python3"
  },
  "language_info": {
   "codemirror_mode": {
    "name": "ipython",
    "version": 3
   },
   "file_extension": ".py",
   "mimetype": "text/x-python",
   "name": "python",
   "nbconvert_exporter": "python",
   "pygments_lexer": "ipython3",
   "version": "3.9.12"
  }
 },
 "nbformat": 4,
 "nbformat_minor": 5
}
