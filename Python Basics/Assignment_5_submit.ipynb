{
 "cells": [
  {
   "cell_type": "markdown",
   "id": "ae32cc84",
   "metadata": {},
   "source": [
    "### 1. What does an empty dictionary&#39;s code look like?"
   ]
  },
  {
   "cell_type": "markdown",
   "id": "86844952",
   "metadata": {},
   "source": [
    "\n",
    "ans:\n",
    "\n",
    "Dictionary stores key:value pairs.empty dicitonary looks like ==>\n",
    "\n",
    "ex:\n",
    "empty_dict = {}"
   ]
  },
  {
   "cell_type": "markdown",
   "id": "f4cf674b",
   "metadata": {},
   "source": [
    "### 2. What is the value of a dictionary value with the key &#39;foo&#39; and the value 42?"
   ]
  },
  {
   "cell_type": "markdown",
   "id": "ffe43fd3",
   "metadata": {},
   "source": [
    "\n",
    "ans:\n",
    "\n",
    "dict = {'foo' : 42}"
   ]
  },
  {
   "cell_type": "markdown",
   "id": "8927a8f2",
   "metadata": {},
   "source": [
    "### 3. What is the most significant distinction between a dictionary and a list?"
   ]
  },
  {
   "cell_type": "markdown",
   "id": "8c1f3816",
   "metadata": {},
   "source": [
    "\n",
    "ans:\n",
    "\n",
    "Lists are accessed used indees meanwhile dictionaries used keys to access values.In dictionaries keys should be unique to avoid ambiguity\n"
   ]
  },
  {
   "cell_type": "markdown",
   "id": "bb7c7214",
   "metadata": {},
   "source": [
    "### 4. What happens if you try to access spam[&#39;foo&#39;] if spam is {&#39;bar&#39;: 100}?"
   ]
  },
  {
   "cell_type": "markdown",
   "id": "e8857852",
   "metadata": {},
   "source": [
    "\n",
    "ans:\n",
    "\n",
    "Keyerror is occured.This error occurs if the requested key is not present in the dictionary\n",
    "\n"
   ]
  },
  {
   "cell_type": "markdown",
   "id": "ec3e86a8",
   "metadata": {},
   "source": [
    "### 5. If a dictionary is stored in spam, what is the difference between the expressions &#39;cat&#39; in spam and &#39;cat&#39; in spam.keys()?"
   ]
  },
  {
   "cell_type": "markdown",
   "id": "a375efd9",
   "metadata": {},
   "source": [
    "\n",
    "ans:\n",
    "\n",
    "there is no difference both check the availability of 'cat' key in the keys associated with spam dicitonary and return a boolean value"
   ]
  },
  {
   "cell_type": "markdown",
   "id": "21ff2f40",
   "metadata": {},
   "source": [
    "### 6. If a dictionary is stored in spam, what is the difference between the expressions &#39;cat&#39; in spam and &#39;cat&#39; in spam.values()?"
   ]
  },
  {
   "cell_type": "markdown",
   "id": "1f2ff41a",
   "metadata": {},
   "source": [
    "\n",
    "ans:\n",
    "\n",
    "'cat' in spam checks the availability of 'cat' in the keys\n",
    "\n",
    "'cat' in spam.values() checks availability of 'cat' in the values"
   ]
  },
  {
   "cell_type": "markdown",
   "id": "b67df13d",
   "metadata": {},
   "source": [
    "### 7. What is a shortcut for the following code?\n",
    "if &#39;color&#39; not in spam:\n",
    "spam[&#39;color&#39;] = &#39;black&#39;"
   ]
  },
  {
   "cell_type": "code",
   "execution_count": 11,
   "id": "120bb399",
   "metadata": {},
   "outputs": [
    {
     "data": {
      "text/plain": [
       "{'cat': 5, 'color': 'black'}"
      ]
     },
     "execution_count": 11,
     "metadata": {},
     "output_type": "execute_result"
    }
   ],
   "source": [
    "spam.setdefault('color','black')\n",
    "spam"
   ]
  },
  {
   "cell_type": "markdown",
   "id": "255ba128",
   "metadata": {},
   "source": [
    "### 8. How do you &quot;pretty print&quot; dictionary values using which module and function?"
   ]
  },
  {
   "cell_type": "code",
   "execution_count": 14,
   "id": "e8369084",
   "metadata": {},
   "outputs": [
    {
     "name": "stdout",
     "output_type": "stream",
     "text": [
      "{'cat': 5, 'color': 'black'}\n"
     ]
    }
   ],
   "source": [
    "#from pprint module pprint funciton is imported\n",
    "from pprint import pprint\n",
    "\n",
    "pprint(spam)"
   ]
  },
  {
   "cell_type": "markdown",
   "id": "34a84bac",
   "metadata": {},
   "source": [
    "This is beautification module which structes the python data in more readable way"
   ]
  }
 ],
 "metadata": {
  "kernelspec": {
   "display_name": "Python 3 (ipykernel)",
   "language": "python",
   "name": "python3"
  },
  "language_info": {
   "codemirror_mode": {
    "name": "ipython",
    "version": 3
   },
   "file_extension": ".py",
   "mimetype": "text/x-python",
   "name": "python",
   "nbconvert_exporter": "python",
   "pygments_lexer": "ipython3",
   "version": "3.9.12"
  }
 },
 "nbformat": 4,
 "nbformat_minor": 5
}
