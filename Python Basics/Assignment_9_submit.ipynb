{
 "cells": [
  {
   "cell_type": "markdown",
   "id": "43ad95e9",
   "metadata": {},
   "source": [
    "### 1. To what does a relative path refer?\n",
    "\n",
    "ans: \n",
    "\n",
    "When an application is developed often its handled my multiple people.When there are files involved in the project folder which needs to be accessed in script a hardcoded solution is not preferred\n",
    "\n",
    "Absolute path - os.path.dirname(\\__file\\__) this is the file location of you root file (project folder)\n",
    "Relative path - is path that describes the location of files or directories on the absolute path\n",
    "\n",
    "==>from this point file loactions are similar to everyone"
   ]
  },
  {
   "cell_type": "markdown",
   "id": "16e7ac03",
   "metadata": {},
   "source": [
    "### 2. What does an absolute path start with your operating system?\n",
    "\n",
    "ans:\n",
    "\n",
    "Usually its starts at the home directory of the computer which is the absolute start of harddrive"
   ]
  },
  {
   "attachments": {},
   "cell_type": "markdown",
   "id": "74cd54dc",
   "metadata": {},
   "source": [
    "### 3. What do the functions os.getcwd() and os.chdir() do?\n",
    "\n",
    "ans:\n",
    "\n",
    "os.getcwd()- returns the path of the current working directory<br>\n",
    "os.chdir(path) - changes the current working directory to the path given"
   ]
  },
  {
   "cell_type": "code",
   "execution_count": 19,
   "id": "ca0083ac",
   "metadata": {},
   "outputs": [
    {
     "name": "stdout",
     "output_type": "stream",
     "text": [
      "D:\\python\\FSDS\\Assignments\\Python Basics\n"
     ]
    }
   ],
   "source": [
    "import os\n",
    "\n",
    "print(os.getcwd())"
   ]
  },
  {
   "cell_type": "markdown",
   "id": "ad2d81fc",
   "metadata": {},
   "source": [
    "### 4. What are the . and .. folders?\n",
    "\n",
    "    \n",
    "ans:\n",
    "\n",
    ". is used when you want to run any executables in current directory<br>\n",
    ".. is used to negative up the directory or to go to previous directory"
   ]
  },
  {
   "cell_type": "markdown",
   "id": "58a4b255",
   "metadata": {},
   "source": [
    "### 5. In C:\\bacon\\eggs\\spam.txt, which part is the dir name, and which part is the base name?\n",
    "\n",
    "ans:\n",
    "\n",
    "eggs is the dirname and spam.txt is basename\n"
   ]
  },
  {
   "cell_type": "markdown",
   "id": "c3eafc90",
   "metadata": {},
   "source": [
    "### 6. What are the three “mode” arguments that can be passed to the open() function?\n",
    "\n",
    "ans:\n",
    "\n",
    "r,w,a ==> read , write and append are corresponding more arguments"
   ]
  },
  {
   "cell_type": "markdown",
   "id": "f958bbc0",
   "metadata": {},
   "source": [
    "### 7. What happens if an existing file is opened in write mode?\n",
    "\n",
    "ans:\n",
    "\n",
    "It erases everything thats present in the file and writes freshly the information that you provide with"
   ]
  },
  {
   "cell_type": "markdown",
   "id": "46b8a8cd",
   "metadata": {},
   "source": [
    "### 8. How do you tell the difference between read() and readlines()?\n",
    "\n",
    "ans:\n",
    "\n",
    "read() returns you the collective string of all the information in the file without parsing<br>\n",
    "\n",
    "readlines() - returns a list of strings of all each line in each block "
   ]
  },
  {
   "cell_type": "markdown",
   "id": "3677d491",
   "metadata": {},
   "source": [
    "### 9. What data structure does a shelf value resemble?\n",
    "\n",
    "ans:\n",
    "\n",
    "It resembles a dictionay or hashmap data structure which works on key value pairs\n",
    "\n"
   ]
  }
 ],
 "metadata": {
  "kernelspec": {
   "display_name": "Python 3 (ipykernel)",
   "language": "python",
   "name": "python3"
  },
  "language_info": {
   "codemirror_mode": {
    "name": "ipython",
    "version": 3
   },
   "file_extension": ".py",
   "mimetype": "text/x-python",
   "name": "python",
   "nbconvert_exporter": "python",
   "pygments_lexer": "ipython3",
   "version": "3.9.12"
  }
 },
 "nbformat": 4,
 "nbformat_minor": 5
}
