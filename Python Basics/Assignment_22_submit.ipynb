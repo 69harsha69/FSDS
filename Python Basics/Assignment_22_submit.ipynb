{
 "cells": [
  {
   "cell_type": "markdown",
   "id": "ae32cc84",
   "metadata": {},
   "source": [
    "### 1. What is the result of the code, and explain?\n",
    "    >>> X = 'iNeuron'\n",
    "    >>> def func():\n",
    "    print(X)\n",
    "    >>> func()"
   ]
  },
  {
   "cell_type": "markdown",
   "id": "698241b1",
   "metadata": {},
   "source": [
    "result is iNeuron because funciton is printing global varaible X which is iNeuron"
   ]
  },
  {
   "cell_type": "markdown",
   "id": "f4cf674b",
   "metadata": {},
   "source": [
    "### 2. What is the result of the code, and explain?\n",
    "    >>> X = 'iNeuron'\n",
    "    >>> def func():\n",
    "    X = 'NI!'\n",
    "    >>> func()\n",
    "    >>> print(X)"
   ]
  },
  {
   "cell_type": "markdown",
   "id": "6be688ef",
   "metadata": {},
   "source": [
    "result is 'iNeuron' becasue func is overwriting the global variable X inside the funciton alone"
   ]
  },
  {
   "cell_type": "markdown",
   "id": "8927a8f2",
   "metadata": {},
   "source": [
    "### 3. What does this code print, and why?\n",
    "    >>> X = 'iNeuron'\n",
    "    >>> def func():\n",
    "    X = 'NI'\n",
    "    print(X)\n",
    "    >>> func()\n",
    "    >>> print(X)"
   ]
  },
  {
   "cell_type": "markdown",
   "id": "e3236ec2",
   "metadata": {},
   "source": [
    "first print is NI which happens inside func() and outer print prints 'iNeuron' which is unchanged\n"
   ]
  },
  {
   "cell_type": "markdown",
   "id": "bb7c7214",
   "metadata": {},
   "source": [
    "### 4. What output does this code produce? Why?\n",
    "    >>> X = 'iNeuron'\n",
    "    >>> def func():\n",
    "    global X\n",
    "    X = 'NI'\n",
    "    >>> func()\n",
    "    >>> print(X)"
   ]
  },
  {
   "cell_type": "markdown",
   "id": "a8199f5e",
   "metadata": {},
   "source": [
    "output is NI here inside the function global overwriting is happening"
   ]
  },
  {
   "cell_type": "markdown",
   "id": "ec3e86a8",
   "metadata": {},
   "source": [
    "### 5. What about this code—what’s the output, and why?\n",
    "    >>> X = 'iNeuron'\n",
    "    >>> def func():\n",
    "    X = 'NI'\n",
    "    def nested():\n",
    "    print(X)\n",
    "    nested()\n",
    "    >>> func()\n",
    "    >>> X"
   ]
  },
  {
   "cell_type": "markdown",
   "id": "029f3857",
   "metadata": {},
   "source": [
    "The outputs are NI and iNeuron.Inside funciton and further inside nested NI is printed and outer most varaible is unchanged"
   ]
  },
  {
   "cell_type": "markdown",
   "id": "21ff2f40",
   "metadata": {},
   "source": [
    "### 6. How about this code: what is its output in Python 3, and explain?\n",
    "    >>> def func():\n",
    "    X = 'NI'\n",
    "    def nested():\n",
    "    nonlocal X\n",
    "    X = 'Spam'\n",
    "    nested()\n",
    "    print(X)\n",
    "    >>> func()"
   ]
  },
  {
   "cell_type": "markdown",
   "id": "458749d8",
   "metadata": {},
   "source": [
    "In python Non local is used to declare variable which is not local.Here NI is local is declared in func() and the same is called inside nested and is replaced with Spam and its printed"
   ]
  }
 ],
 "metadata": {
  "kernelspec": {
   "display_name": "Python 3 (ipykernel)",
   "language": "python",
   "name": "python3"
  },
  "language_info": {
   "codemirror_mode": {
    "name": "ipython",
    "version": 3
   },
   "file_extension": ".py",
   "mimetype": "text/x-python",
   "name": "python",
   "nbconvert_exporter": "python",
   "pygments_lexer": "ipython3",
   "version": "3.9.12"
  }
 },
 "nbformat": 4,
 "nbformat_minor": 5
}
