{
 "cells": [
  {
   "cell_type": "markdown",
   "id": "30ccbb68",
   "metadata": {},
   "source": [
    "### 1. Write a Python program to find sum of elements in list?"
   ]
  },
  {
   "cell_type": "code",
   "execution_count": 6,
   "id": "0eefa5c7",
   "metadata": {
    "scrolled": true
   },
   "outputs": [
    {
     "name": "stdout",
     "output_type": "stream",
     "text": [
      "enter the size of the list : 10\n",
      "lsit is [2, 5, 9, 8, 4, 6, 9, 0, 8, 2]\n",
      "sum is = 53\n",
      "sum using inbuilt funciton is = 53\n"
     ]
    }
   ],
   "source": [
    "import random\n",
    "def add(l):\n",
    "    s = 0\n",
    "    for i in range(len(l)):\n",
    "        s+=l[i]\n",
    "    return s\n",
    "n = int(input(\"enter the size of the list : \"))\n",
    "\n",
    "l = [random.randint(0,9) for _ in range(n)]\n",
    "print(f\"lsit is {l}\")\n",
    "print(f\"sum is = {add(l)}\")\n",
    "print(f\"sum using inbuilt funciton is = {sum(l)}\")"
   ]
  },
  {
   "cell_type": "markdown",
   "id": "1e2a01b4",
   "metadata": {},
   "source": [
    "### 2. Write a Python program to Multiply all numbers in the list?"
   ]
  },
  {
   "cell_type": "code",
   "execution_count": 9,
   "id": "f52f98ec",
   "metadata": {
    "scrolled": true
   },
   "outputs": [
    {
     "name": "stdout",
     "output_type": "stream",
     "text": [
      "enter the size of the list : 10\n",
      "lsit is [1, 5, 3, 8, 8, 3, 7, 7, 9, 6]\n",
      "Product is = 7620480\n"
     ]
    }
   ],
   "source": [
    "def pro(l):\n",
    "    s = 1\n",
    "    for i in range(len(l)):\n",
    "        s*=l[i]\n",
    "    return s\n",
    "\n",
    "\n",
    "n = int(input(\"enter the size of the list : \"))\n",
    "l = [random.randint(1,9) for _ in range(n)]\n",
    "print(f\"lsit is {l}\")\n",
    "print(f\"Product is = {pro(l)}\")\n"
   ]
  },
  {
   "cell_type": "markdown",
   "id": "1f799a5d",
   "metadata": {},
   "source": [
    "### 3. Write a Python program to find smallest number in a list?"
   ]
  },
  {
   "cell_type": "code",
   "execution_count": 14,
   "id": "31a14bf5",
   "metadata": {},
   "outputs": [
    {
     "name": "stdout",
     "output_type": "stream",
     "text": [
      "enter the size of the list : 20\n",
      "lsit is [-614, 640, 925, -725, 856, 37, 659, -371, -410, 956, 169, -331, 284, -527, -484, -76, -456, 510, -440, -629]\n",
      "minimum is = -725\n",
      "minimum using inbuilt funciton is = -725\n"
     ]
    }
   ],
   "source": [
    "import math\n",
    "def mini(l):\n",
    "    res = math.inf\n",
    "    for i in range(len(l)):\n",
    "        if res > l[i]:\n",
    "            res = l[i]\n",
    "    return res\n",
    "\n",
    "\n",
    "n = int(input(\"enter the size of the list : \"))\n",
    "l = [random.randint(-1000,1000) for _ in range(n)]\n",
    "print(f\"lsit is {l}\")\n",
    "print(f\"minimum is = {mini(l)}\")\n",
    "print(f\"minimum using inbuilt funciton is = {min(l)}\")"
   ]
  },
  {
   "cell_type": "markdown",
   "id": "2c577e18",
   "metadata": {},
   "source": [
    "### 4. Write a Python program to find largest number in a list?"
   ]
  },
  {
   "cell_type": "code",
   "execution_count": 15,
   "id": "fae6883e",
   "metadata": {},
   "outputs": [
    {
     "name": "stdout",
     "output_type": "stream",
     "text": [
      "enter the size of the list : 20\n",
      "lsit is [-769, -266, -440, 652, 950, -61, 195, 541, -724, -237, 691, 467, 684, 567, -566, 273, -939, -608, -231, -649]\n",
      "maximum is = 950\n",
      "maximum using inbuilt funciton is = 950\n"
     ]
    }
   ],
   "source": [
    "def maxi(l):\n",
    "    res = -math.inf\n",
    "    for i in range(len(l)):\n",
    "        if res < l[i]:\n",
    "            res = l[i]\n",
    "    return res\n",
    "\n",
    "\n",
    "n = int(input(\"enter the size of the list : \"))\n",
    "l = [random.randint(-1000,1000) for _ in range(n)]\n",
    "print(f\"lsit is {l}\")\n",
    "print(f\"maximum is = {maxi(l)}\")\n",
    "print(f\"maximum using inbuilt funciton is = {max(l)}\")"
   ]
  },
  {
   "cell_type": "markdown",
   "id": "1775af9c",
   "metadata": {},
   "source": [
    "### 5. Write a Python program to find second largest number in a list?"
   ]
  },
  {
   "cell_type": "code",
   "execution_count": 18,
   "id": "90760dfb",
   "metadata": {},
   "outputs": [
    {
     "name": "stdout",
     "output_type": "stream",
     "text": [
      "enter the size of the list : 15\n",
      "lsit is [436, 627, 816, -290, -470, 359, -951, 614, 747, 852, -684, 106, -23, 505, 472]\n",
      "second maximum is = 816\n"
     ]
    }
   ],
   "source": [
    "def max2(l):\n",
    "    fir = -math.inf\n",
    "    sec = -math.inf\n",
    "    for i in range(len(l)):\n",
    "        if fir < l[i]:\n",
    "            sec = fir\n",
    "            fir = l[i]\n",
    "        elif(sec < l[i] and fir > l[i]):\n",
    "            sec = l[i]\n",
    "    return sec\n",
    "\n",
    "\n",
    "n = int(input(\"enter the size of the list : \"))\n",
    "l = [random.randint(-1000,1000) for _ in range(n)]\n",
    "print(f\"lsit is {l}\")\n",
    "print(f\"second maximum is = {max2(l)}\")\n"
   ]
  },
  {
   "cell_type": "markdown",
   "id": "e8e5c6dc",
   "metadata": {},
   "source": [
    "### 6. Write a Python program to find N largest elements from a list?"
   ]
  },
  {
   "cell_type": "code",
   "execution_count": 20,
   "id": "1b150da5",
   "metadata": {},
   "outputs": [
    {
     "name": "stdout",
     "output_type": "stream",
     "text": [
      "enter the size of the list : 15\n",
      "lsit is [997, -890, -412, -636, 756, 7, -260, -189, -948, 281, 753, -871, 296, 374, -3]\n",
      "n largest elements are = [997, 756, 753, 374, 296]\n"
     ]
    }
   ],
   "source": [
    "def maxn(l,n):\n",
    "    l = sorted(l,reverse=True)\n",
    "    return l[:n]\n",
    "    \n",
    "\n",
    "n = int(input(\"enter the size of the list : \"))\n",
    "l = [random.randint(-1000,1000) for _ in range(n)]\n",
    "print(f\"lsit is {l}\")\n",
    "print(f\"n largest elements are = {maxn(l,5)}\")"
   ]
  },
  {
   "cell_type": "markdown",
   "id": "d5e54fd2",
   "metadata": {},
   "source": [
    "### 7. Write a Python program to print even numbers in a list?"
   ]
  },
  {
   "cell_type": "code",
   "execution_count": 21,
   "id": "fb3ac5f5",
   "metadata": {},
   "outputs": [
    {
     "name": "stdout",
     "output_type": "stream",
     "text": [
      "enter the size of the list : 10\n",
      "lsit is [896, -182, -823, -154, 592, -567, 426, 67, -825, 730]\n",
      "896 -182 -154 592 426 730 "
     ]
    }
   ],
   "source": [
    "def even_print(l):\n",
    "    for i in range(len(l)):\n",
    "        if l[i]%2==0:\n",
    "            print(l[i],end=\" \")\n",
    "    \n",
    "    \n",
    "\n",
    "n = int(input(\"enter the size of the list : \"))\n",
    "l = [random.randint(-1000,1000) for _ in range(n)]\n",
    "print(f\"lsit is {l}\")\n",
    "even_print(l)"
   ]
  },
  {
   "cell_type": "markdown",
   "id": "99c38fdd",
   "metadata": {},
   "source": [
    "### 8. Write a Python program to print odd numbers in a List?"
   ]
  },
  {
   "cell_type": "code",
   "execution_count": 22,
   "id": "46189855",
   "metadata": {
    "scrolled": true
   },
   "outputs": [
    {
     "name": "stdout",
     "output_type": "stream",
     "text": [
      "enter the size of the list : 15\n",
      "lsit is [-788, -701, 960, 501, 103, -784, 460, -1000, -722, 634, 655, 892, -915, 215, 782]\n",
      "-701 501 103 655 -915 215 "
     ]
    }
   ],
   "source": [
    "def odd_print(l):\n",
    "    for i in range(len(l)):\n",
    "        if l[i]%2!=0:\n",
    "            print(l[i],end=\" \")\n",
    "    \n",
    "    \n",
    "\n",
    "n = int(input(\"enter the size of the list : \"))\n",
    "l = [random.randint(-1000,1000) for _ in range(n)]\n",
    "print(f\"lsit is {l}\")\n",
    "odd_print(l)"
   ]
  },
  {
   "cell_type": "markdown",
   "id": "fad7fdcc",
   "metadata": {},
   "source": [
    "### 9. Write a Python program to Remove empty List from List?"
   ]
  },
  {
   "cell_type": "code",
   "execution_count": 28,
   "id": "4c7c2c06",
   "metadata": {
    "scrolled": true
   },
   "outputs": [
    {
     "name": "stdout",
     "output_type": "stream",
     "text": [
      "enter the size of the list : 10\n",
      "lsit is [[0.0], [0.0], [0.0, 0.0], [0.0, 0.0, 0.0], [0.0, 0.0, 0.0], [0.0], [0.0, 0.0, 0.0], [], [], [0.0, 0.0, 0.0]]\n",
      "after eliminatiing empty lists = [[0.0], [0.0], [0.0, 0.0], [0.0, 0.0, 0.0], [0.0, 0.0, 0.0], [0.0], [0.0, 0.0, 0.0], [0.0, 0.0, 0.0]]\n"
     ]
    }
   ],
   "source": [
    "import numpy as np\n",
    "\n",
    "def elimnate(l):\n",
    "    l_res = []\n",
    "    for i in range(len(l)):\n",
    "        if(len(l[i])!=0):\n",
    "            l_res.append(l[i])\n",
    "    return l_res\n",
    "\n",
    "n = int(input(\"enter the size of the list : \"))\n",
    "l = [list(np.zeros(random.randint(0,3))) for _ in range(n)]\n",
    "print(f\"lsit is {l}\")\n",
    "print(f\"after eliminatiing empty lists = {elimnate(l)}\")"
   ]
  },
  {
   "cell_type": "markdown",
   "id": "426f01cf",
   "metadata": {},
   "source": [
    "### 10. Write a Python program to Cloning or Copying a list?"
   ]
  },
  {
   "cell_type": "code",
   "execution_count": 36,
   "id": "8b4c1d28",
   "metadata": {},
   "outputs": [
    {
     "name": "stdout",
     "output_type": "stream",
     "text": [
      "enter the size of the list : 10\n",
      "lsit is [3, 4, 5, 0, 6, 4, 2, 5, 9, 7]\n",
      "1692090172032 1692088964864\n"
     ]
    }
   ],
   "source": [
    "def copy(l):\n",
    "    return l.copy()\n",
    "\n",
    "n = int(input(\"enter the size of the list : \"))\n",
    "l = [random.randint(0,10) for _ in range(n)]\n",
    "print(f\"lsit is {l}\")\n",
    "lcopy = copy(l)\n",
    "print(id(lcopy),id(l))"
   ]
  },
  {
   "cell_type": "markdown",
   "id": "1ee856e0",
   "metadata": {},
   "source": [
    "### 11. Write a Python program to Count occurrences of an element in a list?"
   ]
  },
  {
   "cell_type": "code",
   "execution_count": 39,
   "id": "820127ac",
   "metadata": {},
   "outputs": [
    {
     "name": "stdout",
     "output_type": "stream",
     "text": [
      "enter the size of the list : 15\n",
      "lsit is [5, 5, 3, 1, 4, 2, 3, 2, 1, 2, 3, 5, 1, 3, 3]\n",
      "count of 3 in list is 5\n",
      "count of 3 using inbuilt function 5\n"
     ]
    }
   ],
   "source": [
    "def count(l,n):\n",
    "    c = 0\n",
    "    for i in l:\n",
    "        if i==n:\n",
    "            c+=1\n",
    "    return c\n",
    "\n",
    "\n",
    "n = int(input(\"enter the size of the list : \"))\n",
    "l = [random.randint(1,5) for _ in range(n)]\n",
    "print(f\"lsit is {l}\")\n",
    "print(f\"count of 3 in list is {count(l,3)}\")\n",
    "print(f\"count of 3 using inbuilt function {l.count(3)}\")"
   ]
  }
 ],
 "metadata": {
  "kernelspec": {
   "display_name": "Python 3 (ipykernel)",
   "language": "python",
   "name": "python3"
  },
  "language_info": {
   "codemirror_mode": {
    "name": "ipython",
    "version": 3
   },
   "file_extension": ".py",
   "mimetype": "text/x-python",
   "name": "python",
   "nbconvert_exporter": "python",
   "pygments_lexer": "ipython3",
   "version": "3.9.12"
  }
 },
 "nbformat": 4,
 "nbformat_minor": 5
}
