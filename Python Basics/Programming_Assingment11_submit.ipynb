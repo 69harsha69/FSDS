{
 "cells": [
  {
   "cell_type": "markdown",
   "id": "a764ad0e",
   "metadata": {},
   "source": [
    "### 1. Write a Python program to find words which are greater than given length k?"
   ]
  },
  {
   "cell_type": "code",
   "execution_count": 6,
   "id": "58c125bd",
   "metadata": {},
   "outputs": [
    {
     "name": "stdout",
     "output_type": "stream",
     "text": [
      "Enter a string length limit : 3\n",
      "string list is ['g', 'uav', 'l', 'rpwnn', 'ytd', 'hijfrb', 'zv', 'q', 'p', 'uitti']\n",
      "printing words graeter than length {k}\n",
      "rpwnn\n",
      "hijfrb\n",
      "uitti\n"
     ]
    }
   ],
   "source": [
    "import string,random\n",
    "\n",
    "def rand_str():\n",
    "    res = \"\".join(random.choices(string.ascii_lowercase,k=random.randint(1,6)))\n",
    "    return res\n",
    "def strk(str_list,k):\n",
    "    for s in str_list:\n",
    "        if len(s)>k:\n",
    "            print(s)\n",
    "\n",
    "k = int(input(\"Enter a string length limit : \"))\n",
    "string_list = [rand_str() for _ in range(10)]\n",
    "print(f\"string list is {string_list}\")\n",
    "print(\"printing words graeter than length {k}\")\n",
    "strk(string_list,k)"
   ]
  },
  {
   "cell_type": "markdown",
   "id": "7bfb7f80",
   "metadata": {},
   "source": [
    "### 2. Write a Python program for removing i-th character from a string?"
   ]
  },
  {
   "cell_type": "code",
   "execution_count": 30,
   "id": "b68446c9",
   "metadata": {},
   "outputs": [
    {
     "name": "stdout",
     "output_type": "stream",
     "text": [
      "Enter any string :string \n",
      "index of string you want ot remove :2\n",
      "sting \n"
     ]
    }
   ],
   "source": [
    "def removei(string,i):\n",
    "    return string.replace(string[i],\"\")\n",
    "\n",
    "string = input(\"Enter any string :\")\n",
    "i = int(input(\"index of string you want ot remove :\"))\n",
    "print(removei(string,i))"
   ]
  },
  {
   "cell_type": "markdown",
   "id": "67d46d66",
   "metadata": {},
   "source": [
    "### 3. Write a Python program to split and join a string?"
   ]
  },
  {
   "cell_type": "code",
   "execution_count": 33,
   "id": "c4031fb7",
   "metadata": {},
   "outputs": [
    {
     "name": "stdout",
     "output_type": "stream",
     "text": [
      "Enter any sentence :this is so good\n",
      "this_is_so_good\n"
     ]
    }
   ],
   "source": [
    "def split_join(string,s_char,j_char):\n",
    "    \"\"\"\n",
    "    splits string using s_char and joins unsing j_char\n",
    "    \"\"\"\n",
    "    s = string.split(s_char)\n",
    "    return j_char.join(s)\n",
    "\n",
    "sen = input(\"Enter any sentence :\")\n",
    "print(split_join(sen,\" \",\"_\"))"
   ]
  },
  {
   "cell_type": "markdown",
   "id": "dbb902b0",
   "metadata": {},
   "source": [
    "### 4. Write a Python to check if a given string is binary string or not?"
   ]
  },
  {
   "cell_type": "code",
   "execution_count": 41,
   "id": "4dc57051",
   "metadata": {},
   "outputs": [
    {
     "name": "stdout",
     "output_type": "stream",
     "text": [
      "Enter any string :1011001\n",
      "result of binarystring check is True\n"
     ]
    }
   ],
   "source": [
    "#binary string only has 0 and 1\n",
    "def checkbin(string):\n",
    "    for i in string:\n",
    "        if((i!='0') and (i!='1')):\n",
    "            return False\n",
    "    return True\n",
    "\n",
    "sen = input(\"Enter any string :\")\n",
    "print(f\"result of binarystring check is {checkbin(sen)}\")"
   ]
  },
  {
   "cell_type": "markdown",
   "id": "5649c749",
   "metadata": {},
   "source": [
    "### 5. Write a Python program to find uncommon words from two Strings?"
   ]
  },
  {
   "cell_type": "code",
   "execution_count": 42,
   "id": "ef4e9e99",
   "metadata": {
    "scrolled": true
   },
   "outputs": [
    {
     "name": "stdout",
     "output_type": "stream",
     "text": [
      "Enter any  string :i have a pen\n",
      "Enter any  string :i have a pineapple\n",
      "['pen', 'pineapple']\n"
     ]
    }
   ],
   "source": [
    "#a simlpe hashmpa can be used \n",
    "def uncommon(s1,s2):\n",
    "    dic = {}\n",
    "    for i in s1.split(\" \"):\n",
    "        if i in dic:\n",
    "            dic[i]+=1\n",
    "        else:\n",
    "            dic[i] = 1\n",
    "    for i in s2.split(\" \"):\n",
    "        if i in dic:\n",
    "            dic[i]+=1\n",
    "        else:\n",
    "            dic[i] = 1\n",
    "            \n",
    "    return [i for i in dic if dic[i]==1]\n",
    "\n",
    "s1 = input(\"Enter any  string :\")\n",
    "s2 = input(\"Enter any  string :\")\n",
    "print(uncommon(s1,s2))"
   ]
  },
  {
   "cell_type": "markdown",
   "id": "a070afcf",
   "metadata": {},
   "source": [
    "### 6. Write a Python to find all duplicate characters in string?"
   ]
  },
  {
   "cell_type": "code",
   "execution_count": 46,
   "id": "1d9d132e",
   "metadata": {
    "scrolled": true
   },
   "outputs": [
    {
     "name": "stdout",
     "output_type": "stream",
     "text": [
      "Enter any  string :stricky notes is sticky\n",
      "['s', 't', 'i', 'c', 'k', 'y', ' ', 't', 's', ' ', 'i', 's', ' ', 's', 't', 'i', 'c', 'k', 'y']\n"
     ]
    }
   ],
   "source": [
    "def duplicate(string):\n",
    "    return [i for i in string if string.count(i)>1]\n",
    "            \n",
    "s1 = input(\"Enter any  string :\")\n",
    "print(duplicate(s1))"
   ]
  },
  {
   "cell_type": "markdown",
   "id": "26e8e3e7",
   "metadata": {},
   "source": [
    "### 7. Write a Python Program to check if a string contains any special character?"
   ]
  },
  {
   "cell_type": "code",
   "execution_count": 48,
   "id": "973600c0",
   "metadata": {},
   "outputs": [
    {
     "name": "stdout",
     "output_type": "stream",
     "text": [
      "Enter any  string :harsha999ar@gmail.com\n",
      "['@', '.']\n"
     ]
    }
   ],
   "source": [
    "def specialcahrs(string):\n",
    "    return [i for i in string if not i.isalnum()]\n",
    "\n",
    "\n",
    "s = input(\"Enter any  string :\")\n",
    "print(specialcahrs(s))"
   ]
  }
 ],
 "metadata": {
  "kernelspec": {
   "display_name": "Python 3 (ipykernel)",
   "language": "python",
   "name": "python3"
  },
  "language_info": {
   "codemirror_mode": {
    "name": "ipython",
    "version": 3
   },
   "file_extension": ".py",
   "mimetype": "text/x-python",
   "name": "python",
   "nbconvert_exporter": "python",
   "pygments_lexer": "ipython3",
   "version": "3.9.12"
  }
 },
 "nbformat": 4,
 "nbformat_minor": 5
}
