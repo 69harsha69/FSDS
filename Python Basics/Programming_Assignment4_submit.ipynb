{
 "cells": [
  {
   "cell_type": "markdown",
   "id": "30ccbb68",
   "metadata": {},
   "source": [
    "### 1. Write a Python Program to Find the Factorial of a Number?"
   ]
  },
  {
   "cell_type": "code",
   "execution_count": 1,
   "id": "0eefa5c7",
   "metadata": {},
   "outputs": [
    {
     "name": "stdout",
     "output_type": "stream",
     "text": [
      "Enter any positive integer :20\n",
      "2432902008176640000\n"
     ]
    }
   ],
   "source": [
    "#factorial(n) = n*(n-1)*(n-2)...*1\n",
    "\n",
    "def factorial(n):\n",
    "    if n<=1:\n",
    "        return n\n",
    "    return n*factorial(n-1)\n",
    "\n",
    "n = int(input(\"Enter any positive integer :\"))\n",
    "print(factorial(n))"
   ]
  },
  {
   "cell_type": "markdown",
   "id": "1e2a01b4",
   "metadata": {},
   "source": [
    "### 2. Write a Python Program to Display the multiplication Table?"
   ]
  },
  {
   "cell_type": "code",
   "execution_count": 2,
   "id": "f52f98ec",
   "metadata": {},
   "outputs": [
    {
     "name": "stdout",
     "output_type": "stream",
     "text": [
      "Enter any positive integer :18\n",
      "18 X 1 = 18\n",
      "18 X 2 = 36\n",
      "18 X 3 = 54\n",
      "18 X 4 = 72\n",
      "18 X 5 = 90\n",
      "18 X 6 = 108\n",
      "18 X 7 = 126\n",
      "18 X 8 = 144\n",
      "18 X 9 = 162\n",
      "18 X 10 = 180\n"
     ]
    }
   ],
   "source": [
    "#until 10\n",
    "def multi_table(n):\n",
    "    for i in range(1,11):\n",
    "        print(f\"{n} X {i} = {n*i}\")\n",
    "\n",
    "n = int(input(\"Enter any positive integer :\"))\n",
    "multi_table(n)"
   ]
  },
  {
   "cell_type": "markdown",
   "id": "1f799a5d",
   "metadata": {},
   "source": [
    "### 3. Write a Python Program to Print the Fibonacci sequence?"
   ]
  },
  {
   "cell_type": "code",
   "execution_count": 3,
   "id": "31a14bf5",
   "metadata": {},
   "outputs": [
    {
     "name": "stdout",
     "output_type": "stream",
     "text": [
      "[0, 1, 1, 2, 3, 5, 8, 13]\n"
     ]
    }
   ],
   "source": [
    "def fibonacci(n):\n",
    "    f = [0,1]\n",
    "    for i in range(2,n):\n",
    "        f.append(f[i-1]+f[i-2])\n",
    "    return f\n",
    "\n",
    "\n",
    "print(fibonacci(8))"
   ]
  },
  {
   "cell_type": "markdown",
   "id": "2c577e18",
   "metadata": {},
   "source": [
    "# 4. Write a Python Program to Check Armstrong Number?"
   ]
  },
  {
   "cell_type": "code",
   "execution_count": 11,
   "id": "fae6883e",
   "metadata": {},
   "outputs": [
    {
     "name": "stdout",
     "output_type": "stream",
     "text": [
      "Enter any positive integer :153\n",
      "True\n"
     ]
    }
   ],
   "source": [
    "def check_arm(n):\n",
    "    n_copy = n\n",
    "    count = len(str(n))\n",
    "    res = 0 \n",
    "    while(n_copy):\n",
    "        res+=(n_copy%10)**count\n",
    "        n_copy = n_copy//10\n",
    "    if res==n:\n",
    "        return True\n",
    "    else:\n",
    "        return False\n",
    "    \n",
    "n = int(input(\"Enter any positive integer :\"))\n",
    "print(check_arm(n))\n",
    "\n",
    "\n"
   ]
  },
  {
   "cell_type": "markdown",
   "id": "1775af9c",
   "metadata": {},
   "source": [
    "### 5. Write a Python Program to Find Armstrong Number in an Interval?"
   ]
  },
  {
   "cell_type": "code",
   "execution_count": 13,
   "id": "93dc6f6e",
   "metadata": {},
   "outputs": [
    {
     "name": "stdout",
     "output_type": "stream",
     "text": [
      "Enter a Lower limit:100\n",
      "Enter upper limit :500\n",
      "\n",
      "153 370 371 407 "
     ]
    }
   ],
   "source": [
    "def print_arm(ll,ul):\n",
    "    for i in range(ll,ul+1):\n",
    "        if(check_arm(i)):\n",
    "            print(i,end = \" \")\n",
    "\n",
    "l_limit = int(input(\"Enter a Lower limit:\"))\n",
    "u_limit = int(input(\"Enter upper limit :\"))\n",
    "print()\n",
    "print_arm(l_limit,u_limit)"
   ]
  },
  {
   "cell_type": "markdown",
   "id": "d5054ee3",
   "metadata": {},
   "source": [
    "### 6. Write a Python Program to Find the Sum of Natural Numbers?"
   ]
  },
  {
   "cell_type": "code",
   "execution_count": 14,
   "id": "559585ab",
   "metadata": {},
   "outputs": [
    {
     "name": "stdout",
     "output_type": "stream",
     "text": [
      "Enter any positive integer :252\n",
      "31878\n",
      "31878.0\n"
     ]
    }
   ],
   "source": [
    "#o(n) method\n",
    "def sum_n(n):\n",
    "    s =0 \n",
    "    for i in range(1,n+1):\n",
    "        s+=i\n",
    "    return(s)\n",
    "\n",
    "#o(1)\n",
    "def sum_n_formula(n):\n",
    "    return (n*(n+1))/2\n",
    "\n",
    "n = int(input(\"Enter any positive integer :\"))\n",
    "print(sum_n(n))\n",
    "print(sum_n_formula(n))"
   ]
  }
 ],
 "metadata": {
  "kernelspec": {
   "display_name": "Python 3 (ipykernel)",
   "language": "python",
   "name": "python3"
  },
  "language_info": {
   "codemirror_mode": {
    "name": "ipython",
    "version": 3
   },
   "file_extension": ".py",
   "mimetype": "text/x-python",
   "name": "python",
   "nbconvert_exporter": "python",
   "pygments_lexer": "ipython3",
   "version": "3.9.12"
  }
 },
 "nbformat": 4,
 "nbformat_minor": 5
}
