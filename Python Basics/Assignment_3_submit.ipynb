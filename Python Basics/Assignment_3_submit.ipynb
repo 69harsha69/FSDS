{
 "cells": [
  {
   "cell_type": "markdown",
   "id": "ae32cc84",
   "metadata": {},
   "source": [
    "### 1. Why are functions advantageous to have in your programs?"
   ]
  },
  {
   "cell_type": "markdown",
   "id": "86844952",
   "metadata": {},
   "source": [
    "\n",
    "ans:\n",
    "\n",
    "Advantages of funcitons\n",
    "* Resusability\n",
    "* Makes code modular\n",
    "* Code will be shorter and organized"
   ]
  },
  {
   "cell_type": "markdown",
   "id": "f4cf674b",
   "metadata": {},
   "source": [
    "### 2. When does the code in a function run: when it&#39;s specified or when it&#39;s called?"
   ]
  },
  {
   "cell_type": "markdown",
   "id": "ffe43fd3",
   "metadata": {},
   "source": [
    "\n",
    "ans:\n",
    "\n",
    "funciton in a code is runned when it is called not when when it is defined"
   ]
  },
  {
   "cell_type": "markdown",
   "id": "8927a8f2",
   "metadata": {},
   "source": [
    "### 3. What statement creates a function?"
   ]
  },
  {
   "cell_type": "markdown",
   "id": "8c1f3816",
   "metadata": {},
   "source": [
    "\n",
    "ans:\n",
    "\n",
    "def funciton_name(arguments):\n",
    "    function_body\n",
    "\n",
    "is general syntax of a funciton so def statement is used to create a function\n"
   ]
  },
  {
   "cell_type": "markdown",
   "id": "bb7c7214",
   "metadata": {},
   "source": [
    "### 4. What is the difference between a function and a function call?"
   ]
  },
  {
   "cell_type": "markdown",
   "id": "e8857852",
   "metadata": {},
   "source": [
    "\n",
    "ans:\n",
    "\n",
    "A funciton is a block of code which performs a certain operation and returns results.a funciton can have arguments as inputs(not mandatory).\n",
    "\n",
    "A funciton call is the code which is used to perform the funciton under a set of arguments as inputs\n",
    "\n"
   ]
  },
  {
   "cell_type": "code",
   "execution_count": 2,
   "id": "0395f0d1",
   "metadata": {},
   "outputs": [],
   "source": [
    "#ex:\n",
    "#funciton    \n",
    "def add(a,b):\n",
    "    return a+b    \n",
    "\n",
    "\n",
    "#funciton call\n",
    "c = add(6,7)"
   ]
  },
  {
   "cell_type": "markdown",
   "id": "ec3e86a8",
   "metadata": {},
   "source": [
    "### 5. How many global scopes are there in a Python program? How many local scopes?"
   ]
  },
  {
   "cell_type": "markdown",
   "id": "a375efd9",
   "metadata": {},
   "source": [
    "\n",
    "ans:\n",
    "\n",
    "There is only one global scope availalbe in python i.e the varaible created in the \n",
    "main body of the code is global varaible and belongs to global scope.\n",
    "\n",
    "Any number of local scopes can be created and varaible created within a region \n",
    "which can only be used inside the region(ex funtion) is a local varaible and \n",
    "belongs to local scope"
   ]
  },
  {
   "cell_type": "markdown",
   "id": "21ff2f40",
   "metadata": {},
   "source": [
    "### 6. What happens to variables in a local scope when the function call returns?"
   ]
  },
  {
   "cell_type": "markdown",
   "id": "1f2ff41a",
   "metadata": {},
   "source": [
    "\n",
    "ans:\n",
    "\n",
    "The varaibles in local scope are destroyed or dumped as they are of no longer of use if called by another instance with different conditions."
   ]
  },
  {
   "cell_type": "markdown",
   "id": "b21d847d",
   "metadata": {},
   "source": [
    "### 7. What is the concept of a return value? Is it possible to have a return value in an expression?"
   ]
  },
  {
   "cell_type": "markdown",
   "id": "a3e6bf2a",
   "metadata": {},
   "source": [
    "\n",
    "ans:\n",
    "\n",
    "Any funciton is a block of code which is used to do an opertaion with a given set of parameters.Its optional to have a return value.Return value can be of any \n",
    "type.Python supports the return value in a form of expression which saves some \n",
    "computational space.\n",
    "\n",
    "ex:\n",
    "def add(a,b):\n",
    "    return a+b  # this is expression"
   ]
  },
  {
   "cell_type": "markdown",
   "id": "4bbdf6fc",
   "metadata": {},
   "source": [
    "### 8. If a function does not have a return statement, what is the return value of a call to that function?"
   ]
  },
  {
   "cell_type": "markdown",
   "id": "e5bc3ad6",
   "metadata": {},
   "source": [
    "\n",
    "ans:\n",
    "\n",
    "In this case the return value is a null value"
   ]
  },
  {
   "cell_type": "markdown",
   "id": "8cb97a55",
   "metadata": {},
   "source": [
    "### 9. How do you make a function variable refer to the global variable?"
   ]
  },
  {
   "cell_type": "markdown",
   "id": "a77fea99",
   "metadata": {},
   "source": [
    "\n",
    "ans:\n",
    "\n",
    "while creating global varaible in a funciton global statement should be used.But if its created in the body of the code its by default a global varaible and can be \n",
    "used anywhere in the code."
   ]
  },
  {
   "cell_type": "markdown",
   "id": "6fa5da37",
   "metadata": {},
   "source": [
    "### 10. What is the data type of None?"
   ]
  },
  {
   "cell_type": "markdown",
   "id": "a1e7fac6",
   "metadata": {},
   "source": [
    "\n",
    "ans:\n",
    "\n",
    "Datatype of None is NoneType.This is an object which has no value or has a value of  None"
   ]
  },
  {
   "cell_type": "markdown",
   "id": "22e52d7b",
   "metadata": {},
   "source": [
    "### 11. What does the sentence import areallyourpetsnamederic do?\n"
   ]
  },
  {
   "cell_type": "markdown",
   "id": "ac47f2e3",
   "metadata": {},
   "source": [
    "\n",
    "ans:\n",
    "\n",
    "This imports a module named areallyourpetsnamederic"
   ]
  },
  {
   "cell_type": "markdown",
   "id": "56c0e907",
   "metadata": {},
   "source": [
    "### 12. If you had a bacon() feature in a spam module, what would you call it after importing spam?"
   ]
  },
  {
   "cell_type": "markdown",
   "id": "28c6495c",
   "metadata": {},
   "source": [
    "\n",
    "ans:\n",
    "\n",
    "after importing spam module to call beacon feature \n",
    "==> spam.beacon() can be used\n"
   ]
  },
  {
   "cell_type": "markdown",
   "id": "1fdeb451",
   "metadata": {},
   "source": [
    "### 13. What can you do to save a programme from crashing if it encounters an error?"
   ]
  },
  {
   "cell_type": "markdown",
   "id": "9fff4375",
   "metadata": {},
   "source": [
    "\n",
    "ans:\n",
    "\n",
    "To save a program from crashing exception handling can be done"
   ]
  },
  {
   "cell_type": "markdown",
   "id": "232bc154",
   "metadata": {},
   "source": [
    "### 14. What is the purpose of the try clause? What is the purpose of the except clause?"
   ]
  },
  {
   "cell_type": "markdown",
   "id": "4f262923",
   "metadata": {},
   "source": [
    "\n",
    "ans:\n",
    "\n",
    "funciton in a code is runned when it is called not when For example if you are dividing 'a' by 'b' there are cases where b is 0.for the \n",
    "division operation here this is an exception case where the funciton throws error.\n",
    "\n",
    "So, here the code under try will run the function for generic cases and the code \n",
    "under except runs for exceptional cases without throwing an error \n",
    "\n",
    "try:except statement comes in a form of pair.one cant be used without the other\n"
   ]
  }
 ],
 "metadata": {
  "kernelspec": {
   "display_name": "Python 3 (ipykernel)",
   "language": "python",
   "name": "python3"
  },
  "language_info": {
   "codemirror_mode": {
    "name": "ipython",
    "version": 3
   },
   "file_extension": ".py",
   "mimetype": "text/x-python",
   "name": "python",
   "nbconvert_exporter": "python",
   "pygments_lexer": "ipython3",
   "version": "3.9.12"
  }
 },
 "nbformat": 4,
 "nbformat_minor": 5
}
