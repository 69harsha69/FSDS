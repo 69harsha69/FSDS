{
 "cells": [
  {
   "cell_type": "markdown",
   "id": "ae32cc84",
   "metadata": {},
   "source": [
    "### 1. What is the result of the code, and why?\n",
    "    >>> def func(a, b=6, c=8):\n",
    "    print(a, b, c)\n",
    "    >>> func(1, 2)"
   ]
  },
  {
   "cell_type": "markdown",
   "id": "02aab2f2",
   "metadata": {},
   "source": [
    "1 2 8 is result because c is not assigned so default value is chosen"
   ]
  },
  {
   "cell_type": "markdown",
   "id": "f4cf674b",
   "metadata": {},
   "source": [
    "### 2. What is the result of this code, and why?\n",
    "    >>> def func(a, b, c=5):\n",
    "    print(a, b, c)\n",
    "    >>> func(1, c=3, b=2)"
   ]
  },
  {
   "cell_type": "markdown",
   "id": "5139269b",
   "metadata": {},
   "source": [
    "1 2 3 is output.Here c and b are specified so order doesnt matter "
   ]
  },
  {
   "cell_type": "markdown",
   "id": "8927a8f2",
   "metadata": {},
   "source": [
    "### 3. How about this code: what is its result, and why?\n",
    "    >>> def func(a, *pargs):\n",
    "    print(a, pargs)\n",
    "    >>> func(1, 2, 3)"
   ]
  },
  {
   "cell_type": "markdown",
   "id": "9e3ebbdb",
   "metadata": {},
   "source": [
    "1 (2,3) is output.Here 1 is assigned to a and *pargs stands for varable length argument.So any number of further arguments are stored as a tuple in pargs varaible"
   ]
  },
  {
   "cell_type": "markdown",
   "id": "bb7c7214",
   "metadata": {},
   "source": [
    "### 4. What does this code print, and why?\n",
    "    >>> def func(a, **kargs):\n",
    "    print(a, kargs)\n",
    "    >>> func(a=1, c=3, b=2)"
   ]
  },
  {
   "cell_type": "markdown",
   "id": "d4b7898f",
   "metadata": {},
   "source": [
    "**kargs stands for varaible number of keyword arguments.So,a is as usually assigned to a and kargs stores {'c':3,'b':2} dictionary.<br>\n",
    "\n",
    "So outut is 1 {'c':3,'b':2} "
   ]
  },
  {
   "cell_type": "markdown",
   "id": "ec3e86a8",
   "metadata": {},
   "source": [
    "### 5. What gets printed by this, and explain?\n",
    "    >>> def func(a, b, c=8, d=5): print(a, b, c, d)\n",
    "    >>> func(1, *(5, 6))"
   ]
  },
  {
   "cell_type": "markdown",
   "id": "e030219a",
   "metadata": {},
   "source": [
    "1 is as usually assigned to a and *(5,6) expands and is assigned to b and c.THe funciton expects four arguments but in case of missing argument considers the default value\n",
    "\n",
    "output is 1 5 6 5"
   ]
  },
  {
   "cell_type": "markdown",
   "id": "21ff2f40",
   "metadata": {},
   "source": [
    "### 6. what is the result of this, and explain?\n",
    "    >>> def func(a, b, c): a = 2; b[0] = 'x'; c['a'] = 'y'\n",
    "    >>> l=1; m=[1]; n={'a':0}\n",
    "    >>> func(l, m, n)\n",
    "    >>> l, m, n"
   ]
  },
  {
   "cell_type": "markdown",
   "id": "b918e7b9",
   "metadata": {},
   "source": [
    "after function is l=1 becomes a=2 inside func but not out of the function.Where as the list and dictionary are sent as pointers so no new memory is creted inside the funciton. m=[1] the first element is replcaed by 'x' so m=['x'] and c={'a',0} becomes n={'a'='y'}\n",
    "\n",
    "Output is 1 ['x'] {'a': 'y'}"
   ]
  }
 ],
 "metadata": {
  "kernelspec": {
   "display_name": "Python 3 (ipykernel)",
   "language": "python",
   "name": "python3"
  },
  "language_info": {
   "codemirror_mode": {
    "name": "ipython",
    "version": 3
   },
   "file_extension": ".py",
   "mimetype": "text/x-python",
   "name": "python",
   "nbconvert_exporter": "python",
   "pygments_lexer": "ipython3",
   "version": "3.9.12"
  }
 },
 "nbformat": 4,
 "nbformat_minor": 5
}
