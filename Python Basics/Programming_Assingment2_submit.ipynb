{
 "cells": [
  {
   "cell_type": "markdown",
   "id": "a764ad0e",
   "metadata": {},
   "source": [
    "### 1.Write a Python program to convert kilometers to miles?"
   ]
  },
  {
   "cell_type": "code",
   "execution_count": 1,
   "id": "58c125bd",
   "metadata": {},
   "outputs": [
    {
     "name": "stdout",
     "output_type": "stream",
     "text": [
      "56 kms in miles is 34.79678664\n"
     ]
    }
   ],
   "source": [
    "def km_to_miles(km_value):\n",
    "    conversion_factor = 0.62137119\n",
    "    mile_value = km_value*conversion_factor\n",
    "    return mile_value\n",
    "\n",
    "km_value = 56\n",
    "print(f\"{km_value} kms in miles is {km_to_miles(km_value)}\")"
   ]
  },
  {
   "cell_type": "markdown",
   "id": "7bfb7f80",
   "metadata": {},
   "source": [
    "### 2.Write a Python program to convert Celsius to Fahrenheit?"
   ]
  },
  {
   "cell_type": "code",
   "execution_count": 2,
   "id": "b68446c9",
   "metadata": {},
   "outputs": [
    {
     "name": "stdout",
     "output_type": "stream",
     "text": [
      "Enter temperature in celcius :98.5\n",
      "98.5 degree celcius in fahrenheit is 209.3\n"
     ]
    }
   ],
   "source": [
    "def f2c(celcius):\n",
    "    farh = 32 + (celcius * (9/5))\n",
    "    return farh\n",
    "\n",
    "cel = float(input(\"Enter temperature in celcius :\"))\n",
    "farh = f2c(cel)\n",
    "print(f\"{cel} degree celcius in fahrenheit is {farh}\")"
   ]
  },
  {
   "cell_type": "markdown",
   "id": "67d46d66",
   "metadata": {},
   "source": [
    "### 3.Write a Python program to display calendar?"
   ]
  },
  {
   "cell_type": "code",
   "execution_count": 5,
   "id": "c4031fb7",
   "metadata": {},
   "outputs": [
    {
     "name": "stdout",
     "output_type": "stream",
     "text": [
      "Enter year you want to display :2023\n",
      "Enter month you want to display :5\n",
      "\n",
      "      May 2023\n",
      "Mo Tu We Th Fr Sa Su\n",
      " 1  2  3  4  5  6  7\n",
      " 8  9 10 11 12 13 14\n",
      "15 16 17 18 19 20 21\n",
      "22 23 24 25 26 27 28\n",
      "29 30 31\n",
      "\n"
     ]
    }
   ],
   "source": [
    "import calendar\n",
    "\n",
    "year = int(input(\"Enter year you want to display :\"))\n",
    "month = int(input(\"Enter month you want to display :\"))\n",
    "\n",
    "print()\n",
    "print(calendar.month(year,month))"
   ]
  },
  {
   "cell_type": "markdown",
   "id": "dbb902b0",
   "metadata": {},
   "source": [
    "### 4.Write a Python program to solve quadratic equation?"
   ]
  },
  {
   "cell_type": "code",
   "execution_count": 21,
   "id": "4dc57051",
   "metadata": {},
   "outputs": [
    {
     "ename": "ValueError",
     "evalue": "math domain error",
     "output_type": "error",
     "traceback": [
      "\u001b[1;31m---------------------------------------------------------------------------\u001b[0m",
      "\u001b[1;31mValueError\u001b[0m                                Traceback (most recent call last)",
      "Input \u001b[1;32mIn [21]\u001b[0m, in \u001b[0;36m<cell line: 11>\u001b[1;34m()\u001b[0m\n\u001b[0;32m      8\u001b[0m     \u001b[38;5;28;01mreturn\u001b[39;00m root1,root2\n\u001b[0;32m     10\u001b[0m a,b,c \u001b[38;5;241m=\u001b[39m \u001b[38;5;241m8\u001b[39m,\u001b[38;5;241m5\u001b[39m,\u001b[38;5;241m9\u001b[39m\n\u001b[1;32m---> 11\u001b[0m \u001b[38;5;28mprint\u001b[39m(\u001b[43msolve\u001b[49m\u001b[43m(\u001b[49m\u001b[43ma\u001b[49m\u001b[43m,\u001b[49m\u001b[43mb\u001b[49m\u001b[43m,\u001b[49m\u001b[43mc\u001b[49m\u001b[43m)\u001b[49m)\n",
      "Input \u001b[1;32mIn [21]\u001b[0m, in \u001b[0;36msolve\u001b[1;34m(a, b, c)\u001b[0m\n\u001b[0;32m      4\u001b[0m \u001b[38;5;28;01mdef\u001b[39;00m \u001b[38;5;21msolve\u001b[39m(a,b,c):\n\u001b[0;32m      5\u001b[0m     denominator \u001b[38;5;241m=\u001b[39m \u001b[38;5;241m2\u001b[39m\u001b[38;5;241m*\u001b[39ma\n\u001b[1;32m----> 6\u001b[0m     disc \u001b[38;5;241m=\u001b[39m \u001b[43msqrt\u001b[49m\u001b[43m(\u001b[49m\u001b[43mb\u001b[49m\u001b[38;5;241;43m*\u001b[39;49m\u001b[38;5;241;43m*\u001b[39;49m\u001b[38;5;241;43m2\u001b[39;49m\u001b[43m \u001b[49m\u001b[38;5;241;43m-\u001b[39;49m\u001b[43m \u001b[49m\u001b[43m(\u001b[49m\u001b[38;5;241;43m4\u001b[39;49m\u001b[38;5;241;43m*\u001b[39;49m\u001b[43ma\u001b[49m\u001b[38;5;241;43m*\u001b[39;49m\u001b[43mc\u001b[49m\u001b[43m)\u001b[49m\u001b[43m)\u001b[49m\n\u001b[0;32m      7\u001b[0m     root1,root2 \u001b[38;5;241m=\u001b[39m (\u001b[38;5;241m-\u001b[39mb\u001b[38;5;241m+\u001b[39mdisc)\u001b[38;5;241m/\u001b[39mdenominator , (\u001b[38;5;241m-\u001b[39mb\u001b[38;5;241m-\u001b[39mdisc)\u001b[38;5;241m/\u001b[39mdenominator\n\u001b[0;32m      8\u001b[0m     \u001b[38;5;28;01mreturn\u001b[39;00m root1,root2\n",
      "\u001b[1;31mValueError\u001b[0m: math domain error"
     ]
    }
   ],
   "source": [
    "#any quadratic equation(ax**2 + b*x + c) has 3 coefficients a,b,c\n",
    "#fails if roots are imaginary\n",
    "from math import sqrt\n",
    "def solve(a,b,c):\n",
    "    denominator = 2*a\n",
    "    disc = sqrt(b**2 - (4*a*c))\n",
    "    root1,root2 = (-b+disc)/denominator , (-b-disc)/denominator\n",
    "    return root1,root2\n",
    "\n",
    "a,b,c = 8,5,9\n",
    "print(solve(a,b,c))"
   ]
  },
  {
   "cell_type": "markdown",
   "id": "5649c749",
   "metadata": {},
   "source": [
    "### 5.Write a Python program to swap two variables without temp variable?"
   ]
  },
  {
   "cell_type": "code",
   "execution_count": 15,
   "id": "ef4e9e99",
   "metadata": {
    "scrolled": true
   },
   "outputs": [
    {
     "name": "stdout",
     "output_type": "stream",
     "text": [
      "Type anynumber: 5\n",
      "Type anynumber: 6\n",
      "two varaibles are num1 : 5 and num2 : 6\n",
      "two varaibles are num1 : 6 and num2 : 5\n"
     ]
    }
   ],
   "source": [
    "#only works for integers\n",
    "def swap(a,b):\n",
    "    a = a^b\n",
    "    b = a^b\n",
    "    a = a^b\n",
    "    return a,b\n",
    "\n",
    "num1 = int(input(\"Type anynumber: \"))\n",
    "num2 = int(input(\"Type anynumber: \"))\n",
    "print(f\"two varaibles are num1 : {num1} and num2 : {num2}\")\n",
    "num1,num2 = swap(num1,num2)\n",
    "print(f\"two varaibles are num1 : {num1} and num2 : {num2}\")"
   ]
  },
  {
   "cell_type": "code",
   "execution_count": 17,
   "id": "f7170f79",
   "metadata": {},
   "outputs": [
    {
     "data": {
      "text/plain": [
       "2.0"
      ]
     },
     "execution_count": 17,
     "metadata": {},
     "output_type": "execute_result"
    }
   ],
   "source": [
    "import math\n",
    "math.sqrt(4)"
   ]
  },
  {
   "cell_type": "code",
   "execution_count": null,
   "id": "3f40e0a3",
   "metadata": {},
   "outputs": [],
   "source": []
  }
 ],
 "metadata": {
  "kernelspec": {
   "display_name": "Python 3 (ipykernel)",
   "language": "python",
   "name": "python3"
  },
  "language_info": {
   "codemirror_mode": {
    "name": "ipython",
    "version": 3
   },
   "file_extension": ".py",
   "mimetype": "text/x-python",
   "name": "python",
   "nbconvert_exporter": "python",
   "pygments_lexer": "ipython3",
   "version": "3.9.12"
  }
 },
 "nbformat": 4,
 "nbformat_minor": 5
}
