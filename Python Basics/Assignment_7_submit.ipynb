{
 "cells": [
  {
   "cell_type": "markdown",
   "id": "ae32cc84",
   "metadata": {},
   "source": [
    "### 1. What is the name of the feature responsible for generating Regex objects?"
   ]
  },
  {
   "cell_type": "raw",
   "id": "40f6352a",
   "metadata": {},
   "source": [
    "\n",
    "ans:\n",
    "\n",
    "to create a regex object of a pattern(raw string) ==> \n",
    "regex_obj = re.compile(pattern)"
   ]
  },
  {
   "cell_type": "markdown",
   "id": "f4cf674b",
   "metadata": {},
   "source": [
    "### 2. Why do raw strings often appear in Regex objects?"
   ]
  },
  {
   "cell_type": "raw",
   "id": "7f605667",
   "metadata": {},
   "source": [
    "\n",
    "ans:\n",
    "\n",
    "when strings are normally declatred one has to deal with the escape characters for each and every case.\n",
    "\n",
    "So a raw string can be used instead to make things easy"
   ]
  },
  {
   "cell_type": "markdown",
   "id": "8927a8f2",
   "metadata": {},
   "source": [
    "### 3. What is the return value of the search() method?"
   ]
  },
  {
   "cell_type": "raw",
   "id": "43845d75",
   "metadata": {},
   "source": [
    "\n",
    "ans:\n",
    "\n",
    "it returns None if it fails to find a pattern and return a match object which contains all the information\n",
    "\n",
    "about the matching part through out the string."
   ]
  },
  {
   "cell_type": "markdown",
   "id": "bb7c7214",
   "metadata": {},
   "source": [
    "### 4. From a Match item, how do you get the actual strings that match the pattern?"
   ]
  },
  {
   "cell_type": "raw",
   "id": "7cb3f443",
   "metadata": {},
   "source": [
    "\n",
    "ans:\n",
    "\n",
    "In python strings spanning multiple lines can be stored between triple quotes \"\"\" __string__ \"\"\"\n",
    "\n",
    "this string can be stored in a variable.To get a match object a pattern(usually raw string) and the string in \"\"\"__string__\"\"\" is used to finding matches\n"
   ]
  },
  {
   "cell_type": "markdown",
   "id": "ec3e86a8",
   "metadata": {},
   "source": [
    "### 5. In the regex which created from the r'(\\d\\d\\d)-(\\d\\d\\d-\\d\\d\\d\\d)', what does group zero cover? Group 2? Group 1?"
   ]
  },
  {
   "cell_type": "raw",
   "id": "7b342b0b",
   "metadata": {},
   "source": [
    "\n",
    "ans:\n",
    "\n",
    "here the first () belongs to group 1 and secong () belongs to group 2\n",
    "ex:\n",
    "    for example 954-778-4132 is a match \n",
    "    group(0) --> 954-778-4132\n",
    "    group(1) --> 954\n",
    "    group(2) --> 778-4132"
   ]
  },
  {
   "cell_type": "markdown",
   "id": "21ff2f40",
   "metadata": {},
   "source": [
    "### 6. In standard expression syntax, parentheses and intervals have distinct meanings. How can you tell a regex that you want it to fit real parentheses and periods?"
   ]
  },
  {
   "cell_type": "raw",
   "id": "8f1f8ac4",
   "metadata": {},
   "source": [
    "\n",
    "ans:\n",
    "\n",
    "To find the actual periods and parentheses simply it should be followed by the escape character \\\n",
    "    \n",
    "   ex: \\. , \\( , |)"
   ]
  },
  {
   "cell_type": "markdown",
   "id": "b67df13d",
   "metadata": {},
   "source": [
    "### 7. The findall() method returns a string list or a list of string tuples. What causes it to return one of the two options?"
   ]
  },
  {
   "cell_type": "raw",
   "id": "a85a62ce",
   "metadata": {},
   "source": [
    "ans:\n",
    "\n",
    "list of strings is returned when normal pattern is used to search.ex: pattern = re.compile(r'(\\w+\\n)')\n",
    "\n",
    "list of string tuples is returned when the pattern has logical operator involved in it ex: pattern = re.compile(r'(\\w+\\n)|(\\w+\\s)')\n"
   ]
  },
  {
   "cell_type": "markdown",
   "id": "255ba128",
   "metadata": {},
   "source": [
    "### 8. In standard expressions, what does the | character mean?"
   ]
  },
  {
   "cell_type": "raw",
   "id": "63ca2049",
   "metadata": {},
   "source": [
    "ans:\n",
    "\n",
    "In regular expression | is an OR logical operator"
   ]
  },
  {
   "cell_type": "markdown",
   "id": "0dc17549",
   "metadata": {},
   "source": [
    "### 9. In regular expressions, what does the | character stand for?"
   ]
  },
  {
   "cell_type": "raw",
   "id": "5ee80006",
   "metadata": {},
   "source": [
    "ans:\n",
    "\n",
    "In regular expression | is also an OR logical operator"
   ]
  },
  {
   "cell_type": "markdown",
   "id": "fbaca936",
   "metadata": {},
   "source": [
    "### 10. In regular expressions, what is the difference between the + and * characters?"
   ]
  },
  {
   "cell_type": "raw",
   "id": "c30c769a",
   "metadata": {},
   "source": [
    "ans:\n",
    "\n"
   ]
  }
 ],
 "metadata": {
  "kernelspec": {
   "display_name": "Python 3 (ipykernel)",
   "language": "python",
   "name": "python3"
  },
  "language_info": {
   "codemirror_mode": {
    "name": "ipython",
    "version": 3
   },
   "file_extension": ".py",
   "mimetype": "text/x-python",
   "name": "python",
   "nbconvert_exporter": "python",
   "pygments_lexer": "ipython3",
   "version": "3.9.12"
  }
 },
 "nbformat": 4,
 "nbformat_minor": 5
}
