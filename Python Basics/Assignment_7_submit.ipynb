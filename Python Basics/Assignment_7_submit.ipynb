{
 "cells": [
  {
   "cell_type": "markdown",
   "id": "ae32cc84",
   "metadata": {},
   "source": [
    "### 1. What is the name of the feature responsible for generating Regex objects?"
   ]
  },
  {
   "cell_type": "markdown",
   "id": "bddc5c37",
   "metadata": {},
   "source": [
    "\n",
    "ans:\n",
    "\n",
    "to create a regex object of a pattern(raw string) ==> \n",
    "\n",
    "regex_obj = re.compile(pattern)"
   ]
  },
  {
   "cell_type": "markdown",
   "id": "f4cf674b",
   "metadata": {},
   "source": [
    "### 2. Why do raw strings often appear in Regex objects?"
   ]
  },
  {
   "cell_type": "markdown",
   "id": "fabefe29",
   "metadata": {},
   "source": [
    "\n",
    "ans:\n",
    "\n",
    "when strings are normally declatred one has to deal with the escape characters for each and every case.\n",
    "\n",
    "So a raw string can be used instead to make things easy"
   ]
  },
  {
   "cell_type": "markdown",
   "id": "8927a8f2",
   "metadata": {},
   "source": [
    "### 3. What is the return value of the search() method?"
   ]
  },
  {
   "cell_type": "markdown",
   "id": "4d9561a8",
   "metadata": {},
   "source": [
    "\n",
    "ans:\n",
    "\n",
    "it returns None if it fails to find a pattern and return a match object which contains all the information\n",
    "\n",
    "about the matching part through out the string."
   ]
  },
  {
   "cell_type": "markdown",
   "id": "bb7c7214",
   "metadata": {},
   "source": [
    "### 4. From a Match item, how do you get the actual strings that match the pattern?"
   ]
  },
  {
   "cell_type": "markdown",
   "id": "b3e28c22",
   "metadata": {},
   "source": [
    "\n",
    "ans:\n",
    "\n",
    "In python strings spanning multiple lines can be stored between triple quotes \"\"\" __string__ \"\"\"\n",
    "\n",
    "this string can be stored in a variable.To get a match object a pattern(usually raw string) and the string in \"\"\"__string__\"\"\" is used to finding matches\n"
   ]
  },
  {
   "cell_type": "markdown",
   "id": "ec3e86a8",
   "metadata": {},
   "source": [
    "### 5. In the regex which created from the r'(\\d\\d\\d)-(\\d\\d\\d-\\d\\d\\d\\d)', what does group zero cover? Group 2? Group 1?"
   ]
  },
  {
   "cell_type": "markdown",
   "id": "812343c5",
   "metadata": {},
   "source": [
    "\n",
    "ans:\n",
    "\n",
    "here the first () belongs to group 1 and secong () belongs to group 2\n",
    "\n",
    "ex:\n",
    "* for example 954-778-4132 is a match \n",
    "* group(0) --> 954-778-4132\n",
    "* group(1) --> 954\n",
    "* group(2) --> 778-4132"
   ]
  },
  {
   "cell_type": "markdown",
   "id": "21ff2f40",
   "metadata": {},
   "source": [
    "### 6. In standard expression syntax, parentheses and intervals have distinct meanings. How can you tell a regex that you want it to fit real parentheses and periods?"
   ]
  },
  {
   "cell_type": "markdown",
   "id": "55013b88",
   "metadata": {},
   "source": [
    "\n",
    "ans:\n",
    "\n",
    "To find the actual periods and parentheses simply it should be followed by the escape character \\\n",
    "    \n",
    "   ex: \\\\. , \\\\( , \\\\ )"
   ]
  },
  {
   "cell_type": "markdown",
   "id": "b67df13d",
   "metadata": {},
   "source": [
    "### 7. The findall() method returns a string list or a list of string tuples. What causes it to return one of the two options?"
   ]
  },
  {
   "cell_type": "markdown",
   "id": "dafa0e67",
   "metadata": {},
   "source": [
    "ans:\n",
    "\n",
    "list of strings is returned when normal pattern is used to search.ex: pattern = re.compile(r'(\\w+\\n)')\n",
    "\n",
    "list of string tuples is returned when the pattern has logical operator involved in it ex: pattern = re.compile(r'(\\w+\\n)|(\\w+\\s)')\n"
   ]
  },
  {
   "cell_type": "markdown",
   "id": "255ba128",
   "metadata": {},
   "source": [
    "### 8. In standard expressions, what does the | character mean?"
   ]
  },
  {
   "cell_type": "markdown",
   "id": "1b8e0a95",
   "metadata": {},
   "source": [
    "ans:\n",
    "\n",
    "In regular expression | is an OR logical operator"
   ]
  },
  {
   "cell_type": "markdown",
   "id": "0dc17549",
   "metadata": {},
   "source": [
    "### 9. In regular expressions, what does the | character stand for?"
   ]
  },
  {
   "cell_type": "markdown",
   "id": "2abe136d",
   "metadata": {},
   "source": [
    "ans:\n",
    "\n",
    "In regular expression | is also an OR logical operator"
   ]
  },
  {
   "cell_type": "markdown",
   "id": "fbaca936",
   "metadata": {},
   "source": [
    "### 10. In regular expressions, what is the difference between the + and * characters?"
   ]
  },
  {
   "cell_type": "markdown",
   "id": "e32ab913",
   "metadata": {},
   "source": [
    "ans:\n",
    "\n",
    "'+' means 1 or more \n",
    "\n",
    "'*' means 0 or more"
   ]
  },
  {
   "cell_type": "markdown",
   "id": "5db5b76a",
   "metadata": {},
   "source": [
    "### 11. What is the difference between {4} and {4,5} in regular expression?"
   ]
  },
  {
   "cell_type": "markdown",
   "id": "71f58bc7",
   "metadata": {},
   "source": [
    "ans:\n",
    "\n",
    "if multiple characters of same type needs to be checked these are used\n",
    "\n",
    "ex:\n",
    "\n",
    "{4} checks if some expression is repeating 4 time<br>\n",
    "r'\\d{4}' --> 1234,2341,4563,2323 all 4 digit numbers satisfies these<br>\n",
    "r'\\d{4,5}' --> 12345,1412,12335,13123 all 4 to 5 digits satisfies(this is range)"
   ]
  },
  {
   "cell_type": "markdown",
   "id": "c984291e",
   "metadata": {},
   "source": [
    "### 12. What do you mean by the \\d, \\w, and \\s shorthand character classes signify in regular expressions?"
   ]
  },
  {
   "cell_type": "markdown",
   "id": "7cb5ca79",
   "metadata": {},
   "source": [
    "ans:\n",
    "\n",
    "* \\d --> digits (0-9)\n",
    "* \\w --> word character (0-9,a-z,A-Z,_)\n",
    "* \\s --> space,tab,newline"
   ]
  },
  {
   "cell_type": "markdown",
   "id": "a5f568d7",
   "metadata": {},
   "source": [
    "### 13. What do means by \\D, \\W, and \\S shorthand character classes signify in regular expressions?"
   ]
  },
  {
   "cell_type": "markdown",
   "id": "8a28aed1",
   "metadata": {},
   "source": [
    "ans:\n",
    "\n",
    "* \\D --> not digits [^0-9]\n",
    "* \\W --> not word character [^0-9a-zA-Z_]\n",
    "* \\S --> not space,tab,newline "
   ]
  },
  {
   "cell_type": "markdown",
   "id": "2a8c358a",
   "metadata": {},
   "source": [
    "### 14. What is the difference between .* ? and .*  ?"
   ]
  },
  {
   "cell_type": "markdown",
   "id": "9f10fafb",
   "metadata": {},
   "source": [
    "ans:\n",
    "\n",
    ".* means match any characters occuring 0 or more number of times.this tries to match longest possible match<br>\n",
    ".*? means match any characters occuring 0 or more number of times but the match will be as many few characters as possible\n",
    "\n",
    "ex: '3405793480348758927234'\n",
    "* when r'0.*9' is used on above string we get --> 057934803487589\n",
    "* when r'0.*?9' is used on above string we get --> 0579,03487589 "
   ]
  },
  {
   "cell_type": "markdown",
   "id": "9f95b04a",
   "metadata": {},
   "source": [
    "### 15. What is the syntax for matching both numbers and lowercase letters with a character class?"
   ]
  },
  {
   "cell_type": "markdown",
   "id": "3d224886",
   "metadata": {},
   "source": [
    "ans:\n",
    "\n",
    "r'[0-9a-z]'"
   ]
  },
  {
   "cell_type": "markdown",
   "id": "55ac74ab",
   "metadata": {},
   "source": [
    "### 16. What is the procedure for making a normal expression in regax case insensitive?"
   ]
  },
  {
   "cell_type": "markdown",
   "id": "069ba944",
   "metadata": {},
   "source": [
    "ans:\n",
    "\n",
    "while creating regex objects use re.IGNORECASE as an extra argument\n",
    "\n",
    "pattern = re.compile(r'start',re.IGNORECASE)\n"
   ]
  },
  {
   "cell_type": "markdown",
   "id": "09b5179e",
   "metadata": {},
   "source": [
    "### 17. What does the . character normally match? What does it match if re.DOTALL is passed as 2nd argument in re.compile()?"
   ]
  },
  {
   "cell_type": "markdown",
   "id": "8cbbf5da",
   "metadata": {},
   "source": [
    "ans:\n",
    "    \n",
    ". character normally matches everything except new line.when re.DOTALL is used \\n is also considered"
   ]
  },
  {
   "cell_type": "markdown",
   "id": "ee4709c3",
   "metadata": {},
   "source": [
    "### 18. If numReg = re.compile(r&#39;\\d+&#39;), what will numRegex.sub(&#39;X&#39;, &#39;11 drummers, 10 pipers, five rings, 4hen&#39;) return?"
   ]
  },
  {
   "cell_type": "markdown",
   "id": "adee4f40",
   "metadata": {},
   "source": [
    "ans:\n",
    "\n",
    "re.compile(r'\\d+') ==> means match one or more numeric characters\n",
    "in the string '11 drummers, 10 pipers, five rings, 4hen' 11 ,10 ,4 is replaced with 'X'<br>\n",
    "==>'X drummers, X pipers, five rings, Xhen'"
   ]
  },
  {
   "cell_type": "markdown",
   "id": "cc49227b",
   "metadata": {},
   "source": [
    "### 19. What does passing re.VERBOSE as the 2nd argument to re.compile() allow to do?"
   ]
  },
  {
   "cell_type": "markdown",
   "id": "49972bcd",
   "metadata": {},
   "source": [
    "ans:\n",
    "    \n",
    "It bascically beautifies and makes it more readable the regex object while writing by seperating logical sections."
   ]
  },
  {
   "cell_type": "markdown",
   "id": "55a69da3",
   "metadata": {},
   "source": [
    "### 20. How would you write a regex that match a number with comma for every three digits? It must match the given following:\n",
    "\n",
    "    '42'\n",
    "    '1,234'\n",
    "    '6,368,745'\n",
    "    but not '12,24,567' (only 2 digits between commas)\n",
    "    '1234' (no commas)"
   ]
  },
  {
   "cell_type": "code",
   "execution_count": 34,
   "id": "3a79fe74",
   "metadata": {},
   "outputs": [
    {
     "name": "stdout",
     "output_type": "stream",
     "text": [
      "<re.Match object; span=(1, 4), match='42\\n'>\n",
      "<re.Match object; span=(4, 10), match='1,234\\n'>\n",
      "<re.Match object; span=(10, 20), match='6,368,745\\n'>\n",
      "<re.Match object; span=(26, 34), match='5671234\\n'>\n",
      "<re.Match object; span=(34, 39), match='1234\\n'>\n",
      "<re.Match object; span=(39, 47), match='8749846\\n'>\n",
      "<re.Match object; span=(50, 59), match='5145,235\\n'>\n",
      "<re.Match object; span=(59, 74), match='23,461,346,134\\n'>\n",
      "<re.Match object; span=(74, 78), match='134\\n'>\n",
      "<re.Match object; span=(82, 85), match='44\\n'>\n"
     ]
    }
   ],
   "source": [
    "import re\n",
    "string ='''\n",
    "42\n",
    "1,234\n",
    "6,368,745\n",
    "12,24,5671234\n",
    "1234\n",
    "8749846\n",
    "14,5145,235\n",
    "23,461,346,134\n",
    "134\n",
    "145,44\n",
    "'''\n",
    "pattern = re.compile(r\"[0-9]+(,\\d{3})*\\n\")\n",
    "matches = pattern.finditer(string)\n",
    "for match in matches:\n",
    "    print(match)"
   ]
  },
  {
   "cell_type": "markdown",
   "id": "4ffbe683",
   "metadata": {},
   "source": [
    "### 21. How would you write a regex that matches the full name of someone whose last name is Watanabe? You can assume that the first name that comes before it will always be one word that begins with a capital letter. The regex must match the following:\n",
    "\n",
    "&#39;Haruto Watanabe&#39;<br>\n",
    "&#39;Alice Watanabe&#39;<br>\n",
    "&#39;RoboCop Watanabe&#39;<br>\n",
    "but not the following:<br>\n",
    "&#39;haruto Watanabe&#39; (where the first name is not capitalized)<br>\n",
    "&#39;Mr. Watanabe&#39; (where the preceding word has a nonletter character)<br>\n",
    "&#39;Watanabe&#39; (which has no first name)&#39;Haruto watanabe&#39; (where Watanabe is not capitalized)<br>"
   ]
  },
  {
   "cell_type": "markdown",
   "id": "2d939dd8",
   "metadata": {},
   "source": [
    "ans:\n",
    "\n",
    "pattern = re.compile(r'^[A-Z]\\w+\\s[Watanabe]'"
   ]
  },
  {
   "cell_type": "code",
   "execution_count": 51,
   "id": "caf92fd0",
   "metadata": {},
   "outputs": [
    {
     "name": "stdout",
     "output_type": "stream",
     "text": [
      "<re.Match object; span=(1, 17), match='Haruto Watanabe\\n'>\n",
      "<re.Match object; span=(17, 32), match='Alice Watanabe\\n'>\n",
      "<re.Match object; span=(32, 49), match='RoboCop Watanabe\\n'>\n"
     ]
    }
   ],
   "source": [
    "import re\n",
    "string ='''\n",
    "Haruto Watanabe\n",
    "Alice Watanabe\n",
    "RoboCop Watanabe\n",
    "haruto Watanabe\n",
    "Mr. Watanabe\n",
    "Watanabe \n",
    "'''\n",
    "pattern = pattern = re.compile(r'[A-Z]\\w+\\sWatanabe\\n')\n",
    "matches = pattern.finditer(string)\n",
    "for match in matches:\n",
    "    print(match)                              \n"
   ]
  },
  {
   "cell_type": "markdown",
   "id": "4751222c",
   "metadata": {},
   "source": [
    "### 22. How would you write a regex that matches a sentence where the first word is either Alice, Bob,or Carol; the second word is either eats, pets, or throws; the third word is apples, cats, or baseballs;and the sentence ends with a period? This regex should be case-insensitive. It must match the\n",
    "following:<br>\n",
    "&#39;Alice eats apples.&#39;<br>\n",
    "&#39;Bob pets cats.&#39;<br>\n",
    "&#39;Carol throws baseballs.&#39;<br>\n",
    "&#39;Alice throws Apples.&#39;<br>\n",
    "&#39;BOB EATS CATS.&#39;<br>\n",
    "but not the following:<br>\n",
    "&#39;RoboCop eats apples.&#39;<br>\n",
    "&#39;ALICE THROWS FOOTBALLS.&#39;<br>\n",
    "&#39;Carol eats 7 cats.&#39;<br>"
   ]
  },
  {
   "cell_type": "code",
   "execution_count": 54,
   "id": "484bfb97",
   "metadata": {},
   "outputs": [
    {
     "name": "stdout",
     "output_type": "stream",
     "text": [
      "<re.Match object; span=(1, 19), match='Alice eats apples.'>\n",
      "<re.Match object; span=(20, 34), match='Bob pets cats.'>\n",
      "<re.Match object; span=(35, 58), match='Carol throws baseballs.'>\n",
      "<re.Match object; span=(59, 79), match='Alice throws Apples.'>\n",
      "<re.Match object; span=(80, 94), match='BOB EATS CATS.'>\n"
     ]
    }
   ],
   "source": [
    "import re\n",
    "string ='''\n",
    "Alice eats apples.\n",
    "Bob pets cats.\n",
    "Carol throws baseballs.\n",
    "Alice throws Apples.\n",
    "BOB EATS CATS.\n",
    "but not the following:\n",
    "RoboCop eats apples.\n",
    "ALICE THROWS FOOTBALLS.\n",
    "Carol eats 7 cats.\n",
    "'''\n",
    "pattern = pattern = re.compile(r'(alice|bob|carol)\\s(eats|pets|throws)\\s(apples|cats|baseballs)\\.',re.IGNORECASE | re.VERBOSE)\n",
    "matches = pattern.finditer(string)\n",
    "for match in matches:\n",
    "    print(match) "
   ]
  }
 ],
 "metadata": {
  "kernelspec": {
   "display_name": "Python 3 (ipykernel)",
   "language": "python",
   "name": "python3"
  },
  "language_info": {
   "codemirror_mode": {
    "name": "ipython",
    "version": 3
   },
   "file_extension": ".py",
   "mimetype": "text/x-python",
   "name": "python",
   "nbconvert_exporter": "python",
   "pygments_lexer": "ipython3",
   "version": "3.9.12"
  }
 },
 "nbformat": 4,
 "nbformat_minor": 5
}
