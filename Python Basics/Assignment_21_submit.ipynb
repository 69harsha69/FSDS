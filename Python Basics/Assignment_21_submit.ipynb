{
 "cells": [
  {
   "cell_type": "markdown",
   "id": "ae32cc84",
   "metadata": {},
   "source": [
    "### 1. Add the current date to the text file today.txt as a string."
   ]
  },
  {
   "cell_type": "code",
   "execution_count": 2,
   "id": "ddf62a73",
   "metadata": {},
   "outputs": [
    {
     "name": "stdout",
     "output_type": "stream",
     "text": [
      "27-05-2023\n"
     ]
    }
   ],
   "source": [
    "import datetime\n",
    "\n",
    "with open('today.txt','w') as f:\n",
    "    f.write(datetime.datetime.now().strftime(\"%d-%m-%Y\"))\n",
    "    f.close()\n",
    "\n",
    "with open('today.txt','r') as f:\n",
    "    text = f.read()\n",
    "    print(text)\n"
   ]
  },
  {
   "cell_type": "markdown",
   "id": "f4cf674b",
   "metadata": {},
   "source": [
    "### 2. Read the text file today.txt into the string today_string"
   ]
  },
  {
   "cell_type": "code",
   "execution_count": 3,
   "id": "6c1ab834",
   "metadata": {},
   "outputs": [
    {
     "name": "stdout",
     "output_type": "stream",
     "text": [
      "27-05-2023\n"
     ]
    }
   ],
   "source": [
    "f = open('today.txt','r')\n",
    "today_string = f.read()\n",
    "print(today_string)"
   ]
  },
  {
   "cell_type": "markdown",
   "id": "8927a8f2",
   "metadata": {},
   "source": [
    "### 3. Parse the date from today_string."
   ]
  },
  {
   "cell_type": "code",
   "execution_count": 6,
   "id": "426cb35c",
   "metadata": {},
   "outputs": [
    {
     "name": "stdout",
     "output_type": "stream",
     "text": [
      "2023-05-27 00:00:00\n"
     ]
    }
   ],
   "source": [
    "parse = datetime.datetime.strptime(today_string,'%d-%m-%Y')\n",
    "print(parse)"
   ]
  },
  {
   "cell_type": "markdown",
   "id": "bb7c7214",
   "metadata": {},
   "source": [
    "### 4. List the files in your current directory"
   ]
  },
  {
   "cell_type": "code",
   "execution_count": 7,
   "id": "1bfb4536",
   "metadata": {},
   "outputs": [
    {
     "name": "stdout",
     "output_type": "stream",
     "text": [
      "Assignment_10_submit.ipynb\n",
      "Assignment_11_submit.ipynb\n",
      "Assignment_12_submit.ipynb\n",
      "Assignment_13_submit.ipynb\n",
      "Assignment_16_submit.ipynb\n",
      "Assignment_17_submit.ipynb\n",
      "Assignment_18_submit.ipynb\n",
      "Assignment_19_submit.ipynb\n",
      "Assignment_20_submit-Copy1.ipynb\n",
      "Assignment_20_submit.ipynb\n",
      "Assignment_3_submit.ipynb\n",
      "Assignment_4_submit.ipynb\n",
      "Assignment_5_submit.ipynb\n",
      "Assignment_6_submit.ipynb\n",
      "Assignment_7_submit.ipynb\n",
      "Assignment_8_submit.ipynb\n",
      "Programming_Assignment10_submit.ipynb\n",
      "Programming_Assignment12_submit.ipynb\n",
      "Programming_Assignment13_submit.ipynb\n",
      "Programming_Assignment14_submit.ipynb\n",
      "Programming_Assignment16_submit.ipynb\n",
      "Programming_Assignment3_submit.ipynb\n",
      "Programming_Assignment4_submit.ipynb\n",
      "Programming_Assignment5_submit.ipynb\n",
      "Programming_Assignment7_submit.ipynb\n",
      "Programming_Assignment8_submit.ipynb\n",
      "today.txt\n",
      "Assignment_10_submit-checkpoint.ipynb\n",
      "Assignment_11_submit-checkpoint.ipynb\n",
      "Assignment_12_submit-checkpoint.ipynb\n",
      "Assignment_13_submit-checkpoint.ipynb\n",
      "Assignment_16_submit-checkpoint.ipynb\n",
      "Assignment_17_submit-checkpoint.ipynb\n",
      "Assignment_18_submit-checkpoint.ipynb\n",
      "Assignment_19_submit-checkpoint.ipynb\n",
      "Assignment_20_submit-checkpoint.ipynb\n",
      "Assignment_20_submit-Copy1-checkpoint.ipynb\n",
      "Assignment_3_submit-checkpoint.ipynb\n",
      "Assignment_4_submit-checkpoint.ipynb\n",
      "Assignment_5_submit-checkpoint.ipynb\n",
      "Assignment_6_submit-checkpoint.ipynb\n",
      "Assignment_7_submit-checkpoint.ipynb\n",
      "Assignment_8_submit-checkpoint.ipynb\n",
      "Programming_Assignment10_submit-checkpoint.ipynb\n",
      "Programming_Assignment13_submit-checkpoint.ipynb\n",
      "Programming_Assignment14_submit-checkpoint.ipynb\n",
      "Programming_Assignment16_submit-checkpoint.ipynb\n",
      "Programming_Assignment3_submit-checkpoint.ipynb\n",
      "Programming_Assignment4_submit-checkpoint.ipynb\n",
      "Programming_Assignment5_submit-checkpoint.ipynb\n",
      "Programming_Assignment7_submit-checkpoint.ipynb\n",
      "Programming_Assignment8_submit-checkpoint.ipynb\n",
      "zoo.cpython-39.pyc\n"
     ]
    }
   ],
   "source": [
    "import os\n",
    "\n",
    "for roots,folders,files in os.walk(os.getcwd()):\n",
    "    for file in files:\n",
    "        print(file)"
   ]
  },
  {
   "cell_type": "markdown",
   "id": "ec3e86a8",
   "metadata": {},
   "source": [
    "### 5. Create a list of all of the files in your parent directory (minimum five files should be available)."
   ]
  },
  {
   "cell_type": "code",
   "execution_count": 8,
   "id": "99cbf2da",
   "metadata": {},
   "outputs": [
    {
     "data": {
      "text/plain": [
       "['.ipynb_checkpoints',\n",
       " 'Assignment_10_submit.ipynb',\n",
       " 'Assignment_11_submit.ipynb',\n",
       " 'Assignment_12_submit.ipynb',\n",
       " 'Assignment_13_submit.ipynb',\n",
       " 'Assignment_16_submit.ipynb',\n",
       " 'Assignment_17_submit.ipynb',\n",
       " 'Assignment_18_submit.ipynb',\n",
       " 'Assignment_19_submit.ipynb',\n",
       " 'Assignment_20_submit-Copy1.ipynb',\n",
       " 'Assignment_20_submit.ipynb',\n",
       " 'Assignment_3_submit.ipynb',\n",
       " 'Assignment_4_submit.ipynb',\n",
       " 'Assignment_5_submit.ipynb',\n",
       " 'Assignment_6_submit.ipynb',\n",
       " 'Assignment_7_submit.ipynb',\n",
       " 'Assignment_8_submit.ipynb',\n",
       " 'Programming_Assignment10_submit.ipynb',\n",
       " 'Programming_Assignment12_submit.ipynb',\n",
       " 'Programming_Assignment13_submit.ipynb',\n",
       " 'Programming_Assignment14_submit.ipynb',\n",
       " 'Programming_Assignment16_submit.ipynb',\n",
       " 'Programming_Assignment3_submit.ipynb',\n",
       " 'Programming_Assignment4_submit.ipynb',\n",
       " 'Programming_Assignment5_submit.ipynb',\n",
       " 'Programming_Assignment7_submit.ipynb',\n",
       " 'Programming_Assignment8_submit.ipynb',\n",
       " 'today.txt',\n",
       " '__pycache__']"
      ]
     },
     "execution_count": 8,
     "metadata": {},
     "output_type": "execute_result"
    }
   ],
   "source": [
    "os.listdir()"
   ]
  },
  {
   "cell_type": "markdown",
   "id": "21ff2f40",
   "metadata": {},
   "source": [
    "### 6. Use multiprocessing to create three separate processes. Make each one wait a random number of seconds between one and five, print the current time, and then exit."
   ]
  },
  {
   "cell_type": "code",
   "execution_count": 16,
   "id": "d0f700a9",
   "metadata": {},
   "outputs": [],
   "source": [
    "import multiprocessing\n",
    "import time\n",
    "import datetime\n",
    "import random\n",
    "\n",
    "def pro1():\n",
    "    print(f\"pro1 start time : {datetime.datetime.now()}\")\n",
    "    time.sleep(random.randint(1,5))\n",
    "    print(f\"pro1 end time : {datetime.datetime.now()}\")\n",
    "    \n",
    "def pro2():\n",
    "    print(f\"pro2 start time : {datetime.datetime.now()}\")\n",
    "    time.sleep(random.randint(1,5))\n",
    "    print(f\"pro2 end time : {datetime.datetime.now()}\")\n",
    "    \n",
    "def pro3():\n",
    "    print(f\"pro3 start time : {datetime.datetime.now()}\")\n",
    "    time.sleep(random.randint(1,5))\n",
    "    print(f\"pro3 end time : {datetime.datetime.now()}\")\n",
    "\n",
    "if __name__ == \"__main__\":\n",
    "    p1 = multiprocessing.Process(target=pro1)\n",
    "    p2 = multiprocessing.Process(target=pro2)  \n",
    "    p3 = multiprocessing.Process(target=pro3)\n",
    "\n",
    "    p1.start()\n",
    "    p2.start()\n",
    "    p3.start()\n",
    "\n",
    "    p1.join()\n",
    "    p2.join()\n",
    "    p3.join()\n",
    "\n",
    "#not printing in jupyter but showing in other IDE"
   ]
  },
  {
   "cell_type": "markdown",
   "id": "b67df13d",
   "metadata": {},
   "source": [
    "### 7. Create a date object of your day of birth."
   ]
  },
  {
   "cell_type": "code",
   "execution_count": 18,
   "id": "50f5e535",
   "metadata": {},
   "outputs": [
    {
     "name": "stdout",
     "output_type": "stream",
     "text": [
      "1999-04-22 00:00:00\n"
     ]
    }
   ],
   "source": [
    "dob = datetime.datetime.strptime(\"22/04/1999\",\"%d/%m/%Y\")\n",
    "print(dob)"
   ]
  },
  {
   "cell_type": "markdown",
   "id": "48846c79",
   "metadata": {},
   "source": [
    "### 8. What day of the week was your day of birth?"
   ]
  },
  {
   "cell_type": "code",
   "execution_count": 20,
   "id": "450d3acb",
   "metadata": {},
   "outputs": [
    {
     "data": {
      "text/plain": [
       "'Thursday'"
      ]
     },
     "execution_count": 20,
     "metadata": {},
     "output_type": "execute_result"
    }
   ],
   "source": [
    "dob.strftime(\"%A\")"
   ]
  },
  {
   "cell_type": "markdown",
   "id": "3af48007",
   "metadata": {},
   "source": [
    "### 9. When will you be (or when were you) 10,000 days old?"
   ]
  },
  {
   "cell_type": "code",
   "execution_count": 22,
   "id": "1a92c7e0",
   "metadata": {},
   "outputs": [
    {
     "name": "stdout",
     "output_type": "stream",
     "text": [
      "2026-09-07 00:00:00\n"
     ]
    }
   ],
   "source": [
    "from datetime import datetime, timedelta\n",
    "future = dob+timedelta(10000)\n",
    "print(future)"
   ]
  }
 ],
 "metadata": {
  "kernelspec": {
   "display_name": "Python 3 (ipykernel)",
   "language": "python",
   "name": "python3"
  },
  "language_info": {
   "codemirror_mode": {
    "name": "ipython",
    "version": 3
   },
   "file_extension": ".py",
   "mimetype": "text/x-python",
   "name": "python",
   "nbconvert_exporter": "python",
   "pygments_lexer": "ipython3",
   "version": "3.9.12"
  }
 },
 "nbformat": 4,
 "nbformat_minor": 5
}
