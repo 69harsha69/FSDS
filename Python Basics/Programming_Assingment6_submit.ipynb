{
 "cells": [
  {
   "cell_type": "markdown",
   "id": "a764ad0e",
   "metadata": {},
   "source": [
    "### 1. Write a Python Program to Display Fibonacci Sequence Using Recursion?"
   ]
  },
  {
   "cell_type": "code",
   "execution_count": 34,
   "id": "58c125bd",
   "metadata": {},
   "outputs": [
    {
     "name": "stdout",
     "output_type": "stream",
     "text": [
      "1 2 3 5 8 13 21 34 "
     ]
    },
    {
     "data": {
      "text/plain": [
       "34"
      ]
     },
     "execution_count": 34,
     "metadata": {},
     "output_type": "execute_result"
    }
   ],
   "source": [
    "#pascals triangle\n",
    "def pascal(n):\n",
    "    l = []\n",
    "    for i in range(n):\n",
    "        l.append([1]*(i+1))\n",
    "        for j in range(1,i):\n",
    "            l[i][j] = l[i-1][j-1] + l[i-1][j]\n",
    "    return l\n",
    "\n",
    "#using [0,1] as default list\n",
    "#when n is less than 2 it recursively adds the next element to list(res)\n",
    "#this happens until n+1 elements accumulate in res\n",
    "def fibonacci_recur(n,res = [0,1]):\n",
    "    if n<len(res):\n",
    "        return res[n]\n",
    "    else:\n",
    "        next_number = fibonacci_recur(n-1,res)+fibonacci_recur(n-2,res)\n",
    "        res.append(next_number)\n",
    "        print(next_number,end =\" \")\n",
    "        return next_number\n",
    "\n",
    "\n",
    "fibonacci_recur(9)\n",
    "\n"
   ]
  },
  {
   "cell_type": "markdown",
   "id": "7bfb7f80",
   "metadata": {},
   "source": [
    "### 2. Write a Python Program to Find Factorial of Number Using Recursion?"
   ]
  },
  {
   "cell_type": "code",
   "execution_count": 36,
   "id": "b68446c9",
   "metadata": {},
   "outputs": [
    {
     "data": {
      "text/plain": [
       "120"
      ]
     },
     "execution_count": 36,
     "metadata": {},
     "output_type": "execute_result"
    }
   ],
   "source": [
    "def factorial_recur(n):\n",
    "    if n<=1:\n",
    "        return n\n",
    "    return n*factorial_recur(n-1)\n",
    "\n",
    "\n",
    "factorial_recur(5)\n"
   ]
  },
  {
   "cell_type": "markdown",
   "id": "67d46d66",
   "metadata": {},
   "source": [
    "### 3. Write a Python Program to calculate your Body Mass Index?"
   ]
  },
  {
   "cell_type": "code",
   "execution_count": 38,
   "id": "c4031fb7",
   "metadata": {},
   "outputs": [
    {
     "name": "stdout",
     "output_type": "stream",
     "text": [
      "Enter your Height(m): 1.78\n",
      "Enter your Weight(kgs): 71\n",
      "your BMI is 22.408786769347305\n"
     ]
    }
   ],
   "source": [
    "#acc to formula\n",
    "#weight in kgs and height in meters\n",
    "def bmi(height,weight):\n",
    "    return (weight/height**2)\n",
    "\n",
    "height = float(input(\"Enter your Height(m): \"))\n",
    "weight = float(input(\"Enter your Weight(kgs): \"))\n",
    "print(f\"your BMI is {bmi(height,weight)}\")"
   ]
  },
  {
   "cell_type": "markdown",
   "id": "dbb902b0",
   "metadata": {},
   "source": [
    "### 4. Write a Python Program to calculate the natural logarithm of any number?"
   ]
  },
  {
   "cell_type": "code",
   "execution_count": 44,
   "id": "4dc57051",
   "metadata": {},
   "outputs": [
    {
     "data": {
      "text/plain": [
       "4.605170185988092"
      ]
     },
     "execution_count": 44,
     "metadata": {},
     "output_type": "execute_result"
    }
   ],
   "source": [
    "import math\n",
    "\n",
    "def natural_log(n):\n",
    "    return math.log(n)\n",
    "\n",
    "natural_log(100)"
   ]
  },
  {
   "cell_type": "markdown",
   "id": "5649c749",
   "metadata": {},
   "source": [
    "### 5. Write a Python Program for cube sum of first n natural numbers?"
   ]
  },
  {
   "cell_type": "code",
   "execution_count": 46,
   "id": "ef4e9e99",
   "metadata": {
    "scrolled": true
   },
   "outputs": [
    {
     "name": "stdout",
     "output_type": "stream",
     "text": [
      "Type anynumber: 13\n",
      "cube sum of first 13 natural numbers is : 6084\n"
     ]
    }
   ],
   "source": [
    "#only works for integers\n",
    "def cubes(n):\n",
    "    l = [i**3 for i in range(n)]\n",
    "    return sum(l)\n",
    "\n",
    "num1 = int(input(\"Type anynumber: \"))\n",
    "print(f\"cube sum of first {num1} natural numbers is : {cubes(num1)}\")\n"
   ]
  }
 ],
 "metadata": {
  "kernelspec": {
   "display_name": "Python 3 (ipykernel)",
   "language": "python",
   "name": "python3"
  },
  "language_info": {
   "codemirror_mode": {
    "name": "ipython",
    "version": 3
   },
   "file_extension": ".py",
   "mimetype": "text/x-python",
   "name": "python",
   "nbconvert_exporter": "python",
   "pygments_lexer": "ipython3",
   "version": "3.9.12"
  }
 },
 "nbformat": 4,
 "nbformat_minor": 5
}
