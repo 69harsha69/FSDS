{
 "cells": [
  {
   "cell_type": "markdown",
   "id": "30ccbb68",
   "metadata": {},
   "source": [
    "### 1.Create a function that takes three integer arguments (a, b, c) and returns the amount of integers which are of equal value.\n",
    "Examples:\n",
    "equal(3, 4, 3) ➞ 2\n",
    "equal(1, 1, 1) ➞ 3\n",
    "equal(3, 4, 1) ➞ 0\n",
    "\n",
    "Notes:\n",
    "Your function must return 0, 2 or 3."
   ]
  },
  {
   "cell_type": "code",
   "execution_count": 2,
   "id": "0eefa5c7",
   "metadata": {
    "scrolled": true
   },
   "outputs": [
    {
     "name": "stdout",
     "output_type": "stream",
     "text": [
      "0\n",
      "3\n",
      "0\n"
     ]
    }
   ],
   "source": [
    "def equal(a,b,c):\n",
    "    if a==b==c:\n",
    "        print(3)\n",
    "    elif a==b or b==c:\n",
    "        print(2)\n",
    "    else:\n",
    "        print(0)\n",
    "    \n",
    "equal(3, 4, 3)\n",
    "equal(1, 1, 1)\n",
    "equal(3, 4, 1)"
   ]
  },
  {
   "cell_type": "markdown",
   "id": "1e2a01b4",
   "metadata": {},
   "source": [
    "### 2.Write a function that converts a dictionary into a list of keys-values tuples.\n",
    "    Examples:\n",
    "    dict_to_list({ \"D\": 1, \"B\": 2, \"C\": 3 }) ➞ [(\"B\", 2), (\"C\", 3), (\"D\", 1)] dict_to_list({ \"likes\": 2, \"dislikes\": 3, \"followers\": 10 }) ➞ [(\"dislikes\", 3), (\"followers\", 10), (\"likes\", 2)]"
   ]
  },
  {
   "cell_type": "code",
   "execution_count": 3,
   "id": "f52f98ec",
   "metadata": {
    "scrolled": true
   },
   "outputs": [
    {
     "name": "stdout",
     "output_type": "stream",
     "text": [
      "[('D', 1), ('B', 2), ('C', 3)]\n",
      "[('likes', 2), ('dislikes', 3), ('followers', 10)]\n"
     ]
    }
   ],
   "source": [
    "def dict_to_list(d):\n",
    "    out = []\n",
    "    for key,value in d.items():\n",
    "        out.append((key,value))\n",
    "    print(out)\n",
    "    \n",
    "dict_to_list({\"D\": 1,\"B\": 2,\"C\": 3})\n",
    "dict_to_list({\"likes\": 2,\"dislikes\": 3,\"followers\": 10})"
   ]
  },
  {
   "cell_type": "markdown",
   "id": "1f799a5d",
   "metadata": {},
   "source": [
    "### 3.Write a function that creates a dictionary with each (key, value) pair being the (lower case, upper case) versions of a letter, respectively.\n",
    "    Examples:\n",
    "    mapping([\"p\", \"s\"]) ➞ { \"p\": \"P\", \"s\": \"S\" }\n",
    "    mapping([\"a\", \"b\", \"c\"]) ➞ { \"a\": \"A\", \"b\": \"B\", \"c\": \"C\" }\n",
    "    mapping([\"a\", \"v\", \"y\", \"z\"]) ➞ { \"a\": \"A\", \"v\": \"V\", \"y\": \"Y\", \"z\": \"Z\" }"
   ]
  },
  {
   "cell_type": "code",
   "execution_count": 4,
   "id": "31a14bf5",
   "metadata": {},
   "outputs": [
    {
     "name": "stdout",
     "output_type": "stream",
     "text": [
      "{'p': 'P', 's': 'S'}\n",
      "{'a': 'A', 'b': 'B', 'c': 'C'}\n",
      "{'a': 'A', 'v': 'V', 'y': 'Y', 'z': 'Z'}\n"
     ]
    }
   ],
   "source": [
    "def mapping(l):\n",
    "    d= {}\n",
    "    for i in l:\n",
    "        d[i]=i.upper()\n",
    "    print(d)\n",
    "\n",
    "mapping([\"p\", \"s\"])\n",
    "mapping([\"a\", \"b\", \"c\"])\n",
    "mapping([\"a\", \"v\", \"y\", \"z\"])"
   ]
  },
  {
   "cell_type": "markdown",
   "id": "2c577e18",
   "metadata": {},
   "source": [
    "### 4.Write a function, that replaces all vowels in a string with a specified vowel.\n",
    "    Examples:\n",
    "    vow_replace(\"apples and bananas\", \"u\") ➞ \"upplus und bununus\"\n",
    "    vow_replace(\"cheese casserole\", \"o\") ➞ \"chooso cossorolo\"\n",
    "    vow_replace(\"stuffed jalapeno poppers\", \"e\") ➞ \"steffed jelepene peppers\""
   ]
  },
  {
   "cell_type": "code",
   "execution_count": 5,
   "id": "fae6883e",
   "metadata": {},
   "outputs": [
    {
     "name": "stdout",
     "output_type": "stream",
     "text": [
      "upplus und bununus\n",
      "chooso cossorolo\n",
      "steffed jelepene peppers\n"
     ]
    }
   ],
   "source": [
    "def vow_replace(string,char):\n",
    "    vowels =  ['a','e','i','o','u']\n",
    "    out = \"\"\n",
    "    for i in string:\n",
    "        if i in vowels:\n",
    "            out += char\n",
    "        else:\n",
    "            out += i\n",
    "    print(out)\n",
    "        \n",
    "vow_replace(\"apples and bananas\", \"u\")\n",
    "vow_replace(\"cheese casserole\", \"o\")\n",
    "vow_replace(\"stuffed jalapeno poppers\", \"e\")"
   ]
  },
  {
   "cell_type": "markdown",
   "id": "1775af9c",
   "metadata": {},
   "source": [
    "### 5.Create a function that takes a string as input and capitalizes a letter if its ASCII code is even and returns its lower case version if its ASCII code is odd.\n",
    "    Examples:\n",
    "    ascii_capitalize(\"to be or not to be!\") ➞ \"To Be oR NoT To Be!\"\n",
    "    ascii_capitalize(\"THE LITTLE MERMAID\") ➞ \"THe LiTTLe meRmaiD\"\n",
    "    ascii_capitalize(\"Oh what a beautiful morning.\") ➞ \"oH wHaT a BeauTiFuL moRNiNg.\""
   ]
  },
  {
   "cell_type": "code",
   "execution_count": 6,
   "id": "90760dfb",
   "metadata": {},
   "outputs": [
    {
     "name": "stdout",
     "output_type": "stream",
     "text": [
      "To Be oR NoT To Be!\n",
      "THe LiTTLe meRmaiD\n",
      "oH wHaT a BeauTiFuL moRNiNg.\n"
     ]
    }
   ],
   "source": [
    "def ascii_capitalize(sen):\n",
    "    out = \"\"\n",
    "    for i in sen.lower():\n",
    "        if(ord(i)%2==0):\n",
    "            out+=i.upper()\n",
    "        else:\n",
    "            out+=i\n",
    "    print(out)\n",
    "    \n",
    "ascii_capitalize(\"to be or not to be!\")\n",
    "ascii_capitalize(\"THE LITTLE MERMAID\")\n",
    "ascii_capitalize(\"Oh what a beautiful morning.\")"
   ]
  }
 ],
 "metadata": {
  "kernelspec": {
   "display_name": "Python 3 (ipykernel)",
   "language": "python",
   "name": "python3"
  },
  "language_info": {
   "codemirror_mode": {
    "name": "ipython",
    "version": 3
   },
   "file_extension": ".py",
   "mimetype": "text/x-python",
   "name": "python",
   "nbconvert_exporter": "python",
   "pygments_lexer": "ipython3",
   "version": "3.9.12"
  }
 },
 "nbformat": 4,
 "nbformat_minor": 5
}
