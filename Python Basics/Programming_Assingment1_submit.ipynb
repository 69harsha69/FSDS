{
 "cells": [
  {
   "cell_type": "markdown",
   "id": "4ec25dbe",
   "metadata": {},
   "source": [
    "### 1.Write a Python program to print \"Hello Python\"?"
   ]
  },
  {
   "cell_type": "code",
   "execution_count": 1,
   "id": "d338392f",
   "metadata": {},
   "outputs": [
    {
     "name": "stdout",
     "output_type": "stream",
     "text": [
      "Hello Python\n"
     ]
    }
   ],
   "source": [
    "print(\"Hello Python\")"
   ]
  },
  {
   "cell_type": "markdown",
   "id": "cff960c7",
   "metadata": {},
   "source": [
    "### 2.Write a Python program to do arithmetical operations addition and division.?"
   ]
  },
  {
   "cell_type": "code",
   "execution_count": 2,
   "id": "9cdbdec1",
   "metadata": {},
   "outputs": [
    {
     "name": "stdout",
     "output_type": "stream",
     "text": [
      "Type any number: 45\n",
      "Type any number: 654\n",
      "Addition result 699\n",
      "Dividion result 0.06880733944954129\n"
     ]
    }
   ],
   "source": [
    "def add(a,b):\n",
    "    return a+b\n",
    "\n",
    "def divide(a,b):\n",
    "    return a/b\n",
    "\n",
    "num1 = int(input(\"Type any number: \"))\n",
    "num2 = int(input(\"Type any number: \"))\n",
    "print(f\"Addition result {add(num1,num2)}\")\n",
    "print(f\"Dividion result {divide(num1,num2)}\")"
   ]
  },
  {
   "cell_type": "markdown",
   "id": "c5f15a0e",
   "metadata": {},
   "source": [
    "### 3.Write a Python program to find the area of a triangle?"
   ]
  },
  {
   "cell_type": "code",
   "execution_count": 3,
   "id": "b9f622a2",
   "metadata": {},
   "outputs": [
    {
     "name": "stdout",
     "output_type": "stream",
     "text": [
      "enter base size: 45\n",
      "enter height size: 8\n",
      "area if triangle with base : 45 and height 8 is 180.0\n"
     ]
    }
   ],
   "source": [
    "def area(base,height):\n",
    "    return 0.5*base*height\n",
    "\n",
    "base = int(input(\"enter base size: \"))\n",
    "height = int(input(\"enter height size: \"))\n",
    "print(f\"area if triangle with base : {base} and height {height} is {area(base,height)}\")"
   ]
  },
  {
   "cell_type": "markdown",
   "id": "5a43c0c9",
   "metadata": {},
   "source": [
    "### 4.Write a Python program to swap two variables?"
   ]
  },
  {
   "cell_type": "code",
   "execution_count": 8,
   "id": "4f8ca584",
   "metadata": {
    "scrolled": true
   },
   "outputs": [
    {
     "name": "stdout",
     "output_type": "stream",
     "text": [
      "Type any: hi\n",
      "Type any: wassup\n",
      "two varaibles are num1 : hi and num2 : wassup\n",
      "two varaibles are num1 : wassup and num2 : hi\n"
     ]
    }
   ],
   "source": [
    "def swap(a,b):\n",
    "    temp = a\n",
    "    a=b\n",
    "    b = temp\n",
    "    return a,b\n",
    "\n",
    "num1 = input(\"Type any: \")\n",
    "num2 = input(\"Type any: \")\n",
    "print(f\"two varaibles are num1 : {num1} and num2 : {num2}\")\n",
    "num1,num2 = swap(num1,num2)\n",
    "print(f\"two varaibles are num1 : {num1} and num2 : {num2}\")      "
   ]
  },
  {
   "cell_type": "markdown",
   "id": "e1be2735",
   "metadata": {},
   "source": [
    "### 5.Write a Python program to generate a random number?"
   ]
  },
  {
   "cell_type": "code",
   "execution_count": 19,
   "id": "7b7cb8a1",
   "metadata": {},
   "outputs": [
    {
     "name": "stdout",
     "output_type": "stream",
     "text": [
      "41\n"
     ]
    }
   ],
   "source": [
    "import random\n",
    "\n",
    "print(random.randint(1,100))"
   ]
  }
 ],
 "metadata": {
  "kernelspec": {
   "display_name": "Python 3 (ipykernel)",
   "language": "python",
   "name": "python3"
  },
  "language_info": {
   "codemirror_mode": {
    "name": "ipython",
    "version": 3
   },
   "file_extension": ".py",
   "mimetype": "text/x-python",
   "name": "python",
   "nbconvert_exporter": "python",
   "pygments_lexer": "ipython3",
   "version": "3.9.12"
  }
 },
 "nbformat": 4,
 "nbformat_minor": 5
}
