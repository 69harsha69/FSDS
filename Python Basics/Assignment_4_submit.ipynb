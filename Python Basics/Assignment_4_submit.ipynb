{
 "cells": [
  {
   "cell_type": "markdown",
   "id": "ae32cc84",
   "metadata": {},
   "source": [
    "### 1. What exactly is [ ]?"
   ]
  },
  {
   "cell_type": "markdown",
   "id": "86844952",
   "metadata": {},
   "source": [
    "\n",
    "ans:\n",
    "\n",
    "its used to represent a list in python.The entities are stored in a sequntial order"
   ]
  },
  {
   "cell_type": "markdown",
   "id": "f4cf674b",
   "metadata": {},
   "source": [
    "### 2. In a list of values stored in a variable called spam, how would you assign the value &#39;hello&#39; as the third value? (Assume [2, 4, 6, 8, 10] are in spam.)"
   ]
  },
  {
   "cell_type": "markdown",
   "id": "ffe43fd3",
   "metadata": {},
   "source": [
    "\n",
    "ans:\n",
    "\n",
    "here 3rd element in spam is 6 which is spam[2].to assign hello to it\n",
    "\n",
    "spam[2] = 'hello' makes spam = [2,4,'hello',8,10]"
   ]
  },
  {
   "cell_type": "markdown",
   "id": "d7f9cada",
   "metadata": {},
   "source": [
    "## let spam = ['a','b','c','d']"
   ]
  },
  {
   "cell_type": "markdown",
   "id": "8927a8f2",
   "metadata": {},
   "source": [
    "###  3. What is the value of spam[int(int(&#39;3&#39; * 2) / 11)]?"
   ]
  },
  {
   "cell_type": "markdown",
   "id": "8c1f3816",
   "metadata": {},
   "source": [
    "\n",
    "ans:\n",
    "\n",
    "* '3'*2 = '33'\n",
    "* int'33' = 33\n",
    "* 33/11 = 3.0\n",
    "* int(3.0) = 3\n",
    "* spam[3] = 'd'\n"
   ]
  },
  {
   "cell_type": "markdown",
   "id": "bb7c7214",
   "metadata": {},
   "source": [
    "### 4. What is the value of spam[-1]?"
   ]
  },
  {
   "cell_type": "markdown",
   "id": "e8857852",
   "metadata": {},
   "source": [
    "\n",
    "ans:\n",
    "\n",
    "spam[-1] = 'd'\n"
   ]
  },
  {
   "cell_type": "markdown",
   "id": "ec3e86a8",
   "metadata": {},
   "source": [
    "### 5. What is the value of spam[:2]?"
   ]
  },
  {
   "cell_type": "markdown",
   "id": "a375efd9",
   "metadata": {},
   "source": [
    "\n",
    "ans:\n",
    "\n",
    "spam[:2] means everything from starting until 2nd element\n",
    "\n",
    "==> a,b"
   ]
  },
  {
   "cell_type": "markdown",
   "id": "b8318d19",
   "metadata": {},
   "source": [
    "## let bacon = [3.14, &#39;cat,&#39; 11, &#39;cat,&#39; True]"
   ]
  },
  {
   "cell_type": "markdown",
   "id": "21ff2f40",
   "metadata": {},
   "source": [
    "### 6. What is the value of bacon.index(&#39;cat&#39;)?"
   ]
  },
  {
   "cell_type": "markdown",
   "id": "1f2ff41a",
   "metadata": {},
   "source": [
    "\n",
    "ans:\n",
    "\n",
    "This gives the index number of where 'cat' is first located in the list bacon\n",
    "\n",
    "so, bacon.index('cat') = 1"
   ]
  },
  {
   "cell_type": "markdown",
   "id": "b21d847d",
   "metadata": {},
   "source": [
    "### 7. How does bacon.append(99) change the look of the list value in bacon?"
   ]
  },
  {
   "cell_type": "markdown",
   "id": "a3e6bf2a",
   "metadata": {},
   "source": [
    "\n",
    "ans:\n",
    "\n",
    "[3.14, 'cat', 11, 'cat', True , 99]"
   ]
  },
  {
   "cell_type": "markdown",
   "id": "4bbdf6fc",
   "metadata": {},
   "source": [
    "### 8. How does bacon.remove(&#39;cat&#39;) change the look of the list in bacon?"
   ]
  },
  {
   "cell_type": "markdown",
   "id": "e5bc3ad6",
   "metadata": {},
   "source": [
    "\n",
    "ans:\n",
    "\n",
    "[3.14,  11, 'cat' ,True , 99]"
   ]
  },
  {
   "cell_type": "markdown",
   "id": "8cb97a55",
   "metadata": {},
   "source": [
    "### 9. What are the list concatenation and list replication operators?"
   ]
  },
  {
   "cell_type": "markdown",
   "id": "a77fea99",
   "metadata": {},
   "source": [
    "\n",
    "ans:\n",
    "\n",
    "'+' are '*' are concatenation and replication operators\n",
    "\n",
    "ex:\n",
    "\n",
    "* l = [1,2,3]\n",
    "* l*2 = [1,2,3,1,2,3]\n",
    "* l+[1] = [1,2,3,1]\n"
   ]
  },
  {
   "cell_type": "markdown",
   "id": "6fa5da37",
   "metadata": {},
   "source": [
    "### 10. What is difference between the list methods append() and insert()?"
   ]
  },
  {
   "cell_type": "markdown",
   "id": "a1e7fac6",
   "metadata": {},
   "source": [
    "\n",
    "ans:\n",
    "\n",
    "* append inserts elements at the end of the list\n",
    "* insert inserts elements at the user desired positon without deleting the element in that position\n",
    "\n",
    "ex:\n",
    "\n",
    "l = [1,2,3]\n",
    "\n",
    "l.insert(1,1) ==> [1,1,2,3]\n",
    "l.append(5) ==> [1,1,2,3,5]"
   ]
  },
  {
   "cell_type": "markdown",
   "id": "22e52d7b",
   "metadata": {},
   "source": [
    "### 11. What are the two methods for removing items from a list?\n"
   ]
  },
  {
   "cell_type": "markdown",
   "id": "ac47f2e3",
   "metadata": {},
   "source": [
    "\n",
    "ans:\n",
    "\n",
    "* pop(n) can be used to remove element at the nth index of the list\n",
    "* remove can be used to remove a specific element of the list"
   ]
  },
  {
   "cell_type": "code",
   "execution_count": 18,
   "id": "4500663f",
   "metadata": {},
   "outputs": [
    {
     "name": "stdout",
     "output_type": "stream",
     "text": [
      "[1, 'br', 3, 4, 5]\n",
      "[1, 3, 4, 5]\n"
     ]
    }
   ],
   "source": [
    "a = [1,2,'br',3,4,5]\n",
    "a.pop(1)\n",
    "print(a)\n",
    "a.remove('br')\n",
    "print(a)"
   ]
  },
  {
   "cell_type": "markdown",
   "id": "56c0e907",
   "metadata": {},
   "source": [
    "### 12. Describe how list values and string values are identical."
   ]
  },
  {
   "cell_type": "markdown",
   "id": "28c6495c",
   "metadata": {},
   "source": [
    "\n",
    "ans:\n",
    "\n",
    "for example take a list and string \n",
    "\n",
    "l = ['a','b','c']\n",
    "\n",
    "s = 'abc'\n",
    "\n",
    "Here \n",
    "* l[0]==s[0]=='a'\n",
    "* both are sequences\n",
    "\n"
   ]
  },
  {
   "cell_type": "markdown",
   "id": "1fdeb451",
   "metadata": {},
   "source": [
    "### 13. What&#39;s the difference between tuples and lists?"
   ]
  },
  {
   "cell_type": "markdown",
   "id": "9fff4375",
   "metadata": {},
   "source": [
    "\n",
    "ans:\n",
    "\n",
    "the core difference is that the list object contents can be changed after its creation but the content of a tuple cannot be change once they are created"
   ]
  },
  {
   "cell_type": "markdown",
   "id": "232bc154",
   "metadata": {},
   "source": [
    "### 14. How do you type a tuple value that only contains the integer 42?"
   ]
  },
  {
   "cell_type": "markdown",
   "id": "4f262923",
   "metadata": {},
   "source": [
    "\n",
    "ans:\n",
    "\n",
    "\n",
    "\n"
   ]
  },
  {
   "cell_type": "code",
   "execution_count": 23,
   "id": "5e3278c4",
   "metadata": {},
   "outputs": [],
   "source": [
    "t = (42,)"
   ]
  },
  {
   "cell_type": "markdown",
   "id": "c303e308",
   "metadata": {},
   "source": [
    "### 15. How do you get a list value&#39;s tuple form? How do you get a tuple value&#39;s list form?"
   ]
  },
  {
   "cell_type": "markdown",
   "id": "bcbce775",
   "metadata": {},
   "source": [
    "\n",
    "ans:\n",
    "\n",
    "The object statement can be directly used in python for type casting"
   ]
  },
  {
   "cell_type": "code",
   "execution_count": 24,
   "id": "4eafaa8b",
   "metadata": {},
   "outputs": [
    {
     "name": "stdout",
     "output_type": "stream",
     "text": [
      "List values tuple form (1, 2, 3, 4)\n",
      "Tuple values list form [1, 2, 3, 4]\n"
     ]
    }
   ],
   "source": [
    "list_obj = [1,2,3,4]\n",
    "tuple_object = (1,2,3,4)\n",
    "\n",
    "print(f\"List values tuple form {tuple(list_obj)}\")\n",
    "print(f\"Tuple values list form {list(tuple_object)}\")"
   ]
  },
  {
   "cell_type": "markdown",
   "id": "d150816c",
   "metadata": {},
   "source": [
    "### 16. Variables that &quot;contain&quot; list values are not necessarily lists themselves. Instead, what do they contain?"
   ]
  },
  {
   "cell_type": "markdown",
   "id": "e88c7d8f",
   "metadata": {},
   "source": [
    "\n",
    "ans:\n",
    "    \n",
    "In general when every a list is created a sequential dynmaic block of memory is allocated to it.Each value in list is stored in a memory location within the block.\n",
    "\n",
    "So,Actually they contain the references(address) to the value "
   ]
  },
  {
   "cell_type": "markdown",
   "id": "5f43f00f",
   "metadata": {},
   "source": [
    "### 17. How do you distinguish between copy.copy() and copy.deepcopy()?"
   ]
  },
  {
   "cell_type": "markdown",
   "id": "9d65f70b",
   "metadata": {},
   "source": [
    "\n",
    "ans:\n",
    "\n",
    "copy.copy() creates a copy of the object where the parent and child both references are identical.if value in child is changed value in parent is also changed\n",
    "\n",
    "copy.deepcopy() creates a copy of object where the parent and child both refer to different addresses.So another chunck of memory is used to store the copy"
   ]
  },
  {
   "cell_type": "code",
   "execution_count": null,
   "id": "2d9a9d08",
   "metadata": {},
   "outputs": [],
   "source": []
  }
 ],
 "metadata": {
  "kernelspec": {
   "display_name": "Python 3 (ipykernel)",
   "language": "python",
   "name": "python3"
  },
  "language_info": {
   "codemirror_mode": {
    "name": "ipython",
    "version": 3
   },
   "file_extension": ".py",
   "mimetype": "text/x-python",
   "name": "python",
   "nbconvert_exporter": "python",
   "pygments_lexer": "ipython3",
   "version": "3.9.12"
  }
 },
 "nbformat": 4,
 "nbformat_minor": 5
}
