{
 "cells": [
  {
   "cell_type": "markdown",
   "id": "ae32cc84",
   "metadata": {},
   "source": [
    "### 1. What is the relationship between def statements and lambda expressions ?"
   ]
  },
  {
   "cell_type": "markdown",
   "id": "29de6be6",
   "metadata": {},
   "source": [
    "def - methods or funciton are created <br>\n",
    "lambda - used to creade anonumous funcitons which are similar to expressions.No body is present"
   ]
  },
  {
   "cell_type": "markdown",
   "id": "f4cf674b",
   "metadata": {},
   "source": [
    "### 2. What is the benefit of lambda?"
   ]
  },
  {
   "cell_type": "markdown",
   "id": "3195adc1",
   "metadata": {},
   "source": [
    "* Nameless funcitons can be created.\n",
    "* single line funcitons\n",
    "* these can be assigned to a varaiable "
   ]
  },
  {
   "cell_type": "markdown",
   "id": "8927a8f2",
   "metadata": {},
   "source": [
    "### 3. Compare and contrast map, filter, and reduce."
   ]
  },
  {
   "cell_type": "markdown",
   "id": "72d3dd53",
   "metadata": {},
   "source": [
    "* map(): This function takes another function as a parameter and executes it for each item in iterable\n",
    "* filter(): is used to create an output list consisting of values for which the function returns true. \n",
    "* reduce(): applies a given function or lambda to the iterables and returns a single value"
   ]
  },
  {
   "cell_type": "markdown",
   "id": "bb7c7214",
   "metadata": {},
   "source": [
    "### 4. What are function annotations, and how are they used?"
   ]
  },
  {
   "cell_type": "markdown",
   "id": "8f0337dc",
   "metadata": {},
   "source": [
    "Function annotations provide a way of associating various parts of a function with arbitrary expressions or datatype at compile time.\n",
    "Annotations of simple parameters def func(x: expression, y: expression = 20):\n",
    "Whereas the annotations for excess parameters are as − def func (**args: expression, **kwargs: expression):"
   ]
  },
  {
   "cell_type": "markdown",
   "id": "ec3e86a8",
   "metadata": {},
   "source": [
    "### 5. What are recursive functions, and how are they used?"
   ]
  },
  {
   "cell_type": "markdown",
   "id": "4506143f",
   "metadata": {},
   "source": [
    "when a funciton calls itself during runtime where a additional subspace or memoery stack is created and this is used to solve a complex problem which is broken down to mulitple simple problems"
   ]
  },
  {
   "cell_type": "markdown",
   "id": "21ff2f40",
   "metadata": {},
   "source": [
    "### 6. What are some general design guidelines for coding functions?"
   ]
  },
  {
   "cell_type": "markdown",
   "id": "a127b9de",
   "metadata": {},
   "source": [
    "* write your code in funcitons which are used in the main program\n",
    "* write docstirngs of funcitons\n",
    "* write varaible and funciton names as per its funcitonality\n",
    "* avaoid using numbers while choosing a varialbe"
   ]
  },
  {
   "cell_type": "markdown",
   "id": "b67df13d",
   "metadata": {},
   "source": [
    "### 7. Create a date object of your day of birth."
   ]
  },
  {
   "cell_type": "code",
   "execution_count": 18,
   "id": "50f5e535",
   "metadata": {},
   "outputs": [
    {
     "name": "stdout",
     "output_type": "stream",
     "text": [
      "1999-04-22 00:00:00\n"
     ]
    }
   ],
   "source": [
    "dob = datetime.datetime.strptime(\"22/04/1999\",\"%d/%m/%Y\")\n",
    "print(dob)"
   ]
  },
  {
   "cell_type": "markdown",
   "id": "48846c79",
   "metadata": {},
   "source": [
    "### 8. What day of the week was your day of birth?"
   ]
  },
  {
   "cell_type": "code",
   "execution_count": 20,
   "id": "450d3acb",
   "metadata": {},
   "outputs": [
    {
     "data": {
      "text/plain": [
       "'Thursday'"
      ]
     },
     "execution_count": 20,
     "metadata": {},
     "output_type": "execute_result"
    }
   ],
   "source": [
    "dob.strftime(\"%A\")"
   ]
  },
  {
   "cell_type": "markdown",
   "id": "3af48007",
   "metadata": {},
   "source": [
    "### 9. When will you be (or when were you) 10,000 days old?"
   ]
  },
  {
   "cell_type": "code",
   "execution_count": 22,
   "id": "1a92c7e0",
   "metadata": {},
   "outputs": [
    {
     "name": "stdout",
     "output_type": "stream",
     "text": [
      "2026-09-07 00:00:00\n"
     ]
    }
   ],
   "source": [
    "from datetime import datetime, timedelta\n",
    "future = dob+timedelta(10000)\n",
    "print(future)"
   ]
  }
 ],
 "metadata": {
  "kernelspec": {
   "display_name": "Python 3 (ipykernel)",
   "language": "python",
   "name": "python3"
  },
  "language_info": {
   "codemirror_mode": {
    "name": "ipython",
    "version": 3
   },
   "file_extension": ".py",
   "mimetype": "text/x-python",
   "name": "python",
   "nbconvert_exporter": "python",
   "pygments_lexer": "ipython3",
   "version": "3.9.12"
  }
 },
 "nbformat": 4,
 "nbformat_minor": 5
}
