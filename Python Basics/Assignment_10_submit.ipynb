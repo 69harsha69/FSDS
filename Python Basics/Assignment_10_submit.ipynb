{
 "cells": [
  {
   "cell_type": "markdown",
   "id": "ae32cc84",
   "metadata": {},
   "source": [
    "### 1. How do you distinguish between shutil.copy() and shutil.copytree()?"
   ]
  },
  {
   "cell_type": "markdown",
   "id": "101a0198",
   "metadata": {},
   "source": [
    "\n",
    "ans:\n",
    "\n",
    "shutil.copy() is used to copy the contents of a file from a locaiton to a specified destination location.<br>\n",
    "shutil.copytree() also has the same funcitonality as the above but done decursively.Also destination directory must not exist."
   ]
  },
  {
   "cell_type": "markdown",
   "id": "f4cf674b",
   "metadata": {},
   "source": [
    "### 2. What function is used to rename files??"
   ]
  },
  {
   "cell_type": "markdown",
   "id": "8599adbc",
   "metadata": {},
   "source": [
    "\n",
    "ans:\n",
    "\n",
    "os.rename() is used to rename files<br>\n",
    "ex:<br>\n",
    "    os.renmae('abc.txt','cde.txt') <br>\n",
    "    abc.txt is renamed as cde.txt"
   ]
  },
  {
   "cell_type": "markdown",
   "id": "8927a8f2",
   "metadata": {},
   "source": [
    "### 3. What is the difference between the delete functions in the send2trash and shutil modules?"
   ]
  },
  {
   "cell_type": "markdown",
   "id": "2e8ba466",
   "metadata": {},
   "source": [
    "\n",
    "ans:\n",
    "\n",
    "send2trash() deletes and sends to recyclebin which can be recovered.<br>\n",
    "shutil.rmtree() deletes the directory and files in it completely similar to shift+delete.cant be recovered."
   ]
  },
  {
   "cell_type": "markdown",
   "id": "bb7c7214",
   "metadata": {},
   "source": [
    "### 4.ZipFile objects have a close() method just like File objects’ close() method. What ZipFile method is equivalent to File objects’ open() method?"
   ]
  },
  {
   "cell_type": "markdown",
   "id": "25524429",
   "metadata": {},
   "source": [
    "ans:\n",
    "\n",
    "**file object**\n",
    "\n",
    "with open(file_path,'w/r/a') as f:\n",
    "\n",
    "**zipfile object**\n",
    "\n",
    "with ZipFile(zipfile_path,'w/r/a') as z:\n",
    "\n",
    "both can be used to read,write or append"
   ]
  },
  {
   "cell_type": "markdown",
   "id": "ec3e86a8",
   "metadata": {},
   "source": [
    "### 5. Create a programme that searches a folder tree for files with a certain file extension (such as .pdf or .jpg). Copy these files from whatever location they are in to a new folder."
   ]
  },
  {
   "cell_type": "code",
   "execution_count": 60,
   "id": "014c2b3d",
   "metadata": {},
   "outputs": [
    {
     "name": "stdout",
     "output_type": "stream",
     "text": [
      "True\n",
      "True\n"
     ]
    }
   ],
   "source": [
    "import os\n",
    "import re\n",
    "import shutil\n",
    "\n",
    "destination = \"D:\\\\SD\\\\dest\"\n",
    "pattern = re.compile(r\".*\\.(pdf|jpg)\")\n",
    "for roots,dirs,files in os.walk(\"D:\\\\SD\"):\n",
    "    for file in files:\n",
    "        matches =  pattern.search(file)\n",
    "        if matches:\n",
    "            print(os.path.exists(roots+'\\\\' + matches[0]))\n",
    "            try:\n",
    "                shutil.copy(roots+'\\\\' + matches[0],destination+'\\\\' + matches[0])\n",
    "            except IOError as e:\n",
    "                os.makedirs(destination)\n",
    "                shutil.copy(roots+'\\\\' + matches[0],destination+'\\\\' + matches[0])\n",
    "                "
   ]
  }
 ],
 "metadata": {
  "kernelspec": {
   "display_name": "Python 3 (ipykernel)",
   "language": "python",
   "name": "python3"
  },
  "language_info": {
   "codemirror_mode": {
    "name": "ipython",
    "version": 3
   },
   "file_extension": ".py",
   "mimetype": "text/x-python",
   "name": "python",
   "nbconvert_exporter": "python",
   "pygments_lexer": "ipython3",
   "version": "3.9.12"
  }
 },
 "nbformat": 4,
 "nbformat_minor": 5
}
