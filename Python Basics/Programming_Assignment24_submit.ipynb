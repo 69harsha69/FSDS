{
 "cells": [
  {
   "cell_type": "markdown",
   "id": "30ccbb68",
   "metadata": {},
   "source": [
    "### 1.Create a function that takes an integer and returns a list from 1 to the given number, where:\n",
    "    1.If the number can be divided evenly by 4, amplify it by 10 (i.e. return 10 times the number).\n",
    "    2.If the number cannot be divided evenly by 4, simply return the number.\n",
    "\n",
    "    Examples:\n",
    "    amplify(4) ➞ [1, 2, 3, 40]\n",
    "    amplify(3) ➞ [1, 2, 3]\n",
    "    amplify(25) ➞ [1, 2, 3, 40, 5, 6, 7, 80, 9, 10, 11, 120, 13, 14, 15, 160, 17, 18, 19, 200, 21, 22, 23, 240, 25]\n",
    "\n",
    "    Notes:\n",
    "    1.The given integer will always be equal to or greater than 1.\n",
    "    2.Include the number (see example above)."
   ]
  },
  {
   "cell_type": "code",
   "execution_count": 3,
   "id": "0eefa5c7",
   "metadata": {
    "scrolled": true
   },
   "outputs": [
    {
     "name": "stdout",
     "output_type": "stream",
     "text": [
      "[1, 2, 3, 40]\n",
      "[1, 2, 3]\n",
      "[1, 2, 3, 40, 5, 6, 7, 80, 9, 10, 11, 120, 13, 14, 15, 160, 17, 18, 19, 200, 21, 22, 23, 240, 25]\n"
     ]
    }
   ],
   "source": [
    "def amplify(num):\n",
    "    out_list = []\n",
    "    for ele in range(1,num+1):\n",
    "        if ele%4 == 0:\n",
    "            out_list.append(ele*10)\n",
    "        else:\n",
    "            out_list.append(ele)\n",
    "    print(out_list)\n",
    "    \n",
    "amplify(4)\n",
    "amplify(3)\n",
    "amplify(25)"
   ]
  },
  {
   "cell_type": "markdown",
   "id": "1e2a01b4",
   "metadata": {},
   "source": [
    "### 2.Create a function that takes a list of numbers and return the number that's unique.\n",
    "    Examples:\n",
    "    unique([3, 3, 3, 7, 3, 3]) ➞ 7\n",
    "    unique([0, 0, 0.77, 0, 0]) ➞ 0.77\n",
    "    unique([0, 1, 1, 1, 1, 1, 1, 1]) ➞ 0\n",
    "\n",
    "    Notes:\n",
    "    Test cases will always have exactly one unique number while all others are the same."
   ]
  },
  {
   "cell_type": "code",
   "execution_count": 5,
   "id": "f52f98ec",
   "metadata": {
    "scrolled": true
   },
   "outputs": [
    {
     "name": "stdout",
     "output_type": "stream",
     "text": [
      "7\n",
      "0.77\n",
      "0\n"
     ]
    }
   ],
   "source": [
    "from collections import Counter\n",
    "def unique(l):\n",
    "    d = Counter(l)\n",
    "    for key,value in d.items():\n",
    "        if(value==1):\n",
    "            print(key)\n",
    "    \n",
    "unique([3, 3, 3, 7, 3, 3])\n",
    "unique([0, 0, 0.77, 0, 0])\n",
    "unique([0, 1, 1, 1, 1, 1, 1, 1])"
   ]
  },
  {
   "cell_type": "markdown",
   "id": "1f799a5d",
   "metadata": {},
   "source": [
    "### 3.Your task is to create a Circle constructor that creates a circle with a radius provided by an argument. The circles constructed must have two getters getArea() (PIr^2) and getPerimeter() (2PI*r) which give both respective areas and perimeter (circumference). For help with this class, I have provided you with a Rectangle constructor which you can use as a base example ?\n",
    "    Examples:\n",
    "    circy = Circle(11)\n",
    "    circy.getArea()\n",
    "    #Should return 380.132711084365 circy = Circle(4.44)\n",
    "    circy.getPerimeter()\n",
    "    #Should return 27.897342763877365\n",
    "\n",
    "    Notes:\n",
    "    Round results up to the nearest integer."
   ]
  },
  {
   "cell_type": "code",
   "execution_count": 6,
   "id": "31a14bf5",
   "metadata": {},
   "outputs": [
    {
     "name": "stdout",
     "output_type": "stream",
     "text": [
      "Area is 380.1327110843649\n",
      "Perimeter is 27.897342763877365\n"
     ]
    }
   ],
   "source": [
    "import math\n",
    "\n",
    "class Circle:\n",
    "    def __init__(self,r):\n",
    "        self.radius = r\n",
    "    def getArea(self):\n",
    "        print(f\"Area is {math.pi*self.radius*self.radius}\")\n",
    "    def getPerimeter(self):\n",
    "        print(f\"Perimeter is {math.pi*2*self.radius}\")\n",
    "        \n",
    "circy = Circle(11)\n",
    "circy.getArea()\n",
    "\n",
    "circy = Circle(4.44)\n",
    "circy.getPerimeter()"
   ]
  },
  {
   "cell_type": "markdown",
   "id": "2c577e18",
   "metadata": {},
   "source": [
    "### 4.Create a function that takes a list of strings and return a list, sorted from shortest to longest.\n",
    "    Examples:\n",
    "    sort_by_length([\"Google\", \"Apple\", \"Microsoft\"])\n",
    "    ➞ [\"Apple\", \"Google\", \"Microsoft\"]\n",
    "    sort_by_length([\"Leonardo\", \"Michelangelo\", \"Raphael\", \"Donatello\"])\n",
    "    ➞ [\"Raphael\", \"Leonardo\", \"Donatello\", \"Michelangelo\"]\n",
    "    sort_by_length([\"Turing\", \"Einstein\", \"Jung\"])\n",
    "    ➞ [\"Jung\", \"Turing\", \"Einstein\"]"
   ]
  },
  {
   "cell_type": "code",
   "execution_count": 7,
   "id": "fae6883e",
   "metadata": {},
   "outputs": [
    {
     "name": "stdout",
     "output_type": "stream",
     "text": [
      "['Apple', 'Google', 'Microsoft']\n",
      "['Raphael', 'Leonardo', 'Donatello', 'Michelangelo']\n",
      "['Jung', 'Turing', 'Einstein']\n"
     ]
    }
   ],
   "source": [
    "def sort_by_length(l):\n",
    "    print(sorted(l,key=len))\n",
    "        \n",
    "sort_by_length([\"Google\", \"Apple\", \"Microsoft\"])\n",
    "sort_by_length([\"Leonardo\", \"Michelangelo\", \"Raphael\", \"Donatello\"])\n",
    "sort_by_length([\"Turing\", \"Einstein\", \"Jung\"])"
   ]
  },
  {
   "cell_type": "markdown",
   "id": "1775af9c",
   "metadata": {},
   "source": [
    "### 5.Create a function that validates whether three given integers form a Pythagorean triplet. The sum of the squares of the two smallest integers must equal the square of the largest number to be validated.\n",
    "    Examples:\n",
    "    is_triplet(3, 4, 5) ➞ True # 3² + 4² = 25 # 5² = 25 is_triplet(13, 5, 12) ➞ True # 5² + 12² = 169 # 13² = 169 is_triplet(1, 2, 3) ➞ False # 1² + 2² = 5 # 3² = 9\n",
    "\n",
    "    Notes: Numbers may not be given in a sorted order."
   ]
  },
  {
   "cell_type": "code",
   "execution_count": 8,
   "id": "90760dfb",
   "metadata": {},
   "outputs": [
    {
     "name": "stdout",
     "output_type": "stream",
     "text": [
      "True\n",
      "True\n",
      "False\n"
     ]
    }
   ],
   "source": [
    "def is_triplet(a,b,c):\n",
    "    if ((a**2+b**2) == (c**2)):\n",
    "        print(True)\n",
    "    else:\n",
    "        print(False)\n",
    "    \n",
    "is_triplet(3, 4, 5)\n",
    "is_triplet(3, 4, 5)\n",
    "is_triplet(1, 2, 3)"
   ]
  }
 ],
 "metadata": {
  "kernelspec": {
   "display_name": "Python 3 (ipykernel)",
   "language": "python",
   "name": "python3"
  },
  "language_info": {
   "codemirror_mode": {
    "name": "ipython",
    "version": 3
   },
   "file_extension": ".py",
   "mimetype": "text/x-python",
   "name": "python",
   "nbconvert_exporter": "python",
   "pygments_lexer": "ipython3",
   "version": "3.9.12"
  }
 },
 "nbformat": 4,
 "nbformat_minor": 5
}
