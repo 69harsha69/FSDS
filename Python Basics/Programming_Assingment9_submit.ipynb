{
 "cells": [
  {
   "cell_type": "markdown",
   "id": "a764ad0e",
   "metadata": {},
   "source": [
    "### 1. Write a Python program to check if the given number is a Disarium Number?"
   ]
  },
  {
   "cell_type": "code",
   "execution_count": 12,
   "id": "58c125bd",
   "metadata": {},
   "outputs": [
    {
     "data": {
      "text/plain": [
       "333"
      ]
     },
     "execution_count": 12,
     "metadata": {},
     "output_type": "execute_result"
    }
   ],
   "source": [
    "#sum of powers of individual digits in order is itself\n",
    "def disarium(n):\n",
    "    digits = [] \n",
    "    n_copy = n \n",
    "    while(n_copy):\n",
    "        digits.append(n_copy%10)\n",
    "        n_copy = n_copy//10\n",
    "    res = 0\n",
    "    for i in range(len(digits)):\n",
    "        res+=digits[-(i+1)]**(i+1) \n",
    "    return res\n",
    "\n",
    "disarium(13423)"
   ]
  },
  {
   "cell_type": "markdown",
   "id": "7bfb7f80",
   "metadata": {},
   "source": [
    "### 2. Write a Python program to print all disarium numbers between 1 to 100?"
   ]
  },
  {
   "cell_type": "code",
   "execution_count": 14,
   "id": "b68446c9",
   "metadata": {},
   "outputs": [
    {
     "name": "stdout",
     "output_type": "stream",
     "text": [
      "1\n",
      "2\n",
      "3\n",
      "4\n",
      "5\n",
      "6\n",
      "7\n",
      "8\n",
      "9\n",
      "89\n"
     ]
    }
   ],
   "source": [
    "def disarium_in_range(start,end):\n",
    "    for i in range(start,end):\n",
    "        if i==disarium(i):\n",
    "            print(i)\n",
    "    \n",
    "disarium_in_range(1,100)    \n"
   ]
  },
  {
   "cell_type": "markdown",
   "id": "67d46d66",
   "metadata": {},
   "source": [
    "### 3. Write a Python program to check if the given number is Happy Number?"
   ]
  },
  {
   "cell_type": "code",
   "execution_count": 20,
   "id": "c4031fb7",
   "metadata": {},
   "outputs": [
    {
     "name": "stdout",
     "output_type": "stream",
     "text": [
      "Enter any positive integer: 19\n",
      "True\n"
     ]
    }
   ],
   "source": [
    "#happy number finding is an inloop process\n",
    "#we can get stuck in a circlar loop if not handles\n",
    "#we use slow and fast pointer method to find circularity\n",
    "\n",
    "def sumofsquares(n_copy):\n",
    "    s = 0\n",
    "    while(n_copy):\n",
    "        s += (n_copy%10)**2\n",
    "        n_copy = n_copy//10\n",
    "    return s\n",
    "        \n",
    "def ishappy(n):\n",
    "    #if its circular slow and fast meet\n",
    "    slow = n\n",
    "    fast = n\n",
    "    while(1):\n",
    "        slow = sumofsquares(slow)\n",
    "        fast = sumofsquares(sumofsquares(fast))\n",
    "        if(slow!=fast):\n",
    "            continue\n",
    "        else:\n",
    "            break\n",
    "    if slow==1:\n",
    "        return True\n",
    "    else:\n",
    "        return False\n",
    "    \n",
    "    \n",
    "\n",
    "n = int(input(\"Enter any positive integer: \"))\n",
    "print(ishappy(n))"
   ]
  },
  {
   "cell_type": "markdown",
   "id": "dbb902b0",
   "metadata": {},
   "source": [
    "### 4. Write a Python program to print all happy numbers between 1 and 100?"
   ]
  },
  {
   "cell_type": "code",
   "execution_count": 21,
   "id": "4dc57051",
   "metadata": {},
   "outputs": [
    {
     "name": "stdout",
     "output_type": "stream",
     "text": [
      "1\n",
      "7\n",
      "10\n",
      "13\n",
      "19\n",
      "23\n",
      "28\n",
      "31\n",
      "32\n",
      "44\n",
      "49\n",
      "68\n",
      "70\n",
      "79\n",
      "82\n",
      "86\n",
      "91\n",
      "94\n",
      "97\n"
     ]
    }
   ],
   "source": [
    "def ishappy_in_range(start,end):\n",
    "    for i in range(start,end):\n",
    "        if ishappy(i):\n",
    "            print(i)\n",
    "            \n",
    "ishappy_in_range(1,100)"
   ]
  },
  {
   "cell_type": "markdown",
   "id": "5649c749",
   "metadata": {},
   "source": [
    "### 5. Write a Python program to determine whether the given number is a Harshad Number?"
   ]
  },
  {
   "cell_type": "code",
   "execution_count": 29,
   "id": "ef4e9e99",
   "metadata": {
    "scrolled": true
   },
   "outputs": [
    {
     "data": {
      "text/plain": [
       "True"
      ]
     },
     "execution_count": 29,
     "metadata": {},
     "output_type": "execute_result"
    }
   ],
   "source": [
    "#if number divisible by its sum\n",
    "def sumofdigits(n_copy):\n",
    "    s = 0\n",
    "    while(n_copy):\n",
    "        s += (n_copy%10)\n",
    "        n_copy = n_copy//10\n",
    "    return s\n",
    "\n",
    "def isharshad(n):\n",
    "    if n%sumofdigits(n) ==0:\n",
    "        return True\n",
    "    else:\n",
    "        return False\n",
    "    \n",
    "isharshad(408)"
   ]
  },
  {
   "cell_type": "markdown",
   "id": "a070afcf",
   "metadata": {},
   "source": [
    "### 6. Write a Python program to print all pronic numbers between 1 and 100?"
   ]
  },
  {
   "cell_type": "code",
   "execution_count": 30,
   "id": "1d9d132e",
   "metadata": {},
   "outputs": [
    {
     "name": "stdout",
     "output_type": "stream",
     "text": [
      "1\n",
      "2\n",
      "3\n",
      "4\n",
      "5\n",
      "6\n",
      "7\n",
      "8\n",
      "9\n",
      "10\n",
      "12\n",
      "18\n",
      "20\n",
      "21\n",
      "24\n",
      "27\n",
      "30\n",
      "36\n",
      "40\n",
      "42\n",
      "45\n",
      "48\n",
      "50\n",
      "54\n",
      "60\n",
      "63\n",
      "70\n",
      "72\n",
      "80\n",
      "81\n",
      "84\n",
      "90\n"
     ]
    }
   ],
   "source": [
    "def harshad_in_range(start,end):\n",
    "    for i in range(start,end):\n",
    "        if isharshad(i):\n",
    "            print(i)\n",
    "            \n",
    "harshad_in_range(1,100)"
   ]
  }
 ],
 "metadata": {
  "kernelspec": {
   "display_name": "Python 3 (ipykernel)",
   "language": "python",
   "name": "python3"
  },
  "language_info": {
   "codemirror_mode": {
    "name": "ipython",
    "version": 3
   },
   "file_extension": ".py",
   "mimetype": "text/x-python",
   "name": "python",
   "nbconvert_exporter": "python",
   "pygments_lexer": "ipython3",
   "version": "3.9.12"
  }
 },
 "nbformat": 4,
 "nbformat_minor": 5
}
