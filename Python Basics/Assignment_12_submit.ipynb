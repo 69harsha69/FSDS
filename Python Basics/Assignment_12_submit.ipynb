{
 "cells": [
  {
   "cell_type": "markdown",
   "id": "ae32cc84",
   "metadata": {},
   "source": [
    "### 1. In what modes should the PdfFileReader() and PdfFileWriter() File objects will be opened?"
   ]
  },
  {
   "cell_type": "markdown",
   "id": "8680f1db",
   "metadata": {},
   "source": [
    "ans:\n",
    "\n",
    "* PdfFileReader() needs to opened in read binary mode so given the argument 'rb'\n",
    "* PdfFileWrite() needs to opened in write binary mode so given the argument 'wb'"
   ]
  },
  {
   "cell_type": "markdown",
   "id": "f4cf674b",
   "metadata": {},
   "source": [
    "### 2. From a PdfFileReader object, how do you get a Page object for page 5?"
   ]
  },
  {
   "cell_type": "code",
   "execution_count": null,
   "id": "6c1ab834",
   "metadata": {},
   "outputs": [],
   "source": [
    "import PyPDF2\n",
    "\n",
    "pdf_obj = open('xyz.pdf','rb')\n",
    "pdfreader_obj = PyPDF2.PdfFileReader(pdf_obj)\n",
    "page5_obj = pdfreader_obj.getPage(4)"
   ]
  },
  {
   "cell_type": "markdown",
   "id": "8927a8f2",
   "metadata": {},
   "source": [
    "### 3. What PdfFileReader variable stores the number of pages in the PDF document?"
   ]
  },
  {
   "cell_type": "code",
   "execution_count": null,
   "id": "4b56a356",
   "metadata": {},
   "outputs": [],
   "source": [
    "pdfreader_obj.numPages"
   ]
  },
  {
   "cell_type": "markdown",
   "id": "bb7c7214",
   "metadata": {},
   "source": [
    "### 4. If a PdfFileReader object’s PDF is encrypted with the password swordfish, what must you do before you can obtain Page objects from it?"
   ]
  },
  {
   "cell_type": "markdown",
   "id": "69002329",
   "metadata": {},
   "source": [
    "ans:\n",
    "    \n",
    "First check for encryption with pdfreader_obj.isEncrypted and decrupt using pdfreader_obj.decrypt('swordfish')"
   ]
  },
  {
   "cell_type": "markdown",
   "id": "ec3e86a8",
   "metadata": {},
   "source": [
    "### 5. What methods do you use to rotate a page?"
   ]
  },
  {
   "cell_type": "markdown",
   "id": "096feab4",
   "metadata": {},
   "source": [
    "\n",
    "ans:\n",
    "\n",
    "* rotateClockWise() -> For Clockwise rotation\n",
    "* rotateCounterClockWise() -> For Counter Clockwise rotation"
   ]
  },
  {
   "cell_type": "markdown",
   "id": "21ff2f40",
   "metadata": {},
   "source": [
    "### 6. What is the difference between a Run object and a Paragraph object?"
   ]
  },
  {
   "cell_type": "markdown",
   "id": "1b4f4673",
   "metadata": {},
   "source": [
    "ans:\n",
    "    \n",
    "In any document the data is stored in form of paragraph objects.New paragraph object is created when moved to a new line by pressing ENTER.Each paragraph is a combination of run objects<br>\n",
    "\n",
    "Run object is continuous string with same font,size,color etc."
   ]
  },
  {
   "cell_type": "markdown",
   "id": "b67df13d",
   "metadata": {},
   "source": [
    "### 7. How do you obtain a list of Paragraph objects for a Document object that’s stored in a variable named doc?"
   ]
  },
  {
   "cell_type": "code",
   "execution_count": null,
   "id": "9c41189a",
   "metadata": {},
   "outputs": [],
   "source": [
    "import docx\n",
    "\n",
    "doc_obj = docx.Document(\"eample.docx\")\n",
    "print(doc_obj.paragraphs)"
   ]
  },
  {
   "cell_type": "markdown",
   "id": "9c4d54f2",
   "metadata": {},
   "source": [
    "### 8. What type of object has bold, underline, italic, strike, and outline variables?"
   ]
  },
  {
   "cell_type": "markdown",
   "id": "cfab0363",
   "metadata": {},
   "source": [
    "ans:\n",
    "\n",
    "Run object"
   ]
  },
  {
   "cell_type": "markdown",
   "id": "4d60aae8",
   "metadata": {},
   "source": [
    "### 9. What is the difference between False, True, and None for the bold variable?"
   ]
  },
  {
   "cell_type": "markdown",
   "id": "138b1b5b",
   "metadata": {},
   "source": [
    "ans:\n",
    "\n",
    "when True bold stye is activated,when False not activated and when None style is ignored"
   ]
  },
  {
   "cell_type": "markdown",
   "id": "8158b77e",
   "metadata": {},
   "source": [
    "### 10. How do you create a Document object for a new Word document?"
   ]
  },
  {
   "cell_type": "code",
   "execution_count": null,
   "id": "f5e31a2d",
   "metadata": {},
   "outputs": [],
   "source": [
    "import docx\n",
    "\n",
    "new_doc = docx.Document()\n",
    "new_doc.add_paragraph(\"Added the para\")\n",
    "new_doc.save(\"save.docx\")"
   ]
  },
  {
   "cell_type": "markdown",
   "id": "43eaaf07",
   "metadata": {},
   "source": [
    "### 11. How do you add a paragraph with the text &#39;Hello, there!&#39; to a Document object stored in a variable named doc?"
   ]
  },
  {
   "cell_type": "code",
   "execution_count": null,
   "id": "478e3846",
   "metadata": {},
   "outputs": [],
   "source": [
    "import docx\n",
    "\n",
    "doc = docx.Document()\n",
    "doc.add_paragraph(\"Hello, there!\")\n",
    "doc.save(\"hello.docx\")"
   ]
  },
  {
   "cell_type": "markdown",
   "id": "c4233190",
   "metadata": {},
   "source": [
    "### 12. What integers represent the levels of headings available in Word documents?"
   ]
  },
  {
   "cell_type": "markdown",
   "id": "e7aec7e3",
   "metadata": {},
   "source": [
    "ans:\n",
    "\n",
    "Total 5 levels are availalbe 0,1,2,3,4.\n",
    "\n",
    "* 0 - is heading which is underlined\n",
    "* 1,2,3,4 - Headings with sizes decreased from 1 to 4\n"
   ]
  }
 ],
 "metadata": {
  "kernelspec": {
   "display_name": "Python 3 (ipykernel)",
   "language": "python",
   "name": "python3"
  },
  "language_info": {
   "codemirror_mode": {
    "name": "ipython",
    "version": 3
   },
   "file_extension": ".py",
   "mimetype": "text/x-python",
   "name": "python",
   "nbconvert_exporter": "python",
   "pygments_lexer": "ipython3",
   "version": "3.9.12"
  }
 },
 "nbformat": 4,
 "nbformat_minor": 5
}
