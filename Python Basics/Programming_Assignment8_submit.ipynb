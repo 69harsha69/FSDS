{
 "cells": [
  {
   "cell_type": "markdown",
   "id": "30ccbb68",
   "metadata": {},
   "source": [
    "### 1. Write a Python Program to Add Two Matrices?"
   ]
  },
  {
   "cell_type": "code",
   "execution_count": 7,
   "id": "0eefa5c7",
   "metadata": {
    "scrolled": true
   },
   "outputs": [
    {
     "name": "stdout",
     "output_type": "stream",
     "text": [
      "enter the shape of the matrix3 3\n",
      "[[0.96786124 0.04042869 0.51118206]\n",
      " [0.48171866 0.23187452 0.38685536]\n",
      " [0.20800612 0.37448262 0.01714592]]\n",
      "[[0.56000526 0.63013742 0.72626968]\n",
      " [0.0231014  0.13327384 0.56806885]\n",
      " [0.01893149 0.47626197 0.1868303 ]]\n",
      "addition is = [[1.5278665  0.67056611 1.23745174]\n",
      " [0.50482006 0.36514836 0.95492421]\n",
      " [0.2269376  0.85074459 0.20397623]]\n"
     ]
    }
   ],
   "source": [
    "import numpy as np\n",
    "#numpy array can be directly added with operator\n",
    "def add(mat1,mat2):\n",
    "    if(mat1.shape == mat2.shape):\n",
    "        mat3 = np.zeros(mat1.shape)\n",
    "        for i in range(mat1.shape[0]):\n",
    "            for j in range(mat2.shape[1]):\n",
    "                mat3[i][j] = mat1[i][j] + mat2[i][j]\n",
    "        return mat3\n",
    "    else:\n",
    "        return \"not possible\"\n",
    "\n",
    "m,n = map(int,input(\"enter the shape of the matrix\").split(\" \"))\n",
    "mat1,mat2 = np.random.rand(m,n),np.random.rand(m,n)\n",
    "print(mat1,mat2,sep = \"\\n\")\n",
    "print(f\"addition is = {add(mat1,mat2)}\")"
   ]
  },
  {
   "cell_type": "markdown",
   "id": "1e2a01b4",
   "metadata": {},
   "source": [
    "### 2. Write a Python Program to Multiply Two Matrices?"
   ]
  },
  {
   "cell_type": "code",
   "execution_count": 19,
   "id": "f52f98ec",
   "metadata": {
    "scrolled": true
   },
   "outputs": [
    {
     "name": "stdout",
     "output_type": "stream",
     "text": [
      "enter the shape of the matrix3 3\n",
      "[[0.59060353 0.2513306  0.1957517 ]\n",
      " [0.49457011 0.71578526 0.57144599]\n",
      " [0.28700668 0.36125877 0.6615934 ]]\n",
      "[[0.99666309 0.50877267 0.08567724]\n",
      " [0.66709156 0.79674237 0.41417108]\n",
      " [0.20136522 0.6742999  0.72486126]]\n",
      "\n",
      "Multiplication is = [[0.79571086 0.63272403 0.29658797]\n",
      " [1.08548343 1.20724617 0.75305001]\n",
      " [0.66026355 0.87996369 0.6537763 ]]\n",
      "\n",
      "[[0.79571086 0.63272403 0.29658797]\n",
      " [1.08548343 1.20724617 0.75305001]\n",
      " [0.66026355 0.87996369 0.6537763 ]]\n"
     ]
    }
   ],
   "source": [
    "\n",
    "def multiply(mat1,mat2):\n",
    "    m1,n1 = mat1.shape\n",
    "    m2,n2 = mat2.shape\n",
    "    if n1==m2:\n",
    "        mat3 = np.zeros((m1,n2))\n",
    "        for i in range(m1):\n",
    "            for j in range(n2):\n",
    "                for k in range(n1):\n",
    "                    mat3[i][j] += mat1[i][k] * mat2[k][j]\n",
    "        return mat3\n",
    "    else:\n",
    "        return \"not possible\"\n",
    "\n",
    "m,n = map(int,input(\"enter the shape of the matrix\").split(\" \"))\n",
    "mat1,mat2 = np.random.rand(m,n),np.random.rand(m,n)\n",
    "print(mat1,mat2,sep = \"\\n\")\n",
    "print()\n",
    "print(f\"Multiplication is = {multiply(mat1,mat2)}\")\n",
    "print()\n",
    "print(np.matmul(mat1,mat2))"
   ]
  },
  {
   "cell_type": "code",
   "execution_count": 18,
   "id": "e9aca95f",
   "metadata": {},
   "outputs": [
    {
     "name": "stdout",
     "output_type": "stream",
     "text": [
      "mat3[0][0] = mat1[0][0]*mat2[0][0]+ mat1[0][1]*mat2[1][0]+ mat1[0][2]*mat2[2][0]+\n",
      "mat3[0][1] = mat1[0][0]*mat2[0][1]+ mat1[0][1]*mat2[1][1]+ mat1[0][2]*mat2[2][1]+\n",
      "mat3[0][2] = mat1[0][0]*mat2[0][2]+ mat1[0][1]*mat2[1][2]+ mat1[0][2]*mat2[2][2]+\n",
      "\n",
      "mat3[1][0] = mat1[1][0]*mat2[0][0]+ mat1[1][1]*mat2[1][0]+ mat1[1][2]*mat2[2][0]+\n",
      "mat3[1][1] = mat1[1][0]*mat2[0][1]+ mat1[1][1]*mat2[1][1]+ mat1[1][2]*mat2[2][1]+\n",
      "mat3[1][2] = mat1[1][0]*mat2[0][2]+ mat1[1][1]*mat2[1][2]+ mat1[1][2]*mat2[2][2]+\n",
      "\n",
      "mat3[2][0] = mat1[2][0]*mat2[0][0]+ mat1[2][1]*mat2[1][0]+ mat1[2][2]*mat2[2][0]+\n",
      "mat3[2][1] = mat1[2][0]*mat2[0][1]+ mat1[2][1]*mat2[1][1]+ mat1[2][2]*mat2[2][1]+\n",
      "mat3[2][2] = mat1[2][0]*mat2[0][2]+ mat1[2][1]*mat2[1][2]+ mat1[2][2]*mat2[2][2]+\n",
      "\n"
     ]
    }
   ],
   "source": [
    "m1,n1 = mat1.shape\n",
    "m2,n2 = mat2.shape\n",
    "if n1==m2:\n",
    "    mat3 = np.zeros((m1,n2))\n",
    "    for i in range(m1):\n",
    "        for j in range(n2):\n",
    "            print(f\"mat3[{i}][{j}] =\",end = \"\")\n",
    "            for k in range(n1):\n",
    "                print(f\" mat1[{i}][{k}]*mat2[{k}][{j}]\",end =\"+\")\n",
    "            print()\n",
    "        print()"
   ]
  },
  {
   "cell_type": "markdown",
   "id": "1f799a5d",
   "metadata": {},
   "source": [
    "### 3. Write a Python Program to Transpose a Matrix?"
   ]
  },
  {
   "cell_type": "code",
   "execution_count": 41,
   "id": "31a14bf5",
   "metadata": {},
   "outputs": [
    {
     "name": "stdout",
     "output_type": "stream",
     "text": [
      "enter the shape of the matrix3 2\n",
      "[[0.13193015 0.48342758]\n",
      " [0.73910816 0.58994171]\n",
      " [0.36489054 0.80130405]]\n",
      "transpose is = [[0.13193015 0.73910816 0.36489054]\n",
      " [0.48342758 0.58994171 0.80130405]]\n",
      "\n",
      "Inbuilt function is [[0.13193015 0.73910816 0.36489054]\n",
      " [0.48342758 0.58994171 0.80130405]]\n"
     ]
    }
   ],
   "source": [
    "#rows become columns and vice versa\n",
    "#this function only works for square matrixb\n",
    "# def transpose(mat):\n",
    "#     m,n = mat.shape\n",
    "#     mat1 = np.zeros((n,m))\n",
    "#     for i in range(m):\n",
    "#         for j in range(n):\n",
    "#             mat1[i][j] = mat[j][i]\n",
    "            \n",
    "#     return mat1\n",
    "\n",
    "def transpose(mat):\n",
    "    m,n = mat.shape\n",
    "    mat1 = np.zeros((n,m))\n",
    "    for i in range(n):\n",
    "        mat1[i] = mat[:,i]\n",
    "    return mat1\n",
    "    \n",
    "\n",
    "m,n = map(int,input(\"enter the shape of the matrix\").split(\" \"))\n",
    "mat1 = np.random.rand(m,n)\n",
    "print(mat1,sep = \"\\n\")\n",
    "print(f\"transpose is = {transpose(mat1)}\")\n",
    "print()\n",
    "print(f\"Inbuilt function is {mat1.T}\")"
   ]
  },
  {
   "cell_type": "markdown",
   "id": "2c577e18",
   "metadata": {},
   "source": [
    "### 4. Write a Python Program to Sort Words in Alphabetic Order?"
   ]
  },
  {
   "cell_type": "code",
   "execution_count": 42,
   "id": "fae6883e",
   "metadata": {},
   "outputs": [
    {
     "name": "stdout",
     "output_type": "stream",
     "text": [
      "enter any word : harsha\n",
      "['a', 'a', 'h', 'h', 'r', 's']\n"
     ]
    }
   ],
   "source": [
    "def sortin(s):\n",
    "    return sorted(s)\n",
    "\n",
    "s = input(\"enter any word : \")\n",
    "print(sortin(s))"
   ]
  },
  {
   "cell_type": "markdown",
   "id": "1775af9c",
   "metadata": {},
   "source": [
    "### 5. Write a Python Program to Remove Punctuation From a String?"
   ]
  },
  {
   "cell_type": "code",
   "execution_count": 49,
   "id": "93dc6f6e",
   "metadata": {
    "scrolled": true
   },
   "outputs": [
    {
     "name": "stdout",
     "output_type": "stream",
     "text": [
      "enter any word with puctuation in it : harsha999ar@gmail.com\n",
      "harsha999argmailcom\n"
     ]
    }
   ],
   "source": [
    "punctuation = ['!','.',',','?',';',':','/','(',')','-','\"','@']\n",
    "s = input(\"enter any word with puctuation in it : \")\n",
    "for i in punctuation:\n",
    "    s = s.replace(i,\"\")\n",
    "print(s)\n"
   ]
  }
 ],
 "metadata": {
  "kernelspec": {
   "display_name": "Python 3 (ipykernel)",
   "language": "python",
   "name": "python3"
  },
  "language_info": {
   "codemirror_mode": {
    "name": "ipython",
    "version": 3
   },
   "file_extension": ".py",
   "mimetype": "text/x-python",
   "name": "python",
   "nbconvert_exporter": "python",
   "pygments_lexer": "ipython3",
   "version": "3.9.12"
  }
 },
 "nbformat": 4,
 "nbformat_minor": 5
}
