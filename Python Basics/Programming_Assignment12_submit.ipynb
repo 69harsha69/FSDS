{
 "cells": [
  {
   "cell_type": "markdown",
   "id": "ae32cc84",
   "metadata": {},
   "source": [
    "### 1. Write a Python program to Extract Unique values dictionary values?"
   ]
  },
  {
   "cell_type": "code",
   "execution_count": 1,
   "id": "62a5e6d0",
   "metadata": {},
   "outputs": [
    {
     "name": "stdout",
     "output_type": "stream",
     "text": [
      "{'bjfme': [7, 0, 4],\n",
      " 'fyagd': [2, 5, 3, 8],\n",
      " 'jxajh': [8, 8],\n",
      " 'oxuzq': [7, 1, 9, 2, 2],\n",
      " 'znuzl': [6]}\n"
     ]
    },
    {
     "data": {
      "text/plain": [
       "[0, 1, 2, 3, 4, 5, 6, 7, 8, 9]"
      ]
     },
     "execution_count": 1,
     "metadata": {},
     "output_type": "execute_result"
    }
   ],
   "source": [
    "import random\n",
    "import string\n",
    "from pprint import pprint\n",
    "\n",
    "def unique(dic):\n",
    "    res = []\n",
    "    for key,value in dic.items():\n",
    "        res+=list(set(value))\n",
    "        res = list(set(res))\n",
    "    return res\n",
    "\n",
    "dic = {}\n",
    "for i in range(5): \n",
    "    s = \"\".join(random.choices(string.ascii_lowercase,k=5))\n",
    "    l = [random.randint(0,9) for _ in range(random.randint(1,5))]\n",
    "    dic[s] = l\n",
    "pprint(dic)\n",
    "unique(dic)"
   ]
  },
  {
   "cell_type": "markdown",
   "id": "f4cf674b",
   "metadata": {},
   "source": [
    "### 2. Write a Python program to find the sum of all items in a dictionary?"
   ]
  },
  {
   "cell_type": "code",
   "execution_count": 2,
   "id": "08818ab7",
   "metadata": {},
   "outputs": [
    {
     "name": "stdout",
     "output_type": "stream",
     "text": [
      "{'ecuho': [3],\n",
      " 'mqixq': [4, 8],\n",
      " 'mqmnb': [7, 8, 0],\n",
      " 'phszh': [5],\n",
      " 'wirgm': [9, 3]}\n"
     ]
    },
    {
     "data": {
      "text/plain": [
       "47"
      ]
     },
     "execution_count": 2,
     "metadata": {},
     "output_type": "execute_result"
    }
   ],
   "source": [
    "def sum_dict(dic):\n",
    "    res = 0\n",
    "    for key,value in dic.items():\n",
    "        res += sum(value)\n",
    "        \n",
    "    return res\n",
    "\n",
    "dic = {}\n",
    "for i in range(5): \n",
    "    s = \"\".join(random.choices(string.ascii_lowercase,k=5))\n",
    "    l = [random.randint(0,9) for _ in range(random.randint(1,5))]\n",
    "    dic[s] = l\n",
    "pprint(dic)\n",
    "sum_dict(dic)"
   ]
  },
  {
   "cell_type": "markdown",
   "id": "8927a8f2",
   "metadata": {},
   "source": [
    "### 3. Write a Python program to Merging two Dictionaries?"
   ]
  },
  {
   "cell_type": "code",
   "execution_count": 3,
   "id": "ace96d5e",
   "metadata": {
    "scrolled": true
   },
   "outputs": [
    {
     "name": "stdout",
     "output_type": "stream",
     "text": [
      "{'dqbnb': [1, 8],\n",
      " 'fuhje': [8, 3, 3, 0],\n",
      " 'qjzdk': [2, 2, 6],\n",
      " 'tudba': [8, 1, 5],\n",
      " 'vimeg': [3]}\n",
      "{'pllxk': [8, 2, 9, 0, 2],\n",
      " 'sdmiz': [4, 4],\n",
      " 'vmnmh': [9, 8, 6, 0],\n",
      " 'wbyah': [4, 9, 6, 6],\n",
      " 'xukbu': [0, 8, 6, 9]}\n"
     ]
    }
   ],
   "source": [
    "dic1 = {}\n",
    "for i in range(5): \n",
    "    s = \"\".join(random.choices(string.ascii_lowercase,k=5))\n",
    "    l = [random.randint(0,9) for _ in range(random.randint(1,5))]\n",
    "    dic1[s] = l\n",
    "dic2 = {}\n",
    "for i in range(5): \n",
    "    s = \"\".join(random.choices(string.ascii_lowercase,k=5))\n",
    "    l = [random.randint(0,9) for _ in range(random.randint(1,5))]\n",
    "    dic2[s] = l\n",
    "    \n",
    "pprint(dic1)\n",
    "pprint(dic2)"
   ]
  },
  {
   "cell_type": "code",
   "execution_count": 4,
   "id": "0215c24d",
   "metadata": {},
   "outputs": [
    {
     "name": "stdout",
     "output_type": "stream",
     "text": [
      "{'dqbnb': [1, 8],\n",
      " 'fuhje': [8, 3, 3, 0],\n",
      " 'pllxk': [8, 2, 9, 0, 2],\n",
      " 'qjzdk': [2, 2, 6],\n",
      " 'sdmiz': [4, 4],\n",
      " 'tudba': [8, 1, 5],\n",
      " 'vimeg': [3],\n",
      " 'vmnmh': [9, 8, 6, 0],\n",
      " 'wbyah': [4, 9, 6, 6],\n",
      " 'xukbu': [0, 8, 6, 9]}\n"
     ]
    }
   ],
   "source": [
    "def merge(dic1,dic2):\n",
    "    return dic1.update(dic2)\n",
    "\n",
    "merge(dic1,dic2)\n",
    "pprint(dic1)"
   ]
  },
  {
   "cell_type": "markdown",
   "id": "bb7c7214",
   "metadata": {},
   "source": [
    "### 4. Write a Python program to convert key-values list to flat dictionary?"
   ]
  },
  {
   "cell_type": "code",
   "execution_count": 5,
   "id": "c6acd89f",
   "metadata": {},
   "outputs": [
    {
     "name": "stdout",
     "output_type": "stream",
     "text": [
      "['z', 'x', 'i', 'h', 's'] [0, 3, 9, 9, 1]\n",
      "{'z': 0, 'x': 3, 'i': 9, 'h': 9, 's': 1}\n"
     ]
    }
   ],
   "source": [
    "s = random.choices(string.ascii_lowercase,k=5)\n",
    "l = [random.randint(0,9) for _ in range(5)]\n",
    "print(s,l)\n",
    "\n",
    "d= dict(zip(s,l))\n",
    "print(d)"
   ]
  },
  {
   "cell_type": "markdown",
   "id": "ec3e86a8",
   "metadata": {},
   "source": [
    "### 5. Write a Python program to insertion at the beginning in OrderedDict?"
   ]
  },
  {
   "cell_type": "code",
   "execution_count": 6,
   "id": "4f855d2b",
   "metadata": {},
   "outputs": [
    {
     "name": "stdout",
     "output_type": "stream",
     "text": [
      "OrderedDict([('i', 5), ('z', 0), ('x', 3), ('h', 9), ('s', 1)])\n"
     ]
    }
   ],
   "source": [
    "from collections import OrderedDict\n",
    "\n",
    "order = OrderedDict(d)\n",
    "\n",
    "order.update({'i':5})\n",
    "order.move_to_end('i',last = False)\n",
    "print(order)"
   ]
  },
  {
   "cell_type": "markdown",
   "id": "21ff2f40",
   "metadata": {},
   "source": [
    "\n",
    "### 6. Write a Python program to check order of character in string using OrderedDict()?"
   ]
  },
  {
   "cell_type": "code",
   "execution_count": 12,
   "id": "436ea587",
   "metadata": {},
   "outputs": [
    {
     "data": {
      "text/plain": [
       "True"
      ]
     },
     "execution_count": 12,
     "metadata": {},
     "output_type": "execute_result"
    }
   ],
   "source": [
    "def checkorder(string,pattern):\n",
    "    d = OrderedDict.fromkeys(string)\n",
    "    l = 0\n",
    "    for key,value in d.items():\n",
    "        if(key==pattern[l]):\n",
    "            l+=1\n",
    "    if l==len(pattern):\n",
    "        return True\n",
    "    else:\n",
    "        return False\n",
    "\n",
    "string = \"wassup\"\n",
    "pattern = 'sp'\n",
    "\n",
    "checkorder(string,pattern)"
   ]
  },
  {
   "cell_type": "markdown",
   "id": "b67df13d",
   "metadata": {},
   "source": [
    "### 7. Write a Python program to sort Python Dictionaries by Key or Value?"
   ]
  },
  {
   "cell_type": "code",
   "execution_count": 32,
   "id": "1c4eaf12",
   "metadata": {},
   "outputs": [
    {
     "name": "stdout",
     "output_type": "stream",
     "text": [
      "THis is original dictionary\n",
      "{'z': 0, 'x': 3, 'i': 9, 'h': 9, 's': 1}\n",
      "This dictionary is sorted by keys\n",
      "[('h', 9), ('i', 9), ('s', 1), ('x', 3), ('z', 0)]\n",
      "This dictionary is sorted by Values\n",
      "[('z', 0), ('s', 1), ('x', 3), ('i', 9), ('h', 9)]\n"
     ]
    }
   ],
   "source": [
    "def printsort(d):\n",
    "    print(\"This dictionary is sorted by keys\")\n",
    "    print(sorted(d.items(),key=lambda item : item[0]))\n",
    "    print(\"This dictionary is sorted by Values\")\n",
    "    print(sorted(d.items(),key=lambda item : item[1]))    \n",
    "    \n",
    "print(\"THis is original dictionary\")\n",
    "print(d)\n",
    "printsort(d)"
   ]
  }
 ],
 "metadata": {
  "kernelspec": {
   "display_name": "Python 3 (ipykernel)",
   "language": "python",
   "name": "python3"
  },
  "language_info": {
   "codemirror_mode": {
    "name": "ipython",
    "version": 3
   },
   "file_extension": ".py",
   "mimetype": "text/x-python",
   "name": "python",
   "nbconvert_exporter": "python",
   "pygments_lexer": "ipython3",
   "version": "3.9.12"
  }
 },
 "nbformat": 4,
 "nbformat_minor": 5
}
