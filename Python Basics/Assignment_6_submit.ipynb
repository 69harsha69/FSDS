{
 "cells": [
  {
   "cell_type": "markdown",
   "id": "ae32cc84",
   "metadata": {},
   "source": [
    "### 1. What are escape characters, and how do you use them?"
   ]
  },
  {
   "cell_type": "markdown",
   "id": "86844952",
   "metadata": {},
   "source": [
    "\n",
    "ans:\n",
    "\n",
    "to insert a character that cant be used or makes sence in a string are called escape characters\n",
    "\n",
    "ex:\n",
    "    in string \"the \"main\" thing\" as per syntax main will be outside of string\n",
    "    so \"the \\\"main\\\" thing\" a backslash can be used so that quotaions can be       used inside quotations\n",
    "    \n",
    "    some of escape characters are \\,\\n,\\t,\\r"
   ]
  },
  {
   "cell_type": "markdown",
   "id": "f4cf674b",
   "metadata": {},
   "source": [
    "### 2. What do the escape characters n and t stand for?"
   ]
  },
  {
   "cell_type": "markdown",
   "id": "ffe43fd3",
   "metadata": {},
   "source": [
    "\n",
    "ans:\n",
    "\n",
    "\\n - new line\n",
    "\n",
    "\\t - tab"
   ]
  },
  {
   "cell_type": "markdown",
   "id": "8927a8f2",
   "metadata": {},
   "source": [
    "### 3. What is the way to include backslash characters in a string?"
   ]
  },
  {
   "cell_type": "markdown",
   "id": "8c1f3816",
   "metadata": {},
   "source": [
    "\n",
    "ans:\n",
    "\n",
    "as \"\\\\\" is already an escape character to used backslash in a string we use '\\\\\n",
    "\\\\'\n",
    "\n",
    "ex :  \n",
    "    \n",
    "    path_string = 'D:\\folder' #may cause issue\n",
    "\n",
    "    path_string = 'D:\\\\folder' #is the correct way to use this"
   ]
  },
  {
   "cell_type": "markdown",
   "id": "bb7c7214",
   "metadata": {},
   "source": [
    "### 4. The string &quot;Howl&#39;s Moving Castle&quot; is a correct value. Why isn&#39;t the single quote character in the word Howl&#39;s not escaped a problem?"
   ]
  },
  {
   "cell_type": "markdown",
   "id": "e8857852",
   "metadata": {},
   "source": [
    "\n",
    "ans:\n",
    "\n",
    "in python a string can be under \"\" or '' here as the string is between \"\" the character ' is not a problem\n",
    "similary 'howls \"moving castle' is also valid\n"
   ]
  },
  {
   "cell_type": "markdown",
   "id": "ec3e86a8",
   "metadata": {},
   "source": [
    "### 5. How do you write a string of newlines if you don&#39;t want to use the n character?"
   ]
  },
  {
   "cell_type": "code",
   "execution_count": 2,
   "id": "af98163c",
   "metadata": {},
   "outputs": [
    {
     "name": "stdout",
     "output_type": "stream",
     "text": [
      "\n",
      "\n",
      "\n",
      "\n",
      "\n",
      "\n",
      "\n"
     ]
    }
   ],
   "source": [
    "#this prints n new lines\n",
    "n=7\n",
    "for i in range(n):\n",
    "    print()"
   ]
  },
  {
   "cell_type": "markdown",
   "id": "21ff2f40",
   "metadata": {},
   "source": [
    "### 6. What are the values of the given expressions?"
   ]
  },
  {
   "cell_type": "markdown",
   "id": "1f2ff41a",
   "metadata": {},
   "source": [
    "\n",
    "ans:\n",
    "\n",
    "'Hello, world!'[1] --> e\n",
    "\n",
    "'Hello, world!'[0:5] --> Hello\n",
    "\n",
    "'Hello, world!'[:5] --> Hello\n",
    "\n",
    "'Hello, world!'[3:] --> lo, world!"
   ]
  },
  {
   "cell_type": "markdown",
   "id": "b67df13d",
   "metadata": {},
   "source": [
    "### 7. What are the values of the following expressions?"
   ]
  },
  {
   "cell_type": "markdown",
   "id": "3db1caf7",
   "metadata": {},
   "source": [
    "ans:\n",
    "\n",
    "'Hello'.upper() --> HELLO\n",
    "\n",
    "'Hello'.upper().isupper() --> True\n",
    "\n",
    "'Hello'.upper().lower() --> False"
   ]
  },
  {
   "cell_type": "markdown",
   "id": "255ba128",
   "metadata": {},
   "source": [
    "### 8. What are the values of the following expressions?"
   ]
  },
  {
   "cell_type": "markdown",
   "id": "79948d28",
   "metadata": {},
   "source": [
    "ans:\n",
    "\n",
    "'Remember, remember, the fifth of July.'.split()\n",
    "\n",
    "--> this budefault splits and stores the string by \" \" delimiter\n",
    "\n",
    "--> ['Remember,', 'remember,', 'the', 'fifth', 'of', 'July.']\n",
    "\n",
    "'-'.join('There can only one.'.split())\n",
    "\n",
    "--> 'There can only one.'.split() ==> ['There', 'can', 'only', 'one.']\n",
    "\n",
    "-->'-'.join('There can only one.'.split()) ==> 'There-can-only-one.'\n"
   ]
  },
  {
   "cell_type": "markdown",
   "id": "0dc17549",
   "metadata": {},
   "source": [
    "### 9. What are the methods for right-justifying, left-justifying, and centering a string?"
   ]
  },
  {
   "cell_type": "markdown",
   "id": "85286512",
   "metadata": {},
   "source": [
    "This makes your string pad in left,right and center direction while a specific character fills the rest of the positions \n",
    "\n",
    "ex:\n",
    "* let text = \"wazzmyname\"\n",
    "* text.rjust(25,\"+\") ==> '+++++++++++++++wazzmyname'\n",
    "* text.ljust(25,\"+\") ==> 'wazzmyname+++++++++++++++'\n",
    "* text.center(25,\"+\") ==> '++++++++wazzmyname+++++++'"
   ]
  },
  {
   "cell_type": "markdown",
   "id": "fbaca936",
   "metadata": {},
   "source": [
    "### 10. What is the best way to remove whitespace characters from the start or end?"
   ]
  },
  {
   "cell_type": "markdown",
   "id": "aab604f5",
   "metadata": {},
   "source": [
    "* let string = \"   hi   \"\n",
    "* to remove spaces on the left use string.lstrip(\" \") ==> 'hi   '\n",
    "* to remove spaces on the left use string.rstrip(\" \") ==> '   hi'"
   ]
  }
 ],
 "metadata": {
  "kernelspec": {
   "display_name": "Python 3 (ipykernel)",
   "language": "python",
   "name": "python3"
  },
  "language_info": {
   "codemirror_mode": {
    "name": "ipython",
    "version": 3
   },
   "file_extension": ".py",
   "mimetype": "text/x-python",
   "name": "python",
   "nbconvert_exporter": "python",
   "pygments_lexer": "ipython3",
   "version": "3.9.12"
  }
 },
 "nbformat": 4,
 "nbformat_minor": 5
}
