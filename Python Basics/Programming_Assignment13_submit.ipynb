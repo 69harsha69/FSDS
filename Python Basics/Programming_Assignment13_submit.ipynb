{
 "cells": [
  {
   "cell_type": "markdown",
   "id": "ae32cc84",
   "metadata": {},
   "source": [
    "### Write a program that calculates and prints the value according to the given formula:\n",
    "\n",
    "    Q = Square root of [(2 * C * D)/H]\n",
    "    Following are the fixed values of C and H:\n",
    "    C is 50. H is 30.\n",
    "    D is the variable whose values should be input to your program in a comma-separated\n",
    "    sequence.\n",
    "    Example\n",
    "    Let us assume the following comma separated input sequence is given to the program:\n",
    "    100,150,180\n",
    "    The output of the program should be:\n",
    "    18,22,24"
   ]
  },
  {
   "cell_type": "code",
   "execution_count": 15,
   "id": "62a5e6d0",
   "metadata": {},
   "outputs": [
    {
     "name": "stdout",
     "output_type": "stream",
     "text": [
      "enter d values: 100,150,180\n",
      "18 22 24\n"
     ]
    }
   ],
   "source": [
    "import math\n",
    "\n",
    "c = 50\n",
    "h = 30\n",
    "d_list = map(int,input(\"enter d values: \").split(','))\n",
    "q = [int(math.sqrt((2*c*i)/h)) for i in d_list]\n",
    "print(*q)"
   ]
  },
  {
   "cell_type": "markdown",
   "id": "f4cf674b",
   "metadata": {},
   "source": [
    "### Write a program which takes 2 digits, X,Y as input and generates a 2-dimensional array. The element value in the i-th row and j-th column of the array should be i*j.\n",
    "\n",
    "    Note: i=0,1.., X-1; j=0,1,¡Y-1.\n",
    "    Example\n",
    "    Suppose the following inputs are given to the program:\n",
    "    3,5\n",
    "    Then, the output of the program should be:\n",
    "    [[0, 0, 0, 0, 0], [0, 1, 2, 3, 4], [0, 2, 4, 6, 8]]"
   ]
  },
  {
   "cell_type": "code",
   "execution_count": 8,
   "id": "08818ab7",
   "metadata": {},
   "outputs": [
    {
     "name": "stdout",
     "output_type": "stream",
     "text": [
      "Enter 2 digits: 3 5\n",
      "[[0, 0, 0, 0, 0], [0, 1, 2, 3, 4], [0, 2, 4, 6, 8]]\n"
     ]
    }
   ],
   "source": [
    "x,y = map(int,input(\"Enter 2 digits: \").split(\" \"))\n",
    "l = [[i*j for j in range(y)] for i in range(x)]\n",
    "print(l)"
   ]
  },
  {
   "cell_type": "markdown",
   "id": "8927a8f2",
   "metadata": {},
   "source": [
    "### Write a program that accepts a comma separated sequence of words as input and prints the words in a comma-separated sequence after sorting them alphabetically.\n",
    "\n",
    "    Suppose the following input is supplied to the program:\n",
    "    without,hello,bag,world\n",
    "    Then, the output should be:\n",
    "    bag,hello,without,world"
   ]
  },
  {
   "cell_type": "code",
   "execution_count": 17,
   "id": "ace96d5e",
   "metadata": {
    "scrolled": true
   },
   "outputs": [
    {
     "name": "stdout",
     "output_type": "stream",
     "text": [
      "Enter , seperated words :without,hello,bag,world\n"
     ]
    },
    {
     "data": {
      "text/plain": [
       "'bag,hello,without,world'"
      ]
     },
     "execution_count": 17,
     "metadata": {},
     "output_type": "execute_result"
    }
   ],
   "source": [
    "s = input(\"Enter , seperated words :\").split(\",\")\n",
    "s = sorted(s)\n",
    "','.join(s)"
   ]
  },
  {
   "cell_type": "markdown",
   "id": "bb7c7214",
   "metadata": {},
   "source": [
    "### Write a program that accepts a sequence of whitespace separated words as input and prints the words after removing all duplicate words and sorting them alphanumerically.\n",
    "\n",
    "    Suppose the following input is supplied to the program:\n",
    "    hello world and practice makes perfect and hello world again\n",
    "    Then, the output should be:\n",
    "    again and hello makes perfect practice world"
   ]
  },
  {
   "cell_type": "code",
   "execution_count": 26,
   "id": "c6acd89f",
   "metadata": {},
   "outputs": [
    {
     "name": "stdout",
     "output_type": "stream",
     "text": [
      "Enter  seperated words :hello world and practice makes perfect and hello world again\n"
     ]
    },
    {
     "data": {
      "text/plain": [
       "'again and hello makes perfect practice world'"
      ]
     },
     "execution_count": 26,
     "metadata": {},
     "output_type": "execute_result"
    }
   ],
   "source": [
    "s = input(\"Enter  seperated words :\").split(\" \")\n",
    "s = sorted(s)\n",
    "s = set(s)\n",
    "' '.join(sorted(s))"
   ]
  },
  {
   "cell_type": "markdown",
   "id": "ec3e86a8",
   "metadata": {},
   "source": [
    "### Write a program that accepts a sentence and calculate the number of letters and digits. Suppose the following input is supplied to the program:\n",
    "\n",
    "    hello world! 123\n",
    "    Then, the output should be:\n",
    "    LETTERS 10\n",
    "    DIGITS 3"
   ]
  },
  {
   "cell_type": "code",
   "execution_count": 29,
   "id": "4f855d2b",
   "metadata": {},
   "outputs": [
    {
     "name": "stdout",
     "output_type": "stream",
     "text": [
      "Enter a sentence : hello world! 123\n",
      "LETTERS 10\n",
      "DIGITS 3\n"
     ]
    }
   ],
   "source": [
    "s = input(\"Enter a sentence : \")\n",
    "L = 0 \n",
    "D = 0\n",
    "for i in s:\n",
    "    if i.isalpha():\n",
    "        L+=1\n",
    "    elif i.isdigit():\n",
    "        D+=1\n",
    "print(f\"LETTERS {L}\")\n",
    "print(f\"DIGITS {D}\")"
   ]
  },
  {
   "cell_type": "markdown",
   "id": "21ff2f40",
   "metadata": {},
   "source": [
    "### A website requires the users to input username and password to register. Write a program to check the validity of password input by users.\n",
    "\n",
    "    Following are the criteria for checking the password:\n",
    "    1. At least 1 letter between [a-z]\n",
    "    2. At least 1 number between [0-9]\n",
    "    1. At least 1 letter between [A-Z]\n",
    "    3. At least 1 character from [$#@]\n",
    "    4. Minimum length of transaction password: 6\n",
    "    5. Maximum length of transaction password: 12\n",
    "    Your program should accept a sequence of comma separated passwords and will check them\n",
    "    according to the above criteria. Passwords that match the criteria are to be printed, each\n",
    "    separated by a comma.\n",
    "    Example\n",
    "    If the following passwords are given as input to the program:\n",
    "    ABd1234@1,a F1#,2w3E*,2We3345\n",
    "    Then, the output of the program should be:\n",
    "    ABd1234@1\n"
   ]
  },
  {
   "cell_type": "code",
   "execution_count": 57,
   "id": "436ea587",
   "metadata": {},
   "outputs": [
    {
     "name": "stdout",
     "output_type": "stream",
     "text": [
      "Enter passwords : ABd1234@1,a F1#,2w3E*,2We3345\n",
      "ABd1234@1\n"
     ]
    }
   ],
   "source": [
    "import re\n",
    "\n",
    "def password_check(password):\n",
    "    pattern1 = re.compile(r\"[a-z]\")\n",
    "    pattern2 = re.compile(r\"[0-9]\")\n",
    "    pattern3 = re.compile(r\"[A-Z]\")\n",
    "    pattern4 = re.compile(r\"[$#@]\")\n",
    "    size = len(password)\n",
    "    if (pattern1.search(password) and \n",
    "        pattern2.search(password) and \n",
    "        pattern3.search(password) and\n",
    "        pattern4.search(password)):\n",
    "        if(size >= 6 and size <=12):\n",
    "            return True\n",
    "    return False\n",
    "    \n",
    "string = input(\"Enter passwords : \").split(',')\n",
    "for s in string:\n",
    "    if password_check(s):\n",
    "        print(s)\n"
   ]
  }
 ],
 "metadata": {
  "kernelspec": {
   "display_name": "Python 3 (ipykernel)",
   "language": "python",
   "name": "python3"
  },
  "language_info": {
   "codemirror_mode": {
    "name": "ipython",
    "version": 3
   },
   "file_extension": ".py",
   "mimetype": "text/x-python",
   "name": "python",
   "nbconvert_exporter": "python",
   "pygments_lexer": "ipython3",
   "version": "3.9.12"
  }
 },
 "nbformat": 4,
 "nbformat_minor": 5
}
