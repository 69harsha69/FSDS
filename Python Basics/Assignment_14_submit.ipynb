{
 "cells": [
  {
   "cell_type": "markdown",
   "id": "43ad95e9",
   "metadata": {},
   "source": [
    "### 1. What does RGBA stand for?\n",
    "\n",
    "ans: \n",
    "\n",
    "EGBA - Red,Green,Blue,Alpha.This represents a color space "
   ]
  },
  {
   "cell_type": "markdown",
   "id": "16e7ac03",
   "metadata": {},
   "source": [
    "### 2. From the Pillow module, how do you get the RGBA value of any images?\n",
    "\n",
    "ans:\n",
    "\n",
    "when an image is opened using Pillow its usually a 3d image with RGB values.<br>\n",
    "This can be coonverted to rgba image which is 4D image with reach pixels by a tuple of 4 values representing RGBA using \n"
   ]
  },
  {
   "cell_type": "code",
   "execution_count": null,
   "id": "814ca5a6",
   "metadata": {},
   "outputs": [],
   "source": [
    "from PIL import Image\n",
    "  \n",
    "\n",
    "img = Image.open('image.png')\n",
    "rgba = img.convert(\"RGBA\")\n",
    "datas = rgba.getdata() #this contains RGBA values"
   ]
  },
  {
   "cell_type": "markdown",
   "id": "74cd54dc",
   "metadata": {},
   "source": [
    "### 3. What is a box tuple, and how does it work?\n",
    "\n",
    "ans:\n",
    "\n",
    "a box tuple consists of 4 integers,(x,y,w,h) - x-corodinate,yco-ordinate,width and height"
   ]
  },
  {
   "cell_type": "markdown",
   "id": "ad2d81fc",
   "metadata": {},
   "source": [
    "### 4. Use your image and load in notebook then, How can you find out the width and height of an Image object?\n"
   ]
  },
  {
   "cell_type": "code",
   "execution_count": null,
   "id": "0aad29d4",
   "metadata": {},
   "outputs": [],
   "source": [
    "#from the imgae opened aboev\n",
    "img.size ==> (img.width,img.height)"
   ]
  },
  {
   "cell_type": "markdown",
   "id": "58a4b255",
   "metadata": {},
   "source": [
    "### 5. What method would you call to get Image object for a 100×100 image, excluding the lower-left quarter of it?\n",
    "\n",
    "ans:\n",
    "\n",
    "simple crop can be used here.using the alreday loaded image\n",
    "\n",
    "cropped_img = img.crop((0,50,50,50))\n"
   ]
  },
  {
   "cell_type": "markdown",
   "id": "c3eafc90",
   "metadata": {},
   "source": [
    "### 6. After making changes to an Image object, how could you save it as an image file?\n",
    "\n",
    "ans:\n",
    "\n",
    "cropped_img.save(\"new_img.png\")"
   ]
  },
  {
   "cell_type": "markdown",
   "id": "f958bbc0",
   "metadata": {},
   "source": [
    "### 7. What module contains Pillow’s shape-drawing code?\n",
    "\n",
    "ans:\n",
    "\n",
    "#Shape drawing methods<br>\n",
    "from PIL import ImageDraw\n"
   ]
  },
  {
   "cell_type": "markdown",
   "id": "46b8a8cd",
   "metadata": {},
   "source": [
    "### 8.Image objects do not have drawing methods. What kind of object does? How do you get this kind of object?\n",
    "\n",
    "ans:\n",
    "\n",
    "Using an image create a draw object which is your canvas to draw 2d graphics onm it.These ImageDraw objects have inbuilt basic drawing methods which uses points to complete its task.Some of the methods are line(),rectangle(),ellipse(),arc() etc "
   ]
  }
 ],
 "metadata": {
  "kernelspec": {
   "display_name": "Python 3 (ipykernel)",
   "language": "python",
   "name": "python3"
  },
  "language_info": {
   "codemirror_mode": {
    "name": "ipython",
    "version": 3
   },
   "file_extension": ".py",
   "mimetype": "text/x-python",
   "name": "python",
   "nbconvert_exporter": "python",
   "pygments_lexer": "ipython3",
   "version": "3.9.12"
  }
 },
 "nbformat": 4,
 "nbformat_minor": 5
}
