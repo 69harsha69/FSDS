{
 "cells": [
  {
   "cell_type": "markdown",
   "id": "a764ad0e",
   "metadata": {},
   "source": [
    "### 1.Create a function that takes three arguments a, b, c and returns the sum of the numbers that are evenly divided by c from the range a, b inclusive ?\n",
    "    Examples:\n",
    "    evenly_divisible(1, 10, 20) ➞ 0 # No number between 1 and 10 can be evenly divided by 20. evenly_divisible(1, 10, 2) ➞ 30 # 2 + 4 + 6 + 8 + 10 = 30 evenly_divisible(1, 10, 3) ➞ 18 # 3 + 6 + 9 = 18"
   ]
  },
  {
   "cell_type": "code",
   "execution_count": 3,
   "id": "58c125bd",
   "metadata": {},
   "outputs": [
    {
     "name": "stdout",
     "output_type": "stream",
     "text": [
      "0\n",
      "30\n",
      "18\n"
     ]
    }
   ],
   "source": [
    "def evenly_divisible(a,b,c):\n",
    "    l = []\n",
    "    for i in range(a,b+1):\n",
    "        if(i%c == 0):\n",
    "            l.append(i)\n",
    "    return sum(l)\n",
    "\n",
    "print(evenly_divisible(1,10,20))\n",
    "print(evenly_divisible(1,10,2))\n",
    "print(evenly_divisible(1,10,3))\n"
   ]
  },
  {
   "cell_type": "markdown",
   "id": "7bfb7f80",
   "metadata": {},
   "source": [
    "### 2. Create a function that returns True if a given inequality expression is correct and False otherwise.\n",
    "    Examples\n",
    "    correct_signs(\"3 < 7 < 11\") ➞ True\n",
    "    correct_signs(\"13 > 44 > 33 > 1\") ➞ False\n",
    "    correct_signs(\"1 < 2 < 6 < 9 > 3\") ➞ True"
   ]
  },
  {
   "cell_type": "code",
   "execution_count": 5,
   "id": "b68446c9",
   "metadata": {},
   "outputs": [
    {
     "name": "stdout",
     "output_type": "stream",
     "text": [
      "Enter expression3 < 7 < 11\n",
      "3 < 7 < 11 --> True\n",
      "Enter expression13 > 44 > 33 > 1\n",
      "13 > 44 > 33 > 1 --> False\n",
      "Enter expression1 < 2 < 6 < 9 > 3\n",
      "1 < 2 < 6 < 9 > 3 --> True\n"
     ]
    }
   ],
   "source": [
    "def correct_signs():\n",
    "    in_str = input(\"Enter expression: \")\n",
    "    out = eval(in_str)\n",
    "    print(f\"{in_str} --> {out}\")\n",
    "    \n",
    "correct_signs()\n",
    "correct_signs()\n",
    "correct_signs()"
   ]
  },
  {
   "cell_type": "markdown",
   "id": "67d46d66",
   "metadata": {},
   "source": [
    "### 3.Create a function that replaces all the vowels in a string with a specified character ?\n",
    "    Examples:\n",
    "    replace_vowels(\"the aardvark\", \"#\") ➞ \"th# ##rdv#rk\"\n",
    "    replace_vowels(\"minnie mouse\", \"?\") ➞ \"m?nn?? m??s?\"\n",
    "    replace_vowels(\"shakespeare\", \"*\") ➞ \"shksp**r\""
   ]
  },
  {
   "cell_type": "code",
   "execution_count": 7,
   "id": "c4031fb7",
   "metadata": {},
   "outputs": [
    {
     "name": "stdout",
     "output_type": "stream",
     "text": [
      "Enter input string : the aardvark\n",
      "Enter input string : #\n",
      "the aardvark --> th# ##rdv#rk\n",
      "Enter input string : minnie mouse\n",
      "Enter input string : ?\n",
      "minnie mouse --> m?nn?? m??s?\n",
      "Enter input string : shakespeare\n",
      "Enter input string : *\n",
      "shakespeare --> sh*k*sp**r*\n"
     ]
    }
   ],
   "source": [
    "def replace(string,sub):\n",
    "    string_copy = string\n",
    "    vovels = ['a','e','i','o','u']\n",
    "    for i in string:\n",
    "        if i in vovels:\n",
    "            string = string.replace(i,sub)\n",
    "    print(f'{string_copy} --> {string}')\n",
    "          \n",
    "for i in range(3):\n",
    "    string = input(\"Enter input string : \")\n",
    "    sub  = input(\"Enter input string : \")\n",
    "    replace(string,sub)"
   ]
  },
  {
   "cell_type": "markdown",
   "id": "dbb902b0",
   "metadata": {},
   "source": [
    "### 4.Write a function that calculates the factorial of a number recursively ?\n",
    "    Examples:\n",
    "    factorial(5) ➞ 120\n",
    "    factorial(3) ➞ 6\n",
    "    factorial(1) ➞ 1\n",
    "    factorial(0) ➞ 1"
   ]
  },
  {
   "cell_type": "code",
   "execution_count": 8,
   "id": "4dc57051",
   "metadata": {},
   "outputs": [
    {
     "name": "stdout",
     "output_type": "stream",
     "text": [
      "120\n",
      "6\n",
      "1\n",
      "1\n"
     ]
    }
   ],
   "source": [
    "def fact(n):\n",
    "    if(n==1 or n==0):\n",
    "        return 1\n",
    "    return n*fact(n-1)\n",
    "\n",
    "print(fact(5))\n",
    "print(fact(3))\n",
    "print(fact(1))\n",
    "print(fact(0))"
   ]
  },
  {
   "cell_type": "markdown",
   "id": "5649c749",
   "metadata": {},
   "source": [
    "### 5.Hamming distance is the number of characters that differ between two strings ?\n",
    "    To illustrate:\n",
    "        String1: \"abcbba\"\n",
    "        String2: \"abcbda\"\n",
    "        Hamming Distance: 1 - \"b\" vs. \"d\" is the only difference.\n",
    "        Create a function that computes the hamming distance between two strings.\n",
    "        Examples:\n",
    "        hamming_distance(\"abcde\", \"bcdef\") ➞ 5\n",
    "        hamming_distance(\"abcde\", \"abcde\") ➞ 0\n",
    "        hamming_distance(\"strong\", \"strung\") ➞ 1"
   ]
  },
  {
   "cell_type": "code",
   "execution_count": 11,
   "id": "ef4e9e99",
   "metadata": {
    "scrolled": true
   },
   "outputs": [
    {
     "name": "stdout",
     "output_type": "stream",
     "text": [
      "Enter string 1 :abcde\n",
      "Enter string 2 :bcdef\n",
      "hamming distance is 5\n",
      "Enter string 1 :abcde\n",
      "Enter string 2 :abcde\n",
      "hamming distance is 0\n",
      "Enter string 1 :strong\n",
      "Enter string 2 :strung\n",
      "hamming distance is 1\n"
     ]
    }
   ],
   "source": [
    "def ham_dist():\n",
    "    string1 = input(\"Enter string 1 :\")\n",
    "    string2 = input(\"Enter string 2 :\")\n",
    "    if(len(string1) == len(string2)):\n",
    "        count = 0\n",
    "        for i in range(len(string1)):\n",
    "            if string1[i]!=string2[i]:\n",
    "                count+=1\n",
    "        print(f'hamming distance is {count}')\n",
    "    else:\n",
    "        print('Not possible ')\n",
    "        \n",
    "for i in range(3):\n",
    "    ham_dist()"
   ]
  }
 ],
 "metadata": {
  "kernelspec": {
   "display_name": "Python 3 (ipykernel)",
   "language": "python",
   "name": "python3"
  },
  "language_info": {
   "codemirror_mode": {
    "name": "ipython",
    "version": 3
   },
   "file_extension": ".py",
   "mimetype": "text/x-python",
   "name": "python",
   "nbconvert_exporter": "python",
   "pygments_lexer": "ipython3",
   "version": "3.9.12"
  }
 },
 "nbformat": 4,
 "nbformat_minor": 5
}
