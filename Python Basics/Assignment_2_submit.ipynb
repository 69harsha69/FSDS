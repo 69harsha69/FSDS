{
 "cells": [
  {
   "cell_type": "markdown",
   "id": "43ad95e9",
   "metadata": {},
   "source": [
    "### 1.What are the two values of the Boolean data type? How do you write them?\n",
    "\n",
    "ans: \n",
    "\n",
    "boolean is a 1-bit data type usually its binary which is 1(True) or 0(False)"
   ]
  },
  {
   "cell_type": "markdown",
   "id": "16e7ac03",
   "metadata": {},
   "source": [
    "### 2. What are the three different types of Boolean operators?\n",
    "\n",
    "ans:\n",
    "\n",
    "Boolean operators are used to return a Boolean output.\n",
    "* == is an equal to operator used to check equlaity between two datatpes. 1.25 == 1.25 ==> True\n",
    "* and is a logical boolean operator.They require two conditions to compare.If both the conditions are true, only then the resultiung is true.let x=5 , (x>2) and (x<7) ==> true\n",
    "* or is also a logical boolean operatoe.If both the conditions are False, only then the resultiung is False.let x=5 , (x>2) or (x>7) ==> true"
   ]
  },
  {
   "attachments": {
    "QUICK.PNG": {
     "image/png": "[encoded data removed]"
    }
   },
   "cell_type": "markdown",
   "id": "74cd54dc",
   "metadata": {},
   "source": [
    "### 3. Make a list of each Boolean operator's truth tables (i.e. every possible combination of Boolean values for the operator and what it evaluate ).\n",
    "\n",
    "ans:\n",
    "\n",
    "![QUICK.PNG](attachment:QUICK.PNG)"
   ]
  },
  {
   "cell_type": "markdown",
   "id": "ad2d81fc",
   "metadata": {},
   "source": [
    "### 4. What are the values of the following expressions?\n",
    "    (5 > 4) and (3 == 5)\n",
    "    not (5 > 4)\n",
    "    (5 > 4) or (3 == 5)\n",
    "    not ((5 > 4) or (3 == 5))\n",
    "    (True and True) and (True == False)\n",
    "    (not False) or (not True)\n",
    "    \n",
    "ans:\n",
    "\n",
    "**(5 > 4) and (3 == 5)** -> T and F =>F\n",
    "\n",
    "**not (5 > 4)** -> ~T =>F\n",
    "\n",
    "**(5 > 4) or (3 == 5)** -> T or F => T\n",
    "\n",
    "**not ((5 > 4) or (3 == 5))** -> ~(T or F) => F\n",
    "\n",
    "**(True and True) and (True == False)** -> T and F => F\n",
    "\n",
    "**(not False) or (not True)** -> T or F => T\n"
   ]
  },
  {
   "cell_type": "markdown",
   "id": "58a4b255",
   "metadata": {},
   "source": [
    "### 5. What are the six comparison operators?\n",
    "\n",
    "ans:\n",
    "\n",
    "* equality '=='\n",
    "* not qual '!='\n",
    "* greater than '>'\n",
    "* less than '<'\n",
    "* greater than or equal to '>='\n",
    "* less than than or equal to'<='"
   ]
  },
  {
   "cell_type": "markdown",
   "id": "c3eafc90",
   "metadata": {},
   "source": [
    "### 6. How do you tell the difference between the equal to and assignment operators?Describe a condition and when you would use one.\n",
    "\n",
    "ans:\n",
    "\n",
    "assignment operators are used to assign an object of anytype to a varaible.for example spam(var) = 10(int object or value)\n",
    "\n",
    "Equal to operator is used to compare the equality of any two objects.for example:\n",
    "\n",
    "spam1 = 10\n",
    "spam2 = 10.2\n",
    "if spam1==spam2:\n",
    "    print(\"spams are equal\")\n",
    "else:\n",
    "    print(\"spams are not equal\")"
   ]
  },
  {
   "cell_type": "markdown",
   "id": "f958bbc0",
   "metadata": {},
   "source": [
    "### 7. Identify the three blocks in this code:\n",
    "    spam = 0\n",
    "    if spam == 10:\n",
    "        print('eggs')\n",
    "    if spam > 5:\n",
    "        print('bacon')\n",
    "    else:\n",
    "        print('ham')\n",
    "        print('spam')\n",
    "        print('spam')\n",
    "\n",
    "ans:\n",
    "\n",
    "block1 : \n",
    "\n",
    "spam = 0\n",
    "\n",
    "block2 : \n",
    "\n",
    "if spam == 10:\n",
    "   print('eggs')\n",
    "\n",
    "block1 : \n",
    "\n",
    "if spam > 5:\n",
    "    print('bacon')\n",
    "else:\n",
    "    print('ham')\n",
    "    print('spam')\n",
    "    print('spam')"
   ]
  },
  {
   "cell_type": "markdown",
   "id": "46b8a8cd",
   "metadata": {},
   "source": [
    "### 8. Write code that prints Hello if 1 is stored in spam, prints Howdy if 2 is stored in spam, and prints Greetings! if anything else is stored in spam.\n",
    "\n",
    "ans:\n",
    "\n"
   ]
  },
  {
   "cell_type": "code",
   "execution_count": 5,
   "id": "c2461ac5",
   "metadata": {},
   "outputs": [
    {
     "name": "stdout",
     "output_type": "stream",
     "text": [
      "Type 1 or 2 : 2\n"
     ]
    }
   ],
   "source": [
    "spam = int(input(\"Type 1 or 2 : \"))"
   ]
  },
  {
   "cell_type": "code",
   "execution_count": 7,
   "id": "1c94b01b",
   "metadata": {},
   "outputs": [
    {
     "name": "stdout",
     "output_type": "stream",
     "text": [
      "Howdy\n"
     ]
    }
   ],
   "source": [
    "if spam==1:\n",
    "    print(\"Hello\")\n",
    "elif spam == 2:\n",
    "    print(\"Howdy\")\n",
    "else:\n",
    "    print(\"Greetings\")"
   ]
  },
  {
   "cell_type": "markdown",
   "id": "3677d491",
   "metadata": {},
   "source": [
    "### 9.If your programme is stuck in an endless loop, what keys you’ll press?\n",
    "\n",
    "ans:\n",
    "\n",
    "ctrl+c can be used to break out of loop externally.Internally a break statemnt can be used to avoid infinite looping\n"
   ]
  },
  {
   "cell_type": "markdown",
   "id": "b83bf6d5",
   "metadata": {},
   "source": [
    "### 10. How can you tell the difference between break and continue?\n",
    "\n",
    "ans:\n",
    "\n",
    "in a loop if we encounter a break it comes out of loop.But for continue it just skips the statements after continue for that step and loop for net step continues\n",
    "\n",
    "ex:\n"
   ]
  },
  {
   "cell_type": "code",
   "execution_count": 9,
   "id": "64ee2eb9",
   "metadata": {},
   "outputs": [
    {
     "name": "stdout",
     "output_type": "stream",
     "text": [
      "0 1 2 3 4 "
     ]
    }
   ],
   "source": [
    "#here when 5 is encountered it comes out of loop\n",
    "for i in range(10):\n",
    "    if(i==5):\n",
    "        break\n",
    "    print(i ,end= \" \")"
   ]
  },
  {
   "cell_type": "code",
   "execution_count": 11,
   "id": "74e6139a",
   "metadata": {},
   "outputs": [
    {
     "name": "stdout",
     "output_type": "stream",
     "text": [
      "0 1 2 3 4 6 7 8 9 "
     ]
    }
   ],
   "source": [
    "#here when 5 is encountered it goes to the next stpe of the loop skipping the current one\n",
    "for i in range(10):\n",
    "    if(i==5):\n",
    "        continue\n",
    "    print(i ,end= \" \")"
   ]
  },
  {
   "cell_type": "markdown",
   "id": "9783e4eb",
   "metadata": {},
   "source": [
    "### 11. In a for loop, what is the difference between range(10), range(0, 10), and range(0, 10, 1)?\n",
    "\n",
    "ans:\n",
    "\n",
    "* range(10) and range(0,10) and range(0,10,1) all are same\n",
    "* range(0,10) has starting and ending integer limit with default increment as 1\n",
    "* range(0, 10, 1) has starting and ending integer limit with increment as 1"
   ]
  },
  {
   "cell_type": "markdown",
   "id": "16114925",
   "metadata": {},
   "source": [
    "### 12. Write a short program that prints the numbers 1 to 10 using a for loop. Then write an equivalent program that prints the numbers 1 to 10 using a while loop.\n",
    "\n",
    "ans:\n",
    "\n"
   ]
  },
  {
   "cell_type": "code",
   "execution_count": 14,
   "id": "f54444f5",
   "metadata": {},
   "outputs": [
    {
     "name": "stdout",
     "output_type": "stream",
     "text": [
      "1 2 3 4 5 6 7 8 9 10 "
     ]
    }
   ],
   "source": [
    "for i in range(1,11):\n",
    "    print(i ,end= \" \")"
   ]
  },
  {
   "cell_type": "code",
   "execution_count": 16,
   "id": "efb17c74",
   "metadata": {},
   "outputs": [
    {
     "name": "stdout",
     "output_type": "stream",
     "text": [
      "1 2 3 4 5 6 7 8 9 10 "
     ]
    }
   ],
   "source": [
    "i=1\n",
    "while(True):\n",
    "    print(i,end= \" \")\n",
    "    i+=1\n",
    "    if(i>10):\n",
    "        break\n",
    "        "
   ]
  },
  {
   "cell_type": "markdown",
   "id": "bc55223b",
   "metadata": {},
   "source": [
    "### 13. If you had a function named bacon() inside a module named spam, how would you call it after importing spam?\n",
    "\n",
    "ans: '.' is sually used for calling funcitons from a module?\n",
    "\n",
    "import spam\n",
    "\n",
    "#calling bacon\n",
    "\n",
    "spam.bacon()"
   ]
  }
 ],
 "metadata": {
  "kernelspec": {
   "display_name": "Python 3 (ipykernel)",
   "language": "python",
   "name": "python3"
  },
  "language_info": {
   "codemirror_mode": {
    "name": "ipython",
    "version": 3
   },
   "file_extension": ".py",
   "mimetype": "text/x-python",
   "name": "python",
   "nbconvert_exporter": "python",
   "pygments_lexer": "ipython3",
   "version": "3.9.12"
  }
 },
 "nbformat": 4,
 "nbformat_minor": 5
}
