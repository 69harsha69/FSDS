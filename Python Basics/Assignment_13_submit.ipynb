{
 "cells": [
  {
   "cell_type": "markdown",
   "id": "ae32cc84",
   "metadata": {},
   "source": [
    "### 1. What advantages do Excel spreadsheets have over CSV spreadsheets?"
   ]
  },
  {
   "cell_type": "markdown",
   "id": "8680f1db",
   "metadata": {},
   "source": [
    "ans:\n",
    "\n",
    "* Can be password protected\n",
    "* As they store data in tabular format its easy to comprehend and understand\n",
    "* VBA coding is availalbe"
   ]
  },
  {
   "cell_type": "markdown",
   "id": "f4cf674b",
   "metadata": {},
   "source": [
    "### 2.What do you pass to csv.reader() and csv.writer() to create reader and writer objects?\n"
   ]
  },
  {
   "cell_type": "code",
   "execution_count": null,
   "id": "6c1ab834",
   "metadata": {},
   "outputs": [],
   "source": [
    "import csv\n",
    "#reader object file object\n",
    "with open('example.csv', 'r') as file:\n",
    "    reader = csv.reader(file)\n",
    "\n",
    "#reader object file object\n",
    "with open('example.csv', 'w') as file:\n",
    "    writer = csv.writer(file)\n",
    " "
   ]
  },
  {
   "cell_type": "markdown",
   "id": "8927a8f2",
   "metadata": {},
   "source": [
    "### 3. What modes do File objects for reader and writer objects need to be opened in?"
   ]
  },
  {
   "cell_type": "markdown",
   "id": "67df0343",
   "metadata": {},
   "source": [
    "'r' - read mode and 'w' - write mode respectively"
   ]
  },
  {
   "cell_type": "markdown",
   "id": "bb7c7214",
   "metadata": {},
   "source": [
    "### 4. What method takes a list argument and writes it to a CSV file?"
   ]
  },
  {
   "cell_type": "markdown",
   "id": "69002329",
   "metadata": {},
   "source": [
    "ans:\n",
    "    \n",
    "a list of elements can be given to writer object <br>\n",
    "writer.writerow(list)"
   ]
  },
  {
   "cell_type": "markdown",
   "id": "ec3e86a8",
   "metadata": {},
   "source": [
    "### 5. What do the keyword arguments delimiter and line terminator do?"
   ]
  },
  {
   "cell_type": "markdown",
   "id": "096feab4",
   "metadata": {},
   "source": [
    "\n",
    "ans:\n",
    "\n",
    "csv raw format is a string where each row is joined with a line terminator and each cell in a row is joined with the delimiter"
   ]
  },
  {
   "cell_type": "markdown",
   "id": "21ff2f40",
   "metadata": {},
   "source": [
    "### 6. What function takes a string of JSON data and returns a Python data structure?"
   ]
  },
  {
   "cell_type": "markdown",
   "id": "1b4f4673",
   "metadata": {},
   "source": [
    "ans:\n",
    "    \n",
    "a python dictionary is returned when json.load(jsonstring) is executed"
   ]
  },
  {
   "cell_type": "markdown",
   "id": "b67df13d",
   "metadata": {},
   "source": [
    "### 7. What function takes a Python data structure and returns a string of JSON data?"
   ]
  },
  {
   "cell_type": "markdown",
   "id": "8b0424aa",
   "metadata": {},
   "source": [
    "ans:\n",
    "\n",
    "json.dumps(dictionary) returns a json string from a dictionary in python"
   ]
  }
 ],
 "metadata": {
  "kernelspec": {
   "display_name": "Python 3 (ipykernel)",
   "language": "python",
   "name": "python3"
  },
  "language_info": {
   "codemirror_mode": {
    "name": "ipython",
    "version": 3
   },
   "file_extension": ".py",
   "mimetype": "text/x-python",
   "name": "python",
   "nbconvert_exporter": "python",
   "pygments_lexer": "ipython3",
   "version": "3.9.12"
  }
 },
 "nbformat": 4,
 "nbformat_minor": 5
}
