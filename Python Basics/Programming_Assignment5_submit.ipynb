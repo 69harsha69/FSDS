{
 "cells": [
  {
   "cell_type": "markdown",
   "id": "30ccbb68",
   "metadata": {},
   "source": [
    "### Write a Python Program to Find LCM?"
   ]
  },
  {
   "cell_type": "code",
   "execution_count": 9,
   "id": "0eefa5c7",
   "metadata": {},
   "outputs": [
    {
     "name": "stdout",
     "output_type": "stream",
     "text": [
      "enter any two integer values: 2 11\n",
      "22\n"
     ]
    }
   ],
   "source": [
    "#Least common factor\n",
    "#the least number which is multiple by both numbers\n",
    "#the number must be greater than or equal to greatest number\n",
    "#and less than or equal to product of both numbers\n",
    "\n",
    "\n",
    "def lcm(a,b):\n",
    "    high = max(a,b)\n",
    "    low = min(a,b)\n",
    "    #iterating by factor of high which means divisible by high\n",
    "    for i in range(high,high*low+1,high):\n",
    "        #check dvisible by low\n",
    "        if i%low ==0:\n",
    "            return i\n",
    "\n",
    "n1,n2 = map(int,input(\"enter any two integer values: \").split(\" \"))\n",
    "print(lcm(n1,n2))"
   ]
  },
  {
   "cell_type": "markdown",
   "id": "1e2a01b4",
   "metadata": {},
   "source": [
    "### Write a Python Program to Find HCF?"
   ]
  },
  {
   "cell_type": "code",
   "execution_count": 10,
   "id": "f52f98ec",
   "metadata": {},
   "outputs": [
    {
     "name": "stdout",
     "output_type": "stream",
     "text": [
      "enter any two integer values: 18 24\n",
      "6\n"
     ]
    }
   ],
   "source": [
    "#gcd of 2 numbers\n",
    "#greatest number which can divide both numbers\n",
    "#assuming a<b \n",
    "#gcd(a,b) = gcd(b%a)\n",
    "\n",
    "\n",
    "def hcf(a,b):\n",
    "    if a==0:\n",
    "        return b\n",
    "    return hcf(b%a,a)\n",
    "\n",
    "n1,n2 = map(int,input(\"enter any two integer values: \").split(\" \"))\n",
    "print(hcf(n1,n2))"
   ]
  },
  {
   "cell_type": "markdown",
   "id": "1f799a5d",
   "metadata": {},
   "source": [
    "### 3. Write a Python Program to Convert Decimal to Binary, Octal and Hexadecimal?"
   ]
  },
  {
   "cell_type": "code",
   "execution_count": 12,
   "id": "31a14bf5",
   "metadata": {},
   "outputs": [
    {
     "name": "stdout",
     "output_type": "stream",
     "text": [
      "binary form of 56 is 111000\n",
      "binary form of 56 is 38\n",
      "binary form of 56 is 70\n"
     ]
    }
   ],
   "source": [
    "def convert(n):\n",
    "    print(f\"binary form of {n} is {bin(n)[2:]}\")\n",
    "    print(f\"binary form of {n} is {hex(n)[2:]}\")\n",
    "    print(f\"binary form of {n} is {oct(n)[2:]}\")\n",
    "    \n",
    "convert(56)"
   ]
  },
  {
   "cell_type": "markdown",
   "id": "2c577e18",
   "metadata": {},
   "source": [
    "### 4.Write a Python Program To Find ASCII value of a character?"
   ]
  },
  {
   "cell_type": "code",
   "execution_count": 13,
   "id": "fae6883e",
   "metadata": {},
   "outputs": [
    {
     "name": "stdout",
     "output_type": "stream",
     "text": [
      "ASCII value of the character g is 103\n"
     ]
    }
   ],
   "source": [
    "def ascivalue(char):\n",
    "    if len(char)!=1:\n",
    "        print(f\"please enter a single character\")\n",
    "    else:\n",
    "        print(f\"ASCII value of the character {char} is {ord(char)}\")\n",
    "    \n",
    "ascivalue('g')"
   ]
  },
  {
   "cell_type": "markdown",
   "id": "1775af9c",
   "metadata": {},
   "source": [
    "### 5. Write a Python Program to Make a Simple Calculator with 4 basic mathematical operations?"
   ]
  },
  {
   "cell_type": "code",
   "execution_count": 2,
   "id": "93dc6f6e",
   "metadata": {
    "scrolled": true
   },
   "outputs": [
    {
     "name": "stdout",
     "output_type": "stream",
     "text": [
      "calculator started ....\n",
      "enter two numbers 23 56\n",
      "enter the operation among '+','-','*','/'+\n",
      "23 + 56 = 79\n",
      "Do you want to continue 0/1?1\n",
      "enter two numbers 13 345\n",
      "enter the operation among '+','-','*','/'*\n",
      "13 * 345 = 4485\n",
      "Do you want to continue 0/1?1\n",
      "enter two numbers 234 0\n",
      "enter the operation among '+','-','*','/'/\n",
      "Failed due to division by zero for (234, 0) values\n",
      "Do you want to continue 0/1?0\n"
     ]
    }
   ],
   "source": [
    "def calculator():\n",
    "    print(\"calculator started ....\")\n",
    "    cont = 1\n",
    "    while(cont):\n",
    "        try:\n",
    "            a,b = map(int,input(\"enter two numbers \").split(\" \"))\n",
    "            operation = input(\"enter the operation among '+','-','*','/'\")    \n",
    "            if operation == '+':\n",
    "                print(f\"{a} + {b} = {a+b}\")\n",
    "            elif operation == '-':\n",
    "                print(f\"{a} - {b} = {a-b}\")\n",
    "            elif operation == '*':\n",
    "                print(f\"{a} * {b} = {a*b}\")\n",
    "            elif operation == '/':\n",
    "                print(f\"{a} / {b} = {a/b}\")\n",
    "            else:\n",
    "                print(f\"\")\n",
    "        except Exception as e:\n",
    "            print(f\"Failed due to {e} for {a,b} values\")\n",
    "        finally:\n",
    "            cont = int(input(\"Do you want to continue 0/1?\"))\n",
    "            \n",
    "calculator()"
   ]
  }
 ],
 "metadata": {
  "kernelspec": {
   "display_name": "Python 3 (ipykernel)",
   "language": "python",
   "name": "python3"
  },
  "language_info": {
   "codemirror_mode": {
    "name": "ipython",
    "version": 3
   },
   "file_extension": ".py",
   "mimetype": "text/x-python",
   "name": "python",
   "nbconvert_exporter": "python",
   "pygments_lexer": "ipython3",
   "version": "3.9.12"
  }
 },
 "nbformat": 4,
 "nbformat_minor": 5
}
