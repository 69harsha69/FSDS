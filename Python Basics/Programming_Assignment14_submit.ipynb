{
 "cells": [
  {
   "cell_type": "markdown",
   "id": "30ccbb68",
   "metadata": {},
   "source": [
    "### Define a class with a generator which can iterate the numbers, which are divisible by 7, between a given range 0 and n."
   ]
  },
  {
   "cell_type": "code",
   "execution_count": 5,
   "id": "0eefa5c7",
   "metadata": {
    "scrolled": true
   },
   "outputs": [
    {
     "name": "stdout",
     "output_type": "stream",
     "text": [
      "0\n",
      "7\n",
      "14\n",
      "21\n",
      "28\n",
      "35\n",
      "42\n",
      "49\n",
      "56\n",
      "63\n",
      "70\n",
      "77\n",
      "84\n",
      "91\n",
      "98\n"
     ]
    }
   ],
   "source": [
    "class gen:\n",
    "    def __init__(self,n):\n",
    "        self.n = n\n",
    "    def byseven(self):\n",
    "        for i in range(self.n):\n",
    "            if i%7==0:\n",
    "                yield i\n",
    "                \n",
    "g = gen(100)\n",
    "for nums in g.byseven():\n",
    "    print(nums)"
   ]
  },
  {
   "cell_type": "markdown",
   "id": "1e2a01b4",
   "metadata": {},
   "source": [
    "### Write a program to compute the frequency of the words from the input. The output should output after sorting the key alphanumerically.\n",
    "\n",
    "###    Suppose the following input is supplied to the program:\n",
    "\n",
    "#### New to Python or choosing between Python 2 and Python 3? Read Python 2 or Python 3.Then, the output should be:\n",
    "\n",
    "    2:2\n",
    "    3.:1\n",
    "    3?:1\n",
    "    New:1\n",
    "    Python:5\n",
    "    Read:1\n",
    "    and:1\n",
    "    between:1\n",
    "    choosing:1\n",
    "    or:2\n",
    "    to:1"
   ]
  },
  {
   "cell_type": "code",
   "execution_count": 8,
   "id": "f52f98ec",
   "metadata": {
    "scrolled": true
   },
   "outputs": [
    {
     "data": {
      "text/plain": [
       "Counter({'2': 2,\n",
       "         '3.': 1,\n",
       "         '3?': 1,\n",
       "         'New': 1,\n",
       "         'Python': 5,\n",
       "         'Read': 1,\n",
       "         'and': 1,\n",
       "         'between': 1,\n",
       "         'choosing': 1,\n",
       "         'or': 2,\n",
       "         'to': 1})"
      ]
     },
     "execution_count": 8,
     "metadata": {},
     "output_type": "execute_result"
    }
   ],
   "source": [
    "from collections import Counter\n",
    "\n",
    "inp = \"New to Python or choosing between Python 2 and Python 3? Read Python 2 or Python 3.\".split(\" \")\n",
    "Counter(sorted(inp))"
   ]
  },
  {
   "cell_type": "markdown",
   "id": "1f799a5d",
   "metadata": {},
   "source": [
    "### Define a class Person and its two child classes: Male and Female. All classes have a method &quot;getGender&quot; which can print &quot;Male&quot; for Male class and &quot;Female&quot; for Female class."
   ]
  },
  {
   "cell_type": "code",
   "execution_count": 9,
   "id": "31a14bf5",
   "metadata": {},
   "outputs": [
    {
     "name": "stdout",
     "output_type": "stream",
     "text": [
      "Male\n",
      "Female\n"
     ]
    }
   ],
   "source": [
    "class Person:\n",
    "    def getGender(self):\n",
    "        print()\n",
    "\n",
    "class Male(Person):\n",
    "    def getGender(self):\n",
    "        print(\"Male\")\n",
    "\n",
    "class Female(Person):\n",
    "    def getGender(self):\n",
    "        print(\"Female\")\n",
    "\n",
    "p1 = Male()\n",
    "p1.getGender()\n",
    "p2 = Female()\n",
    "p2.getGender()"
   ]
  },
  {
   "cell_type": "markdown",
   "id": "2c577e18",
   "metadata": {},
   "source": [
    "### 4.Please write a program to generate all sentences where subject is in [&quot;I&quot;, &quot;You&quot;] and verb is in [&quot;Play&quot;, &quot;Love&quot;] and the object is in [&quot;Hockey&quot;,&quot;Football&quot;]."
   ]
  },
  {
   "cell_type": "code",
   "execution_count": 11,
   "id": "fae6883e",
   "metadata": {},
   "outputs": [
    {
     "name": "stdout",
     "output_type": "stream",
     "text": [
      "I Play Hockey\n",
      "I Play Football\n",
      "I Love Hockey\n",
      "I Love Football\n",
      "You Play Hockey\n",
      "You Play Football\n",
      "You Love Hockey\n",
      "You Love Football\n"
     ]
    }
   ],
   "source": [
    "def combinations(a,b,c):\n",
    "    for i in a:\n",
    "        for j in b:\n",
    "            for k in c:\n",
    "                print(f\"{i} {j} {k}\")\n",
    "    \n",
    "subjects = [\"I\", \"You\"]\n",
    "verbs = [\"Play\", \"Love\"]\n",
    "objects = [\"Hockey\",\"Football\"]\n",
    "combinations(subjects,verbs,objects)"
   ]
  },
  {
   "cell_type": "markdown",
   "id": "1775af9c",
   "metadata": {},
   "source": [
    "### 5.Please write a program to compress and decompress the string &quot;hello world!hello world!hello world!hello world!&quot;."
   ]
  },
  {
   "cell_type": "code",
   "execution_count": 24,
   "id": "93dc6f6e",
   "metadata": {
    "scrolled": true
   },
   "outputs": [
    {
     "name": "stdout",
     "output_type": "stream",
     "text": [
      "brfore compressing its size is  97\n",
      "After compressing its size is  56\n",
      "b'hello world!hello world!hello world!hello world!'\n"
     ]
    }
   ],
   "source": [
    "import zlib,sys\n",
    "\n",
    "s = \"hello world!hello world!hello world!hello world!\"\n",
    "print(\"brfore compressing its size is \",sys.getsizeof(s))\n",
    "comp_s = zlib.compress(s.encode())\n",
    "\n",
    "print(\"After compressing its size is \",sys.getsizeof(comp_s))\n",
    "decomp_s = zlib.decompress(comp_s)\n",
    "print(decomp_s)\n"
   ]
  },
  {
   "cell_type": "markdown",
   "id": "f06a9eaf",
   "metadata": {},
   "source": [
    "### 6.Please write a binary search function which searches an item in a sorted list. The function should return the index of element to be searched in the list."
   ]
  },
  {
   "cell_type": "code",
   "execution_count": 28,
   "id": "50564796",
   "metadata": {},
   "outputs": [
    {
     "name": "stdout",
     "output_type": "stream",
     "text": [
      "1\n"
     ]
    }
   ],
   "source": [
    "def bs(arr,l,r,n):\n",
    "    if r>=l:\n",
    "        mid = (l+r)//2\n",
    "        if arr[mid]>n:\n",
    "            return bs(arr,l,mid-1,n)\n",
    "        elif arr[mid]<n:\n",
    "            return bs(arr,mid+1,r,n)\n",
    "        else:\n",
    "            return mid\n",
    "    else:\n",
    "        return -1\n",
    "    \n",
    "l = [1,2,3,4,5,6,7,8]\n",
    "print(bs(l,0,len(l)-1,2))"
   ]
  }
 ],
 "metadata": {
  "kernelspec": {
   "display_name": "Python 3 (ipykernel)",
   "language": "python",
   "name": "python3"
  },
  "language_info": {
   "codemirror_mode": {
    "name": "ipython",
    "version": 3
   },
   "file_extension": ".py",
   "mimetype": "text/x-python",
   "name": "python",
   "nbconvert_exporter": "python",
   "pygments_lexer": "ipython3",
   "version": "3.9.12"
  }
 },
 "nbformat": 4,
 "nbformat_minor": 5
}
