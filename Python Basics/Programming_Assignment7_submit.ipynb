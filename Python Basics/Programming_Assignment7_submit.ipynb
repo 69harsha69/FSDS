{
 "cells": [
  {
   "cell_type": "markdown",
   "id": "30ccbb68",
   "metadata": {},
   "source": [
    "### 1. Write a Python Program to find sum of array?"
   ]
  },
  {
   "cell_type": "code",
   "execution_count": 5,
   "id": "0eefa5c7",
   "metadata": {},
   "outputs": [
    {
     "name": "stdout",
     "output_type": "stream",
     "text": [
      "enter the size of the array to generate10\n",
      "[34, 25, 26, 18, 95, 97, 90, 60, 50, 85]\n",
      "sum is 580\n",
      "sum with inbuilt function is 580\n"
     ]
    }
   ],
   "source": [
    "import random\n",
    "\n",
    "def array_sum(arr):\n",
    "    s = 0\n",
    "    for i in range(len(arr)):\n",
    "        s+=arr[i]\n",
    "    return s\n",
    "\n",
    "n = int(input(\"enter the size of the array to generate\"))\n",
    "array = [random.randint(1,100) for i in range(n)]\n",
    "print(array)\n",
    "print(f\"sum is {array_sum(array)}\")\n",
    "print(f\"sum with inbuilt function is {sum(array)}\")"
   ]
  },
  {
   "cell_type": "markdown",
   "id": "1e2a01b4",
   "metadata": {},
   "source": [
    "### 2. Write a Python Program to find largest element in an array?"
   ]
  },
  {
   "cell_type": "code",
   "execution_count": 7,
   "id": "f52f98ec",
   "metadata": {},
   "outputs": [
    {
     "name": "stdout",
     "output_type": "stream",
     "text": [
      "enter the size of the array to generate10\n",
      "[38, 72, 66, 92, 100, 11, 4, 64, 12, 25]\n",
      "max element is 100\n",
      "max element with inbuilt function is 100\n"
     ]
    }
   ],
   "source": [
    "from math import inf\n",
    "def max_ele(arr):\n",
    "    ele = -inf\n",
    "    for i in range(len(arr)):\n",
    "        if(arr[i]>ele):\n",
    "            ele = arr[i]\n",
    "    return ele\n",
    "\n",
    "n = int(input(\"enter the size of the array to generate\"))\n",
    "array = [random.randint(1,100) for i in range(n)]\n",
    "print(array)\n",
    "print(f\"max element is {max_ele(array)}\")\n",
    "print(f\"max element with inbuilt function is {max(array)}\")"
   ]
  },
  {
   "cell_type": "markdown",
   "id": "1f799a5d",
   "metadata": {},
   "source": [
    "### 3. Write a Python Program for array rotation?"
   ]
  },
  {
   "cell_type": "code",
   "execution_count": 67,
   "id": "31a14bf5",
   "metadata": {},
   "outputs": [
    {
     "name": "stdout",
     "output_type": "stream",
     "text": [
      "enter the size of the array to generate10\n",
      "enter no of rotations3\n",
      "[6, 9, 1, 5, 9, 5, 9, 10, 8, 9]\n",
      "rotated array 3 times is [10, 8, 9, 6, 9, 1, 5, 9, 5, 9]\n"
     ]
    }
   ],
   "source": [
    "def reverse(arr,i,j):\n",
    "    j-=1\n",
    "    while(i<=j):\n",
    "        temp = arr[i]\n",
    "        arr[i] = arr[j]\n",
    "        arr[j] = temp\n",
    "        i+=1\n",
    "        j-=1\n",
    "    return arr\n",
    "\n",
    "def rotate(arr,k):\n",
    "    k = k%len(arr)\n",
    "    arr = reverse(arr,0,len(arr)-k)\n",
    "    arr = reverse(arr,len(arr)-k,len(arr))\n",
    "    arr = reverse(arr,0,len(arr))\n",
    "    return arr\n",
    "    \n",
    "    \n",
    "n = int(input(\"enter the size of the array to generate\"))\n",
    "k = int(input(\"enter no of rotations\"))\n",
    "array = [random.randint(1,10) for i in range(n)]\n",
    "print(array)\n",
    "print(f\"rotated array {k} times is {rotate(array,k)}\")"
   ]
  },
  {
   "cell_type": "markdown",
   "id": "2c577e18",
   "metadata": {},
   "source": [
    "### 4. Write a Python Program to Split the array and add the first part to the end?"
   ]
  },
  {
   "cell_type": "code",
   "execution_count": 71,
   "id": "fae6883e",
   "metadata": {},
   "outputs": [
    {
     "name": "stdout",
     "output_type": "stream",
     "text": [
      "enter the size of the array to generate10\n",
      "enter first part length2\n",
      "[10, 10, 5, 8, 2, 7, 8, 8, 4, 6]\n",
      "shifted first 2 elements to end :  [5, 8, 2, 7, 8, 8, 4, 6, 10, 10]\n"
     ]
    }
   ],
   "source": [
    "def split_arry(arr,k):\n",
    "    arr = arr[k:]+arr[0:k]\n",
    "    return arr\n",
    "\n",
    "n = int(input(\"enter the size of the array to generate\"))\n",
    "k = int(input(\"enter first part length\"))\n",
    "array = [random.randint(1,10) for i in range(n)]\n",
    "print(array)\n",
    "print(f\"shifted first {k} elements to end :  {split_arry(array,k)}\")"
   ]
  },
  {
   "cell_type": "markdown",
   "id": "1775af9c",
   "metadata": {},
   "source": [
    "### 5. Write a Python Program to check if given array is Monotonic?"
   ]
  },
  {
   "cell_type": "code",
   "execution_count": 76,
   "id": "93dc6f6e",
   "metadata": {
    "scrolled": true
   },
   "outputs": [],
   "source": [
    "def monotonic(array):\n",
    "    if array[0] < array[1]:\n",
    "        print(\"checking for increasing monotonic\")\n",
    "        for i in range(len(array)-1):\n",
    "            if array[i] > array[i+1]:\n",
    "                return False\n",
    "        return True\n",
    "    elif array[0] > array[1]:\n",
    "        print(\"checking for decreasing monotonic\")\n",
    "        for i in range(len(array)-1):\n",
    "            if array[i] < array[i+1]:\n",
    "                return False\n",
    "        return True\n",
    "    else:\n",
    "        print(\"array has repeated elements\")\n",
    "        return False"
   ]
  },
  {
   "cell_type": "code",
   "execution_count": 77,
   "id": "26a20eef",
   "metadata": {},
   "outputs": [
    {
     "name": "stdout",
     "output_type": "stream",
     "text": [
      "checking for increasing monotonic\n",
      "True\n",
      "checking for decreasing monotonic\n",
      "True\n",
      "array has repeated elements\n",
      "False\n"
     ]
    }
   ],
   "source": [
    "arr = [1,2,34,56,100]\n",
    "arr1 = [234,120,56,6,1]\n",
    "arr2 = [234,234,56,6,1]\n",
    "\n",
    "print(monotonic(arr))\n",
    "print(monotonic(arr1))\n",
    "print(monotonic(arr2))"
   ]
  }
 ],
 "metadata": {
  "kernelspec": {
   "display_name": "Python 3 (ipykernel)",
   "language": "python",
   "name": "python3"
  },
  "language_info": {
   "codemirror_mode": {
    "name": "ipython",
    "version": 3
   },
   "file_extension": ".py",
   "mimetype": "text/x-python",
   "name": "python",
   "nbconvert_exporter": "python",
   "pygments_lexer": "ipython3",
   "version": "3.9.12"
  }
 },
 "nbformat": 4,
 "nbformat_minor": 5
}
