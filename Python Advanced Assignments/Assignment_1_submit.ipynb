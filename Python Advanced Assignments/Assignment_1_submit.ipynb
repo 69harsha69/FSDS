{
 "cells": [
  {
   "cell_type": "markdown",
   "id": "942401c5",
   "metadata": {},
   "source": [
    "#### Q1. What is the purpose of Python's OOP?"
   ]
  },
  {
   "cell_type": "markdown",
   "id": "df45dbb2",
   "metadata": {},
   "source": [
    "Object oriented programming is a structured way of writing programs where properties are bundled into classes.Thus multiple instances of an objcect belonging to a certain classes can be created without rewriting the code.Easy to maintain and modify"
   ]
  },
  {
   "cell_type": "markdown",
   "id": "7cfcf3e9",
   "metadata": {},
   "source": [
    "#### Q2. Where does an inheritance search look for an attribute?\n",
    " Python searches for an attribute in an upward tree of attributes. it first searches for the attribute in its instance and then looks in the class it is generated from, to all super classes listed in its class header"
   ]
  },
  {
   "cell_type": "markdown",
   "id": "096d7b0b",
   "metadata": {},
   "source": [
    "#### Q3. How do you distinguish between a class object and an instance object?"
   ]
  },
  {
   "cell_type": "markdown",
   "id": "81086bd0",
   "metadata": {},
   "source": [
    "* class is a blueprint and objects are instances of the class\n",
    "* for every object created memory is allocated as per the rules of the class\n"
   ]
  },
  {
   "cell_type": "markdown",
   "id": "fd8cc6bc",
   "metadata": {},
   "source": [
    "#### Q4. What makes the first argument in a class’s method function special?"
   ]
  },
  {
   "cell_type": "markdown",
   "id": "55add6d5",
   "metadata": {},
   "source": [
    "Class method is similar to an instance method.It has class object passes as its first argument.**`self`** is first argument for instance methods.**`cls`** is first argument for class methods.3 types of methods in python classes are \n",
    "- Instance Methods (object level methods)\n",
    "- Class Methods (class level methods)\n",
    "- Static Methods (general utility methods)"
   ]
  },
  {
   "cell_type": "markdown",
   "id": "94de0426",
   "metadata": {},
   "source": [
    "#### Q5. What is the purpose of the __init__ method?\n"
   ]
  },
  {
   "cell_type": "markdown",
   "id": "f7ef177c",
   "metadata": {},
   "source": [
    "It plays the role of constructor.init is called when an object is created and is used to initialize the attributes of class"
   ]
  },
  {
   "cell_type": "markdown",
   "id": "3e47943f",
   "metadata": {},
   "source": [
    "#### Q6. What is the process for creating a class instance?\n"
   ]
  },
  {
   "cell_type": "markdown",
   "id": "6caeb304",
   "metadata": {},
   "source": [
    "class instance is an object and arguments of init needs to be passed while creating"
   ]
  },
  {
   "cell_type": "code",
   "execution_count": 4,
   "id": "931c8d3b",
   "metadata": {},
   "outputs": [],
   "source": [
    "class test:\n",
    "    def __init__(self,a,b):\n",
    "        self.a = a\n",
    "        self.b = b\n",
    "obj = test(1,\"hi\") #instance of class, a=1,b='hi' attributes of test class"
   ]
  },
  {
   "cell_type": "markdown",
   "id": "8ddf33a9",
   "metadata": {},
   "source": [
    "#### Q7. What is the process for creating a class?"
   ]
  },
  {
   "cell_type": "markdown",
   "id": "bd165915",
   "metadata": {},
   "source": [
    "from the above example class key word is used to create a class and name of the class followed by it."
   ]
  },
  {
   "cell_type": "markdown",
   "id": "b58c55d6",
   "metadata": {},
   "source": [
    "#### Q8. How would you define the superclasses of a class?"
   ]
  },
  {
   "cell_type": "markdown",
   "id": "c3fd55be",
   "metadata": {},
   "source": [
    "Its given as an argument to child class to inherit the attributes and properties from a parent or superclass"
   ]
  }
 ],
 "metadata": {
  "kernelspec": {
   "display_name": "Python 3 (ipykernel)",
   "language": "python",
   "name": "python3"
  },
  "language_info": {
   "codemirror_mode": {
    "name": "ipython",
    "version": 3
   },
   "file_extension": ".py",
   "mimetype": "text/x-python",
   "name": "python",
   "nbconvert_exporter": "python",
   "pygments_lexer": "ipython3",
   "version": "3.9.12"
  }
 },
 "nbformat": 4,
 "nbformat_minor": 5
}
