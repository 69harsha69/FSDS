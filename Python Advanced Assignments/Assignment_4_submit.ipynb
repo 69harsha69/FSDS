{
 "cells": [
  {
   "cell_type": "markdown",
   "id": "4c06fa86",
   "metadata": {},
   "source": [
    "#### Q1. Which two operator overloading methods can you use in your classes to support iteration?"
   ]
  },
  {
   "cell_type": "markdown",
   "id": "e2305733",
   "metadata": {},
   "source": [
    "**`__iter__`** and **`__next__`** can be used to support an iteration.\n",
    "\n",
    "- **`__iter__`** returns the iterator object\n",
    "- **`__next__`** returns the incremented value."
   ]
  },
  {
   "cell_type": "code",
   "execution_count": 9,
   "id": "90a386ed",
   "metadata": {},
   "outputs": [
    {
     "name": "stdout",
     "output_type": "stream",
     "text": [
      "0 1 2 3 4 5 0\n",
      "1\n",
      "2\n"
     ]
    }
   ],
   "source": [
    "class range_class:\n",
    "    def __init__(self,b,a=0):\n",
    "        self.l = a\n",
    "        self.r = b\n",
    "    def __iter__(self):\n",
    "        return self\n",
    "    def __next__(self):\n",
    "        if self.l > self.r:\n",
    "            raise StopIteration\n",
    "        else:\n",
    "            self.l += 1\n",
    "            return self.l - 1\n",
    "for i in range_class(5):\n",
    "    print(i, end=\" \")\n",
    "    \n",
    "r = range_class(10)\n",
    "print(r.__next__())\n",
    "print(r.__next__())\n",
    "print(r.__next__())"
   ]
  },
  {
   "cell_type": "markdown",
   "id": "0b3e5985",
   "metadata": {},
   "source": [
    "#### Q2. In what contexts do the two operator overloading methods manage printing?\n"
   ]
  },
  {
   "cell_type": "markdown",
   "id": "ab540b05",
   "metadata": {},
   "source": [
    "**`__str__`** and **`__repr__`** are two operator overloading methods that manage printing."
   ]
  },
  {
   "cell_type": "code",
   "execution_count": 16,
   "id": "a1217f1e",
   "metadata": {},
   "outputs": [
    {
     "name": "stdout",
     "output_type": "stream",
     "text": [
      "copy of range keyword\n",
      "[0, 1, 2, 3, 4, 5, 6]\n"
     ]
    }
   ],
   "source": [
    "class range_class:\n",
    "    def __init__(self,b,a=0):\n",
    "        self.l = a\n",
    "        self.r = b\n",
    "    def __str__(self):\n",
    "        return \"copy of range keyword\"\n",
    "    def __repr__(self):\n",
    "        l = [i for i in range(self.l,self.r)]\n",
    "        return str(l)\n",
    "    def __iter__(self):\n",
    "        return self\n",
    "    def __next__(self):\n",
    "        if self.l > self.r:\n",
    "            raise StopIteration\n",
    "        else:\n",
    "            self.l += 1\n",
    "            return self.l - 1\n",
    "\n",
    "r = range_class(7)\n",
    "print(r)\n",
    "print(repr(r))"
   ]
  },
  {
   "cell_type": "markdown",
   "id": "776e9c16",
   "metadata": {},
   "source": [
    "#### Q3. In a class, how do you intercept slice operations?"
   ]
  },
  {
   "cell_type": "markdown",
   "id": "b2511bfe",
   "metadata": {},
   "source": [
    "In a class use of `slice()` in `__getitem__` method is used for intercept slice operation. This slice method is provided with start integer number, stop integer number and step integer number. "
   ]
  },
  {
   "cell_type": "markdown",
   "id": "1960c808",
   "metadata": {},
   "source": [
    "#### Q4. In a class, how do you capture in-place addition?"
   ]
  },
  {
   "cell_type": "markdown",
   "id": "0d09754d",
   "metadata": {},
   "source": [
    "**`a+b`** is normal addition. Whereas **`a+=b`** is inplace addition operation. In this in-place addition **`a`** itself will store the value of addition. In a class **`__iadd__`** method is used for this in-place operation"
   ]
  },
  {
   "cell_type": "code",
   "execution_count": 17,
   "id": "89e37d51",
   "metadata": {},
   "outputs": [
    {
     "name": "stdout",
     "output_type": "stream",
     "text": [
      "11\n"
     ]
    }
   ],
   "source": [
    "class Book:\n",
    "    def __init__(self,pages):\n",
    "        self.pages = pages\n",
    "    def __iadd__(self,other):\n",
    "        self.pages += other.pages\n",
    "        return self.pages\n",
    "        \n",
    "b1 = Book(5)\n",
    "b2 = Book(6)\n",
    "b1+=b2\n",
    "print(b1)"
   ]
  },
  {
   "cell_type": "markdown",
   "id": "341416c2",
   "metadata": {},
   "source": [
    "#### Q5. When is it appropriate to use operator overloading?"
   ]
  },
  {
   "cell_type": "markdown",
   "id": "a078512d",
   "metadata": {},
   "source": [
    "When we want to have different meaning for the same operator accroding to the context we use operator overloading."
   ]
  }
 ],
 "metadata": {
  "kernelspec": {
   "display_name": "Python 3 (ipykernel)",
   "language": "python",
   "name": "python3"
  },
  "language_info": {
   "codemirror_mode": {
    "name": "ipython",
    "version": 3
   },
   "file_extension": ".py",
   "mimetype": "text/x-python",
   "name": "python",
   "nbconvert_exporter": "python",
   "pygments_lexer": "ipython3",
   "version": "3.9.12"
  }
 },
 "nbformat": 4,
 "nbformat_minor": 5
}
