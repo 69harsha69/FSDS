{
 "cells": [
  {
   "cell_type": "markdown",
   "id": "91f50838",
   "metadata": {},
   "source": [
    "#### Q1. What is the relationship between classes and modules?"
   ]
  },
  {
   "cell_type": "markdown",
   "id": "140d46ec",
   "metadata": {},
   "source": [
    "Class is like a blurprint required to create a set of objects.Any number of objects can be created where each object is an instance of the class.\n",
    "\n",
    "Any python program file ending with **`. py`** can be called as a Module.This file can have any number of classes or methods which can be imported in other programs."
   ]
  },
  {
   "cell_type": "markdown",
   "id": "92be3b82",
   "metadata": {},
   "source": [
    "#### Q2. How do you make instances and classes?"
   ]
  },
  {
   "cell_type": "markdown",
   "id": "407f6f3c",
   "metadata": {},
   "source": [
    "class instance is an object and arguments of init needs to be passed while creating"
   ]
  },
  {
   "cell_type": "code",
   "execution_count": 1,
   "id": "15963307",
   "metadata": {},
   "outputs": [],
   "source": [
    "class test:\n",
    "    def __init__(self,a,b):\n",
    "        self.a = a\n",
    "        self.b = b\n",
    "obj = test(1,\"hi\") #instance of class, a=1,b='hi' attributes of test class"
   ]
  },
  {
   "cell_type": "markdown",
   "id": "4cfb843c",
   "metadata": {},
   "source": [
    "#### Q3. Where and how should be class attributes created?"
   ]
  },
  {
   "cell_type": "markdown",
   "id": "9bf660ad",
   "metadata": {},
   "source": [
    "Class attributes belong to class itself.Class attributes should be created inside the class itself which are shared by all instances of the respective class.These are usually created in the constructor where the initial attributes are assigned."
   ]
  },
  {
   "cell_type": "markdown",
   "id": "47c44e75",
   "metadata": {},
   "source": [
    "#### Q4. Where and how are instance attributes created?"
   ]
  },
  {
   "cell_type": "markdown",
   "id": "6d6ab013",
   "metadata": {},
   "source": [
    "Instances attributes are passed to the class when an object of the class is created. Unlike class attributes, instance attributes are not shared by all objects of the classs. instead each object maintains its own copy of instance attributes at object level."
   ]
  },
  {
   "cell_type": "code",
   "execution_count": 2,
   "id": "e44f6069",
   "metadata": {},
   "outputs": [],
   "source": [
    "#this is and example for q3 and q2\n",
    "class test: \n",
    "    def __init__(self,a,b): #a,b are argumetns and self.a and self.b are class attributes\n",
    "        self.a = a\n",
    "        self.b = b\n",
    "obj = test(1,\"hi\") #instance of class, a=1,b='hi' attributes of test class"
   ]
  },
  {
   "cell_type": "markdown",
   "id": "0ed28045",
   "metadata": {},
   "source": [
    "#### Q5. What does the term \"self\" in a Python class mean?"
   ]
  },
  {
   "cell_type": "markdown",
   "id": "42bcbc66",
   "metadata": {},
   "source": [
    "self represents instance of class.So every attribute and method belonging to a class is called by self. representing the ownership of them to the class."
   ]
  },
  {
   "cell_type": "markdown",
   "id": "f58ed1f8",
   "metadata": {},
   "source": [
    "#### Q6. How does a Python class handle operator overloading?"
   ]
  },
  {
   "cell_type": "markdown",
   "id": "3d305242",
   "metadata": {},
   "source": [
    "Overloading is providing extended meaning beyond their predefined operational meaning.Python classes handle this by special methods called **magic methods**.They start and end with **`__`**\n",
    "- `+ -> __add__()`\n",
    "- `- -> __sub__()`\n",
    "- `* -> __mul__()`\n",
    "- `/ -> __div__()`"
   ]
  },
  {
   "cell_type": "code",
   "execution_count": 3,
   "id": "60294cc1",
   "metadata": {},
   "outputs": [
    {
     "name": "stdout",
     "output_type": "stream",
     "text": [
      "4 + i6\n"
     ]
    }
   ],
   "source": [
    "class complex_num:\n",
    "    def __init__(self,real,i):\n",
    "        self.real = real\n",
    "        self.imag = i\n",
    "    def show(self):\n",
    "        print(f\"{self.real} + i{self.imag}\")\n",
    "    def __add__(self,other):\n",
    "        real_sum = self.real+other.real\n",
    "        imag_sum = self.imag+other.imag\n",
    "        return complex_num(real_sum,imag_sum)\n",
    "    \n",
    "n1 = complex_num(1,2)\n",
    "n2 = complex_num(3,4)\n",
    "n3 = n1+n2\n",
    "n3.show()"
   ]
  },
  {
   "cell_type": "markdown",
   "id": "439d9d7e",
   "metadata": {},
   "source": [
    "#### Q7. When do you consider allowing operator overloading of your classes?"
   ]
  },
  {
   "cell_type": "markdown",
   "id": "660b8895",
   "metadata": {},
   "source": [
    "When we want to have different meaning for the same operator accroding to the context we use operator overloading.\n",
    "\n",
    "In the above example i can make the add operation do the substraction"
   ]
  },
  {
   "cell_type": "markdown",
   "id": "0cd1ea24",
   "metadata": {},
   "source": [
    "#### Q8. What is the most popular form of operator overloading?"
   ]
  },
  {
   "cell_type": "markdown",
   "id": "61ed80b6",
   "metadata": {},
   "source": [
    "The most popular form of operator overloading in python is by special methods called **Magic methods**. Which usually beign and end with double underscore."
   ]
  },
  {
   "cell_type": "markdown",
   "id": "3ff6f7f0",
   "metadata": {},
   "source": [
    "#### Q9. What are the two most important concepts to grasp in order to comprehend Python OOP code?"
   ]
  },
  {
   "cell_type": "markdown",
   "id": "58c89a89",
   "metadata": {},
   "source": [
    "Classes and object concepts need to be grasped in order to comprehend Python OOP code"
   ]
  }
 ],
 "metadata": {
  "kernelspec": {
   "display_name": "Python 3 (ipykernel)",
   "language": "python",
   "name": "python3"
  },
  "language_info": {
   "codemirror_mode": {
    "name": "ipython",
    "version": 3
   },
   "file_extension": ".py",
   "mimetype": "text/x-python",
   "name": "python",
   "nbconvert_exporter": "python",
   "pygments_lexer": "ipython3",
   "version": "3.9.12"
  }
 },
 "nbformat": 4,
 "nbformat_minor": 5
}
