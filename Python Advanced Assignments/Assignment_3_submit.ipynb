{
 "cells": [
  {
   "cell_type": "markdown",
   "id": "6d38e68b",
   "metadata": {},
   "source": [
    "#### 1. What is the concept of an abstract superclass?"
   ]
  },
  {
   "cell_type": "markdown",
   "id": "b2fe2d0b",
   "metadata": {},
   "source": [
    "An abstract class is a blurprint for other calsses.  It allows you to create a set of methods that must be created within any child classes built from the abstract class. A class which contains one or more abstract methods is called an abstract class."
   ]
  },
  {
   "cell_type": "code",
   "execution_count": 3,
   "id": "2def685b",
   "metadata": {},
   "outputs": [
    {
     "name": "stdout",
     "output_type": "stream",
     "text": [
      "3\n",
      "4\n",
      "Variable\n"
     ]
    }
   ],
   "source": [
    "from abc import ABC, abstractmethod\n",
    "#Abstract Base Class\n",
    "class Vehicles(ABC):\n",
    "    @abstractmethod\n",
    "    def wheels(self): #abstarct method\n",
    "        print(\"No of wheels : \")\n",
    "    \n",
    "class Auto(Vehicles):\n",
    "    def wheels(self):\n",
    "        print(3)\n",
    "        \n",
    "class Car(Vehicles):\n",
    "    def wheels(self):\n",
    "        print(4)\n",
    "        \n",
    "class trucks(Vehicles):\n",
    "    def wheels(self):\n",
    "        print(\"Variable\")\n",
    "        \n",
    "a = Auto()\n",
    "c = Car()\n",
    "l = trucks()\n",
    "\n",
    "a.wheels()\n",
    "c.wheels()\n",
    "l.wheels()"
   ]
  },
  {
   "cell_type": "markdown",
   "id": "e4a49a25",
   "metadata": {},
   "source": [
    "#### 2. What happens when a class statement's top level contains a basic assignment statement?"
   ]
  },
  {
   "cell_type": "markdown",
   "id": "cb7e4234",
   "metadata": {},
   "source": [
    "Above init any assignement represent class attributes or variable."
   ]
  },
  {
   "cell_type": "code",
   "execution_count": 4,
   "id": "c5d88b4d",
   "metadata": {},
   "outputs": [],
   "source": [
    "class Person:\n",
    "    species = 'Homesapiens' # class attribute\n",
    "    def __init__(self,name,gender):\n",
    "        self.name = name # instance attributes\n",
    "        self.gender = gender"
   ]
  },
  {
   "cell_type": "markdown",
   "id": "beb231b3",
   "metadata": {},
   "source": [
    "#### 3. Why does a class need to manually call a superclass's __init__ method?"
   ]
  },
  {
   "cell_type": "markdown",
   "id": "f3c12562",
   "metadata": {},
   "source": [
    "Child inherits all the instance attributes of a parent class but if any additional attributes are there **`__init__`** method is called again in such cases manually **`super()`** method is called"
   ]
  },
  {
   "cell_type": "code",
   "execution_count": 6,
   "id": "d30162f0",
   "metadata": {},
   "outputs": [
    {
     "name": "stdout",
     "output_type": "stream",
     "text": [
      "{'name': 'Vivek', 'age': 28, 'salary': 20000}\n"
     ]
    }
   ],
   "source": [
    "class Person:\n",
    "    def __init__(self,name,age):\n",
    "        self.name = name\n",
    "        self.age = age       \n",
    "class Employee(Person):\n",
    "    def __init__(self,name,age,salary):\n",
    "        super().__init__(name,age)\n",
    "        self.salary = salary\n",
    "emp_1 = Employee('Vivek',28,20000)\n",
    "print(emp_1.__dict__)"
   ]
  },
  {
   "cell_type": "markdown",
   "id": "f7468111",
   "metadata": {},
   "source": [
    "#### 4. How can you augment, instead of completely replacing, an inherited method?"
   ]
  },
  {
   "cell_type": "markdown",
   "id": "41377e66",
   "metadata": {},
   "source": [
    "**`super()`** method can be used to augment, instead of completely replacing, an inherited method."
   ]
  },
  {
   "cell_type": "markdown",
   "id": "16559793",
   "metadata": {},
   "source": [
    "#### 5. How is the local scope of a class different from that of a function?"
   ]
  },
  {
   "cell_type": "markdown",
   "id": "b9df605f",
   "metadata": {},
   "source": [
    "A funciton created inside class is local inside the class.When an object is created of the respective class the local class funciton can be accessed outside its scope by using a dor operator from the object varaible."
   ]
  }
 ],
 "metadata": {
  "kernelspec": {
   "display_name": "Python 3 (ipykernel)",
   "language": "python",
   "name": "python3"
  },
  "language_info": {
   "codemirror_mode": {
    "name": "ipython",
    "version": 3
   },
   "file_extension": ".py",
   "mimetype": "text/x-python",
   "name": "python",
   "nbconvert_exporter": "python",
   "pygments_lexer": "ipython3",
   "version": "3.9.12"
  }
 },
 "nbformat": 4,
 "nbformat_minor": 5
}
